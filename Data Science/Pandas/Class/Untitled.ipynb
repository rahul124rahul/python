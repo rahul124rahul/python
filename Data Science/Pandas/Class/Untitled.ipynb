{
 "cells": [
  {
   "cell_type": "markdown",
   "id": "7ba65e2e-44ac-4798-974a-3a9c560c14dc",
   "metadata": {},
   "source": [
    "# Data Visualization"
   ]
  },
  {
   "cell_type": "code",
   "execution_count": 2,
   "id": "6af31262-178f-4882-91f6-6fabbc101e25",
   "metadata": {},
   "outputs": [],
   "source": [
    "# Data Visualization is a graphical representation of informtion and data."
   ]
  },
  {
   "cell_type": "code",
   "execution_count": 3,
   "id": "fd986bd7-9e77-4f45-b910-143ad65c2ba2",
   "metadata": {},
   "outputs": [],
   "source": [
    "# Visual elements like charts, graphs, and maps, data visualization tools provide an accessible way to see and understand trends,\n",
    "# outliers, and patterns in data."
   ]
  },
  {
   "cell_type": "code",
   "execution_count": 4,
   "id": "a8e20eb0-4657-4de4-9642-a276bd62e488",
   "metadata": {},
   "outputs": [],
   "source": [
    "\n",
    "# Types of Data Visualization in Python\n",
    "\n",
    "# Plotting libraries\n",
    "\n",
    "# - Matplotlib: Low level, provides lots of freedom.\n",
    "# - Pandas Visualization: Easy-to-use interface, built on Matlotlib.\n",
    "# - Seaborn: High-level interface, great difficult styles.\n",
    "# - ggplot: based on R's ggplot2, uses Grammer of Graphics.\n",
    "# - Plotly: can create interactive plots.\n"
   ]
  },
  {
   "cell_type": "code",
   "execution_count": 5,
   "id": "6f1840dc-83ed-4eee-b3ab-751bccc13d97",
   "metadata": {},
   "outputs": [],
   "source": [
    "# Matplotlib is a plotting library for the Python programming language and its numerical mathematics extension NumPy.\n",
    "# Matplotlib is a Python library used for Data Visualization.\n",
    "# Matplotlib is 2D & 3D plotting python library.\n",
    "# It was introduced by john hunter in the year 2002."
   ]
  },
  {
   "cell_type": "code",
   "execution_count": 6,
   "id": "e79c7bb2-0b46-4b31-aba7-d52deff32936",
   "metadata": {},
   "outputs": [],
   "source": [
    "# Matplotlib Graphs\n",
    "\n",
    "#  - Linear Plot\n",
    "#  - Scatter Plot\n",
    "#  - Bar Plot\n",
    "#  - Stem Plot\n",
    "#  - Step Plot\n",
    "#  - Hist Plot\n",
    "#  - Box Plot\n",
    "#  - Pie Plot\n",
    "#  - Fill Between Plot"
   ]
  },
  {
   "cell_type": "code",
   "execution_count": null,
   "id": "924b1176-90dc-4065-96c9-91a6eada75fd",
   "metadata": {},
   "outputs": [],
   "source": []
  }
 ],
 "metadata": {
  "kernelspec": {
   "display_name": "Python 3 (ipykernel)",
   "language": "python",
   "name": "python3"
  },
  "language_info": {
   "codemirror_mode": {
    "name": "ipython",
    "version": 3
   },
   "file_extension": ".py",
   "mimetype": "text/x-python",
   "name": "python",
   "nbconvert_exporter": "python",
   "pygments_lexer": "ipython3",
   "version": "3.11.5"
  }
 },
 "nbformat": 4,
 "nbformat_minor": 5
}
