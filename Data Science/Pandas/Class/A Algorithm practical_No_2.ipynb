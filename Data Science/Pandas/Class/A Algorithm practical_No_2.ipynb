{
 "cells": [
  {
   "cell_type": "markdown",
   "id": "11ca620b-4d2b-4857-b9a4-1aba28e15856",
   "metadata": {},
   "source": [
    "# Practical NO 2"
   ]
  },
  {
   "cell_type": "markdown",
   "id": "e0af555d-adc3-443c-b99b-6c4c67f05287",
   "metadata": {},
   "source": [
    "# A* Algorithm"
   ]
  },
  {
   "cell_type": "code",
   "execution_count": 1,
   "id": "39523ffe-5103-4254-bd12-3a38d16e6555",
   "metadata": {},
   "outputs": [],
   "source": [
    "import heapq\n",
    "def astar(start, goal, graph, heuristic):\n",
    "    \"\"\"\n",
    "    A* algorithm implementation.\n",
    "    Args:\n",
    "        start: Start node.\n",
    "        goal: Goal node.\n",
    "        graph: Graph represented as a dictionary of dictionaries.\n",
    "        heuristic: Heuristic function.\n",
    "    Returns:\n",
    "        Path from start to goal.\n",
    "    \"\"\"\n",
    "    # Initialize open and closed lists.\n",
    "    open_list = [(0, start)]\n",
    "    closed_list = set()\n",
    "    # Initialize g-scores and parents.\n",
    "    g_scores = {start: 0}\n",
    "    parents = {start: None}\n",
    "    while open_list:\n",
    "        # Get node with lowest f-score.\n",
    "        f_score, current = heapq.heappop(open_list)\n",
    "        # Check if goal node is reached.\n",
    "        if current == goal:\n",
    "            path = []\n",
    "            while current:\n",
    "                path.append(current)\n",
    "                current = parents[current]\n",
    "            return path[::-1]\n",
    "        # Add current node to closed list.\n",
    "        closed_list.add(current)\n",
    "        # Explore neighbors.\n",
    "        for neighbor in graph[current]:\n",
    "            # Ignore neighbors in closed list.\n",
    "            if neighbor in closed_list:\n",
    "                continue\n",
    "            # Calculate tentative g-score.\n",
    "            tentative_g_score = g_scores[current] + graph[current][neighbor]\n",
    "            # Add neighbor to open list if not already in it.\n",
    "            if neighbor not in [n[1] for n in open_list]:\n",
    "                heapq.heappush(open_list, (tentative_g_score + heuristic(neighbor, goal), neighbor))\n",
    "            # Update neighbor's g-score if new path is better.\n",
    "            elif tentative_g_score < g_scores[neighbor]:\n",
    "                index = [n[1] for n in open_list].index(neighbor)\n",
    "                open_list[index] = (tentative_g_score + heuristic(neighbor, goal), neighbor)\n",
    "            # Update parent and g-score.\n",
    "            parents[neighbor] = current\n",
    "            g_scores[neighbor] = tentative_g_score\n",
    "    # No path found.\n",
    "    return None"
   ]
  },
  {
   "cell_type": "code",
   "execution_count": 2,
   "id": "e69c85ce-91c0-452e-af1a-e3a9a256164e",
   "metadata": {},
   "outputs": [
    {
     "name": "stdout",
     "output_type": "stream",
     "text": [
      "['A', 'C', 'F', 'G']\n"
     ]
    }
   ],
   "source": [
    "# Example graph.\n",
    "graph = {\n",
    "    'A': {'B': 5, 'C': 10},\n",
    "    'B': {'D': 15, 'E': 20},\n",
    "    'C': {'F': 5},\n",
    "    'D': {'G': 25},\n",
    "    'E': {'G': 20},\n",
    "    'F': {'G': 10},\n",
    "    'G': {}\n",
    "}\n",
    "# Heuristic function.\n",
    "def heuristic(node, goal):\n",
    "    h_scores = {\n",
    "        'A': 35,\n",
    "        'B': 30,\n",
    "        'C': 25,\n",
    "        'D': 20,\n",
    "        'E': 15,\n",
    "        'F': 10,\n",
    "        'G': 0\n",
    "    }\n",
    "    return h_scores[node]\n",
    "# Find path from A to G.\n",
    "path = astar('A', 'G', graph, heuristic)\n",
    "print(path)"
   ]
  },
  {
   "cell_type": "code",
   "execution_count": null,
   "id": "9d0db2e6-33d2-4ccb-a9b3-207a096e0128",
   "metadata": {},
   "outputs": [],
   "source": []
  }
 ],
 "metadata": {
  "kernelspec": {
   "display_name": "Python 3 (ipykernel)",
   "language": "python",
   "name": "python3"
  },
  "language_info": {
   "codemirror_mode": {
    "name": "ipython",
    "version": 3
   },
   "file_extension": ".py",
   "mimetype": "text/x-python",
   "name": "python",
   "nbconvert_exporter": "python",
   "pygments_lexer": "ipython3",
   "version": "3.11.5"
  }
 },
 "nbformat": 4,
 "nbformat_minor": 5
}
