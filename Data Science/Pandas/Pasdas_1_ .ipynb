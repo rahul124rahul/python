{
 "cells": [
  {
   "cell_type": "markdown",
   "id": "d8421b55-2dd7-427e-9329-d545732bbe05",
   "metadata": {},
   "source": [
    "# Pandas"
   ]
  },
  {
   "cell_type": "code",
   "execution_count": 4,
   "id": "9dc30ff2-fef3-4044-8a64-36d2d2fd7271",
   "metadata": {},
   "outputs": [],
   "source": [
    "import pandas as pd\n",
    "import numpy as np"
   ]
  },
  {
   "cell_type": "code",
   "execution_count": 5,
   "id": "d8542c32",
   "metadata": {},
   "outputs": [],
   "source": [
    "s = pd.Series([1,2,3,4,5,6,np.nan,8,9,10])"
   ]
  },
  {
   "cell_type": "code",
   "execution_count": 6,
   "id": "618ae398",
   "metadata": {},
   "outputs": [
    {
     "data": {
      "text/plain": [
       "0     1.0\n",
       "1     2.0\n",
       "2     3.0\n",
       "3     4.0\n",
       "4     5.0\n",
       "5     6.0\n",
       "6     NaN\n",
       "7     8.0\n",
       "8     9.0\n",
       "9    10.0\n",
       "dtype: float64"
      ]
     },
     "execution_count": 6,
     "metadata": {},
     "output_type": "execute_result"
    }
   ],
   "source": [
    "s"
   ]
  },
  {
   "cell_type": "code",
   "execution_count": 7,
   "id": "01cd2507",
   "metadata": {},
   "outputs": [],
   "source": [
    "d = pd.date_range('20200301' , periods=10)"
   ]
  },
  {
   "cell_type": "code",
   "execution_count": 8,
   "id": "5bb1dc6d",
   "metadata": {},
   "outputs": [
    {
     "data": {
      "text/plain": [
       "DatetimeIndex(['2020-03-01', '2020-03-02', '2020-03-03', '2020-03-04',\n",
       "               '2020-03-05', '2020-03-06', '2020-03-07', '2020-03-08',\n",
       "               '2020-03-09', '2020-03-10'],\n",
       "              dtype='datetime64[ns]', freq='D')"
      ]
     },
     "execution_count": 8,
     "metadata": {},
     "output_type": "execute_result"
    }
   ],
   "source": [
    "d"
   ]
  },
  {
   "cell_type": "code",
   "execution_count": 9,
   "id": "ffc67c99",
   "metadata": {},
   "outputs": [],
   "source": [
    "df = pd.DataFrame(np.random.randn(10,4) , index=d , columns= ['A','B','C',\"D\"]);"
   ]
  },
  {
   "cell_type": "code",
   "execution_count": 10,
   "id": "3391c848",
   "metadata": {},
   "outputs": [
    {
     "data": {
      "text/html": [
       "<div>\n",
       "<style scoped>\n",
       "    .dataframe tbody tr th:only-of-type {\n",
       "        vertical-align: middle;\n",
       "    }\n",
       "\n",
       "    .dataframe tbody tr th {\n",
       "        vertical-align: top;\n",
       "    }\n",
       "\n",
       "    .dataframe thead th {\n",
       "        text-align: right;\n",
       "    }\n",
       "</style>\n",
       "<table border=\"1\" class=\"dataframe\">\n",
       "  <thead>\n",
       "    <tr style=\"text-align: right;\">\n",
       "      <th></th>\n",
       "      <th>A</th>\n",
       "      <th>B</th>\n",
       "      <th>C</th>\n",
       "      <th>D</th>\n",
       "    </tr>\n",
       "  </thead>\n",
       "  <tbody>\n",
       "    <tr>\n",
       "      <th>2020-03-01</th>\n",
       "      <td>-0.048481</td>\n",
       "      <td>1.373941</td>\n",
       "      <td>-0.061756</td>\n",
       "      <td>0.313286</td>\n",
       "    </tr>\n",
       "    <tr>\n",
       "      <th>2020-03-02</th>\n",
       "      <td>0.258935</td>\n",
       "      <td>1.225932</td>\n",
       "      <td>0.604611</td>\n",
       "      <td>-0.851172</td>\n",
       "    </tr>\n",
       "    <tr>\n",
       "      <th>2020-03-03</th>\n",
       "      <td>-0.229794</td>\n",
       "      <td>-1.315740</td>\n",
       "      <td>-1.088582</td>\n",
       "      <td>-1.006230</td>\n",
       "    </tr>\n",
       "    <tr>\n",
       "      <th>2020-03-04</th>\n",
       "      <td>0.759031</td>\n",
       "      <td>-0.834957</td>\n",
       "      <td>0.172446</td>\n",
       "      <td>2.907744</td>\n",
       "    </tr>\n",
       "    <tr>\n",
       "      <th>2020-03-05</th>\n",
       "      <td>1.991439</td>\n",
       "      <td>0.413961</td>\n",
       "      <td>-0.973123</td>\n",
       "      <td>0.451159</td>\n",
       "    </tr>\n",
       "    <tr>\n",
       "      <th>2020-03-06</th>\n",
       "      <td>1.479635</td>\n",
       "      <td>-0.498897</td>\n",
       "      <td>-0.631784</td>\n",
       "      <td>1.226247</td>\n",
       "    </tr>\n",
       "    <tr>\n",
       "      <th>2020-03-07</th>\n",
       "      <td>1.284775</td>\n",
       "      <td>0.997731</td>\n",
       "      <td>-1.624936</td>\n",
       "      <td>-0.073151</td>\n",
       "    </tr>\n",
       "    <tr>\n",
       "      <th>2020-03-08</th>\n",
       "      <td>-1.488539</td>\n",
       "      <td>-1.489156</td>\n",
       "      <td>0.676271</td>\n",
       "      <td>-0.194674</td>\n",
       "    </tr>\n",
       "    <tr>\n",
       "      <th>2020-03-09</th>\n",
       "      <td>-0.872462</td>\n",
       "      <td>0.693820</td>\n",
       "      <td>0.732632</td>\n",
       "      <td>1.344377</td>\n",
       "    </tr>\n",
       "    <tr>\n",
       "      <th>2020-03-10</th>\n",
       "      <td>-0.180891</td>\n",
       "      <td>-1.033047</td>\n",
       "      <td>0.004493</td>\n",
       "      <td>0.320334</td>\n",
       "    </tr>\n",
       "  </tbody>\n",
       "</table>\n",
       "</div>"
      ],
      "text/plain": [
       "                   A         B         C         D\n",
       "2020-03-01 -0.048481  1.373941 -0.061756  0.313286\n",
       "2020-03-02  0.258935  1.225932  0.604611 -0.851172\n",
       "2020-03-03 -0.229794 -1.315740 -1.088582 -1.006230\n",
       "2020-03-04  0.759031 -0.834957  0.172446  2.907744\n",
       "2020-03-05  1.991439  0.413961 -0.973123  0.451159\n",
       "2020-03-06  1.479635 -0.498897 -0.631784  1.226247\n",
       "2020-03-07  1.284775  0.997731 -1.624936 -0.073151\n",
       "2020-03-08 -1.488539 -1.489156  0.676271 -0.194674\n",
       "2020-03-09 -0.872462  0.693820  0.732632  1.344377\n",
       "2020-03-10 -0.180891 -1.033047  0.004493  0.320334"
      ]
     },
     "execution_count": 10,
     "metadata": {},
     "output_type": "execute_result"
    }
   ],
   "source": [
    "df"
   ]
  },
  {
   "cell_type": "code",
   "execution_count": null,
   "id": "e1f722e6",
   "metadata": {},
   "outputs": [],
   "source": []
  }
 ],
 "metadata": {
  "kernelspec": {
   "display_name": "Python 3 (ipykernel)",
   "language": "python",
   "name": "python3"
  },
  "language_info": {
   "codemirror_mode": {
    "name": "ipython",
    "version": 3
   },
   "file_extension": ".py",
   "mimetype": "text/x-python",
   "name": "python",
   "nbconvert_exporter": "python",
   "pygments_lexer": "ipython3",
   "version": "3.11.4"
  }
 },
 "nbformat": 4,
 "nbformat_minor": 5
}
