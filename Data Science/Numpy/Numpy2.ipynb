{
 "cells": [
  {
   "cell_type": "markdown",
   "id": "d9c5ac44-0b6f-4c65-a179-193867b01d5d",
   "metadata": {},
   "source": [
    "# Shape"
   ]
  },
  {
   "cell_type": "code",
   "execution_count": 1,
   "id": "7ac75721-d364-4860-8b48-3e5f15886a19",
   "metadata": {},
   "outputs": [],
   "source": [
    "import numpy as np"
   ]
  },
  {
   "cell_type": "code",
   "execution_count": 2,
   "id": "ddf7b1f2-cac5-4a81-aa8b-0deaf2c40f33",
   "metadata": {},
   "outputs": [],
   "source": [
    "var = np.array([[1,2],[2,3]])"
   ]
  },
  {
   "cell_type": "code",
   "execution_count": 3,
   "id": "06e4d27c-5b41-4334-bb92-d2735f804c8c",
   "metadata": {},
   "outputs": [
    {
     "name": "stdout",
     "output_type": "stream",
     "text": [
      "[[1 2]\n",
      " [2 3]]\n",
      "(2, 2)\n"
     ]
    }
   ],
   "source": [
    "print(var)\n",
    "print(var.shape)"
   ]
  },
  {
   "cell_type": "code",
   "execution_count": 4,
   "id": "880aed47-3f34-4eba-901c-6b24799c37c1",
   "metadata": {},
   "outputs": [
    {
     "name": "stdout",
     "output_type": "stream",
     "text": [
      "[[[[[1 2 3 4 5]]]]]\n",
      "(1, 1, 1, 1, 5)\n"
     ]
    }
   ],
   "source": [
    "v1 = np.array([1,2,3,4,5],ndmin=5)\n",
    "print(v1)\n",
    "print(v1.shape)"
   ]
  },
  {
   "cell_type": "code",
   "execution_count": 5,
   "id": "a96d39cf-ba2f-4373-b1b0-424de5fa565a",
   "metadata": {},
   "outputs": [
    {
     "name": "stdout",
     "output_type": "stream",
     "text": [
      "5\n"
     ]
    }
   ],
   "source": [
    "print(v1.ndim)"
   ]
  },
  {
   "cell_type": "markdown",
   "id": "03d8e271-1feb-4cae-9bf7-524305977b22",
   "metadata": {},
   "source": [
    "# Reshape"
   ]
  },
  {
   "cell_type": "code",
   "execution_count": 6,
   "id": "4fc8265b-41c7-4d01-a1bb-388e163f3cbb",
   "metadata": {},
   "outputs": [
    {
     "name": "stdout",
     "output_type": "stream",
     "text": [
      "[1 2 3 4 5 6]\n",
      "\n",
      "[[1 2 3]\n",
      " [4 5 6]]\n",
      "\n",
      "[[1 2]\n",
      " [3 4]\n",
      " [5 6]]\n"
     ]
    }
   ],
   "source": [
    "v = np.array([1,2,3,4,5,6])\n",
    "print(v)\n",
    "print()\n",
    "r = v.reshape(2,3)\n",
    "print(r)\n",
    "\n",
    "r2 = r.reshape(3,2)\n",
    "print()\n",
    "print(r2)"
   ]
  },
  {
   "cell_type": "code",
   "execution_count": 7,
   "id": "1ff1bb39-55e1-4e01-aed0-6f8e23edc6f7",
   "metadata": {},
   "outputs": [
    {
     "name": "stdout",
     "output_type": "stream",
     "text": [
      "[ 1  2  3  4  5  6  7  8  9 11 12 12]\n",
      "\n",
      "[[[ 1  2]\n",
      "  [ 3  4]]\n",
      "\n",
      " [[ 5  6]\n",
      "  [ 7  8]]\n",
      "\n",
      " [[ 9 11]\n",
      "  [12 12]]]\n"
     ]
    }
   ],
   "source": [
    "a = np.array([1,2,3,4,5,6,7,8,9,11,12,12])\n",
    "c=a.reshape(3,2,2)\n",
    "print(a)\n",
    "print()\n",
    "print(c)"
   ]
  },
  {
   "cell_type": "code",
   "execution_count": 8,
   "id": "dbd20d47-1cb9-4bc6-a4fc-2d5964e9cbbc",
   "metadata": {},
   "outputs": [
    {
     "name": "stdout",
     "output_type": "stream",
     "text": [
      "3\n"
     ]
    }
   ],
   "source": [
    "print(c.ndim)"
   ]
  },
  {
   "cell_type": "code",
   "execution_count": 9,
   "id": "b4edc5a7-e532-4b44-8786-5436e12ea995",
   "metadata": {},
   "outputs": [
    {
     "data": {
      "text/plain": [
       "1"
      ]
     },
     "execution_count": 9,
     "metadata": {},
     "output_type": "execute_result"
    }
   ],
   "source": [
    "a.ndim"
   ]
  },
  {
   "cell_type": "code",
   "execution_count": 10,
   "id": "bca9b2a1-c5a2-4880-af92-89cbaec2405f",
   "metadata": {},
   "outputs": [
    {
     "name": "stdout",
     "output_type": "stream",
     "text": [
      "[ 1  2  3  4  5  6  7  8  9 11 12 12]\n",
      "1\n",
      "\n",
      "[ 1  2  3  4  5  6  7  8  9 11 12 12]\n",
      "1\n"
     ]
    }
   ],
   "source": [
    "r = c.reshape(-1)\n",
    "print(r)\n",
    "print(r.ndim)\n",
    "\n",
    "print()\n",
    "rr = c.reshape(12)\n",
    "print(rr)\n",
    "print(rr.ndim)"
   ]
  },
  {
   "cell_type": "code",
   "execution_count": null,
   "id": "9acd7e60-fd9c-4968-98f9-dfc7f9115378",
   "metadata": {},
   "outputs": [],
   "source": []
  },
  {
   "cell_type": "markdown",
   "id": "04b5ccbb-657b-4dc8-b6a2-29c1f4b9a589",
   "metadata": {},
   "source": [
    "# Arithmetic Operation"
   ]
  },
  {
   "cell_type": "code",
   "execution_count": 11,
   "id": "4f528be2-9fc1-48de-af5b-d0b40b99c746",
   "metadata": {},
   "outputs": [
    {
     "name": "stdout",
     "output_type": "stream",
     "text": [
      "[4 5 6 7 8]\n"
     ]
    }
   ],
   "source": [
    "a1 = np.array([1,2,3,4,5])\n",
    "a2 = a1+3\n",
    "print(a2)"
   ]
  },
  {
   "cell_type": "code",
   "execution_count": 12,
   "id": "74b5a560-db1f-4ec2-a0ef-361800c43da3",
   "metadata": {},
   "outputs": [
    {
     "name": "stdout",
     "output_type": "stream",
     "text": [
      "[1, 23, 3, 4, 5]\n"
     ]
    }
   ],
   "source": [
    "a1 = [1,23,3,4,5]\n",
    "a2 = [1,2,3,4,5]\n",
    "a3 = np.add(a1,a2)\n",
    "print(a1)"
   ]
  },
  {
   "cell_type": "code",
   "execution_count": 13,
   "id": "336631ca-71f6-40a0-af13-0496470df4b7",
   "metadata": {},
   "outputs": [
    {
     "name": "stdout",
     "output_type": "stream",
     "text": [
      "[1, 2, 3, 4, 5]\n",
      "[ 2 25  6  8 10]\n"
     ]
    }
   ],
   "source": [
    "print(a2)\n",
    "print(a3)"
   ]
  },
  {
   "cell_type": "code",
   "execution_count": 14,
   "id": "d4635642-e26e-4a86-80c7-1693db443d85",
   "metadata": {},
   "outputs": [
    {
     "name": "stdout",
     "output_type": "stream",
     "text": [
      "[ 0 21  0  0  0]\n"
     ]
    }
   ],
   "source": [
    "a4 = np.subtract(a1,a2)\n",
    "print(a4)"
   ]
  },
  {
   "cell_type": "code",
   "execution_count": 15,
   "id": "5b7a7887-57e4-4f3b-90db-0da19e5d74d1",
   "metadata": {},
   "outputs": [
    {
     "name": "stdout",
     "output_type": "stream",
     "text": [
      "[1 0 0 0 0]\n"
     ]
    }
   ],
   "source": [
    "reciprocal = np.reciprocal(a1)\n",
    "print(reciprocal)"
   ]
  },
  {
   "cell_type": "code",
   "execution_count": 16,
   "id": "3f97a2ce-b4b1-4aa0-9b0e-ead8299e327c",
   "metadata": {},
   "outputs": [
    {
     "data": {
      "text/plain": [
       "[1, 2, 3, 4, 5]"
      ]
     },
     "execution_count": 16,
     "metadata": {},
     "output_type": "execute_result"
    }
   ],
   "source": [
    "a1\n",
    "a2\n"
   ]
  },
  {
   "cell_type": "code",
   "execution_count": 17,
   "id": "3b14fbc7-a085-4f51-aaae-890e19dc53bb",
   "metadata": {},
   "outputs": [
    {
     "name": "stdout",
     "output_type": "stream",
     "text": [
      "[1, 23, 3, 4, 5]\n",
      "[1, 2, 3, 4, 5]\n"
     ]
    }
   ],
   "source": [
    "print(a1)\n",
    "print(a2)"
   ]
  },
  {
   "cell_type": "code",
   "execution_count": 18,
   "id": "7d418a87-3dda-489c-aedb-1953677a8354",
   "metadata": {},
   "outputs": [
    {
     "name": "stdout",
     "output_type": "stream",
     "text": [
      "[ 1 46  9 16 25]\n"
     ]
    }
   ],
   "source": [
    "aa = np.multiply(a1,a2)\n",
    "print(aa)"
   ]
  },
  {
   "cell_type": "code",
   "execution_count": 19,
   "id": "bda90065-43cd-4711-8cfa-aff7e834fa4b",
   "metadata": {},
   "outputs": [],
   "source": [
    "aa1 = np.divide(a1,a2)"
   ]
  },
  {
   "cell_type": "code",
   "execution_count": 20,
   "id": "126d4382-18b3-4156-a650-0044c292a948",
   "metadata": {},
   "outputs": [
    {
     "name": "stdout",
     "output_type": "stream",
     "text": [
      "[ 1.  11.5  1.   1.   1. ]\n"
     ]
    }
   ],
   "source": [
    "print(aa1)"
   ]
  },
  {
   "cell_type": "code",
   "execution_count": 21,
   "id": "2fc22512-89e1-4185-8833-80a2e3c9a655",
   "metadata": {},
   "outputs": [],
   "source": [
    "aa2 = np.mod(a1,a2)"
   ]
  },
  {
   "cell_type": "code",
   "execution_count": 22,
   "id": "2d906d76-acba-4fab-bc38-3ab5046f4f1c",
   "metadata": {},
   "outputs": [
    {
     "data": {
      "text/plain": [
       "array([0, 1, 0, 0, 0])"
      ]
     },
     "execution_count": 22,
     "metadata": {},
     "output_type": "execute_result"
    }
   ],
   "source": [
    "aa2"
   ]
  },
  {
   "cell_type": "code",
   "execution_count": 23,
   "id": "090d3dc1-2745-4382-ba44-940c923fd1cd",
   "metadata": {},
   "outputs": [],
   "source": [
    "a4 = np.power(a1,a2)"
   ]
  },
  {
   "cell_type": "code",
   "execution_count": 24,
   "id": "e013ddf9-889a-4f0e-9fa0-ab59f360117d",
   "metadata": {},
   "outputs": [
    {
     "name": "stdout",
     "output_type": "stream",
     "text": [
      "[   1  529   27  256 3125]\n"
     ]
    }
   ],
   "source": [
    "print(a4)"
   ]
  },
  {
   "cell_type": "code",
   "execution_count": 25,
   "id": "0c7fc0f7-15df-4c69-873f-cf867f3d8dcc",
   "metadata": {},
   "outputs": [],
   "source": [
    "r = np.array([1,0.5,.25,.75])"
   ]
  },
  {
   "cell_type": "code",
   "execution_count": 26,
   "id": "fb28aa02-5983-4bbd-b295-3ccf51c363a4",
   "metadata": {},
   "outputs": [
    {
     "name": "stdout",
     "output_type": "stream",
     "text": [
      "[1.   0.5  0.25 0.75]\n"
     ]
    }
   ],
   "source": [
    "print(r)\n"
   ]
  },
  {
   "cell_type": "code",
   "execution_count": 27,
   "id": "3b5d9ab3-f17d-427a-b5c8-02d8518d40aa",
   "metadata": {},
   "outputs": [],
   "source": [
    "rr = np.reciprocal(r)"
   ]
  },
  {
   "cell_type": "code",
   "execution_count": 28,
   "id": "a7830ea6-fcec-4bee-a847-a1b42914b671",
   "metadata": {},
   "outputs": [
    {
     "name": "stdout",
     "output_type": "stream",
     "text": [
      "[1.         2.         4.         1.33333333]\n"
     ]
    }
   ],
   "source": [
    "print(rr)"
   ]
  },
  {
   "cell_type": "markdown",
   "id": "8b7ecdf5-844a-4d83-bd4e-88f59f64a85b",
   "metadata": {},
   "source": [
    "# Arithmetic operations in case of 2D array"
   ]
  },
  {
   "cell_type": "code",
   "execution_count": 29,
   "id": "170bbf30-1234-4c79-8cc1-0f28a4a884bb",
   "metadata": {},
   "outputs": [],
   "source": [
    "l = np.array([[1,2,3],[4,5,6]])"
   ]
  },
  {
   "cell_type": "code",
   "execution_count": 30,
   "id": "d177a305-01eb-4560-a7ec-a361aabb98c7",
   "metadata": {},
   "outputs": [
    {
     "name": "stdout",
     "output_type": "stream",
     "text": [
      "[[1 0 0]\n",
      " [0 0 0]]\n"
     ]
    }
   ],
   "source": [
    "r = np.reciprocal(l)\n",
    "print(r)"
   ]
  },
  {
   "cell_type": "code",
   "execution_count": 31,
   "id": "ec8a82fa-1a89-4115-90a6-16b579e143d4",
   "metadata": {},
   "outputs": [
    {
     "name": "stdout",
     "output_type": "stream",
     "text": [
      "[[6 5 5]\n",
      " [5 5 5]]\n"
     ]
    }
   ],
   "source": [
    "r=np.add(r,5)\n",
    "print(r)"
   ]
  },
  {
   "cell_type": "code",
   "execution_count": 32,
   "id": "f8ae1019-0613-4d37-8c5d-c2077f9cad0d",
   "metadata": {},
   "outputs": [
    {
     "name": "stdout",
     "output_type": "stream",
     "text": [
      "[[ 6 10 15]\n",
      " [20 25 30]]\n",
      "(2, 3)\n"
     ]
    }
   ],
   "source": [
    "a = np.multiply(l,r)\n",
    "print(a)\n",
    "print(a.shape)"
   ]
  },
  {
   "cell_type": "code",
   "execution_count": 33,
   "id": "10ccbe38-cb9a-4bb9-94c7-31a7917d39ad",
   "metadata": {},
   "outputs": [],
   "source": [
    "b = a.reshape(3,2)"
   ]
  },
  {
   "cell_type": "code",
   "execution_count": 34,
   "id": "c41854ba-6832-4e30-88f9-9e96070d84f1",
   "metadata": {},
   "outputs": [
    {
     "name": "stdout",
     "output_type": "stream",
     "text": [
      "[[ 6 10]\n",
      " [15 20]\n",
      " [25 30]]\n"
     ]
    }
   ],
   "source": [
    "print(b)"
   ]
  },
  {
   "cell_type": "code",
   "execution_count": 35,
   "id": "5b76da15-10dc-4ae8-a042-ada3400007a0",
   "metadata": {},
   "outputs": [
    {
     "name": "stdout",
     "output_type": "stream",
     "text": [
      "[[ 6 15 25]\n",
      " [10 20 30]]\n"
     ]
    }
   ],
   "source": [
    "print(b.T)"
   ]
  },
  {
   "cell_type": "code",
   "execution_count": 36,
   "id": "5d7f3085-905d-4144-a8ce-8a45f9de396c",
   "metadata": {},
   "outputs": [
    {
     "name": "stdout",
     "output_type": "stream",
     "text": [
      "[[  0  -5 -10]\n",
      " [ 10   5   0]]\n"
     ]
    }
   ],
   "source": [
    "n = np.subtract(a,b.T)\n",
    "print(n)"
   ]
  },
  {
   "cell_type": "code",
   "execution_count": null,
   "id": "882ae9e5-6057-4362-bacb-9968d07f4dd5",
   "metadata": {},
   "outputs": [],
   "source": []
  },
  {
   "cell_type": "markdown",
   "id": "51327929-3f6e-4b00-a4c6-a4fa83ec5878",
   "metadata": {},
   "source": [
    "# Arithmetic functions"
   ]
  },
  {
   "cell_type": "code",
   "execution_count": 37,
   "id": "b14ce7da-9648-49d7-90b0-79ea19fceb9a",
   "metadata": {},
   "outputs": [
    {
     "name": "stdout",
     "output_type": "stream",
     "text": [
      "Min :  1\n",
      "Max :  5\n",
      "argmin :  0\n",
      "argmin :  2\n",
      "sqrt :  [1.         1.41421356 2.23606798 1.73205081 2.         2.23606798\n",
      " 1.        ]\n",
      "sin :  [ 0.84147098  0.90929743 -0.95892427  0.14112001 -0.7568025  -0.95892427\n",
      "  0.84147098]\n",
      "cos :  [ 0.54030231 -0.41614684  0.28366219 -0.9899925  -0.65364362  0.28366219\n",
      "  0.54030231]\n",
      "cumsum :  [ 1  3  8 11 15 20 21]\n"
     ]
    }
   ],
   "source": [
    "ar = np.array([1,2,5,3,4,5,1])\n",
    "\n",
    "print(\"Min : \",np.min(ar))\n",
    "print(\"Max : \",np.max(ar))\n",
    "print(\"argmin : \",np.argmin(ar))\n",
    "print(\"argmin : \",np.argmax(ar))\n",
    "print(\"sqrt : \",np.sqrt(ar))\n",
    "print(\"sin : \",np.sin(ar))\n",
    "print(\"cos : \",np.cos(ar))\n",
    "print(\"cumsum : \",np.cumsum(ar))"
   ]
  },
  {
   "cell_type": "code",
   "execution_count": 38,
   "id": "e96102e8-ff75-4e9f-a400-ea7bdacdb5c0",
   "metadata": {},
   "outputs": [
    {
     "name": "stdout",
     "output_type": "stream",
     "text": [
      "Min :  1\n",
      "Max :  5\n",
      "argmin :  0\n",
      "argmin :  7\n",
      "sqrt :  [[1.         1.41421356 2.         1.73205081]\n",
      " [1.73205081 1.41421356 1.         2.23606798]]\n",
      "sin :  [[ 0.84147098  0.90929743 -0.7568025   0.14112001]\n",
      " [ 0.14112001  0.90929743  0.84147098 -0.95892427]]\n",
      "cos :  [[ 0.54030231 -0.41614684 -0.65364362 -0.9899925 ]\n",
      " [-0.9899925  -0.41614684  0.54030231  0.28366219]]\n",
      "cumsum :  [ 1  3  7 10 13 15 16 21]\n"
     ]
    }
   ],
   "source": [
    "ar = np.array([[1,2,4,3],[3,2,1,5]])\n",
    "print(\"Min : \",np.min(ar))\n",
    "print(\"Max : \",np.max(ar))\n",
    "print(\"argmin : \",np.argmin(ar))\n",
    "print(\"argmin : \",np.argmax(ar))\n",
    "print(\"sqrt : \",np.sqrt(ar))\n",
    "print(\"sin : \",np.sin(ar))\n",
    "print(\"cos : \",np.cos(ar))\n",
    "print(\"cumsum : \",np.cumsum(ar))"
   ]
  },
  {
   "cell_type": "code",
   "execution_count": 39,
   "id": "486214ab-fe73-44ac-9702-2e906ffae99f",
   "metadata": {},
   "outputs": [
    {
     "data": {
      "text/plain": [
       "array([[1, 2, 4, 3],\n",
       "       [3, 2, 1, 5]])"
      ]
     },
     "execution_count": 39,
     "metadata": {},
     "output_type": "execute_result"
    }
   ],
   "source": [
    "ar"
   ]
  },
  {
   "cell_type": "code",
   "execution_count": 40,
   "id": "cba9b33c-89a9-4e87-9d88-ef533ecb2ae8",
   "metadata": {},
   "outputs": [
    {
     "name": "stdout",
     "output_type": "stream",
     "text": [
      "[1 2 1 3]\n",
      "[1 1]\n"
     ]
    }
   ],
   "source": [
    "print(np.min(ar,axis=0))\n",
    "print(np.min(ar,axis=1))"
   ]
  },
  {
   "cell_type": "code",
   "execution_count": 41,
   "id": "7978832c-9730-44c1-9652-6227896ca0f8",
   "metadata": {},
   "outputs": [
    {
     "name": "stdout",
     "output_type": "stream",
     "text": [
      "[3 2 4 5]\n",
      "[4 5]\n"
     ]
    }
   ],
   "source": [
    "print(np.max(ar,axis=0))\n",
    "print(np.max(ar,axis=1))"
   ]
  },
  {
   "cell_type": "code",
   "execution_count": 42,
   "id": "1ec799fa-17bc-4317-997a-104039720949",
   "metadata": {},
   "outputs": [
    {
     "name": "stdout",
     "output_type": "stream",
     "text": [
      "[0 0 1 0]\n",
      "[0 2]\n"
     ]
    }
   ],
   "source": [
    "print(np.argmin(ar,axis=0))\n",
    "print(np.argmin(ar,axis=1))"
   ]
  },
  {
   "cell_type": "code",
   "execution_count": 43,
   "id": "1fb8f857-1fce-4754-a476-86c05581aadc",
   "metadata": {},
   "outputs": [
    {
     "name": "stdout",
     "output_type": "stream",
     "text": [
      "[1 0 0 1]\n",
      "[2 3]\n"
     ]
    }
   ],
   "source": [
    "print(np.argmax(ar,axis=0))\n",
    "print(np.argmax(ar,axis=1))"
   ]
  },
  {
   "cell_type": "code",
   "execution_count": 44,
   "id": "26ee16a5-c650-4f25-943e-9045d61f9576",
   "metadata": {},
   "outputs": [
    {
     "name": "stdout",
     "output_type": "stream",
     "text": [
      "[[1 2 4 3]\n",
      " [3 2 1 5]]\n"
     ]
    }
   ],
   "source": [
    "print(ar)"
   ]
  },
  {
   "cell_type": "code",
   "execution_count": null,
   "id": "b1fcc4ed-f0c7-451d-b23e-19ab8d69b63c",
   "metadata": {},
   "outputs": [],
   "source": []
  },
  {
   "cell_type": "markdown",
   "id": "dec35f56-13f9-4310-9077-52735c6fa19f",
   "metadata": {},
   "source": [
    "# Broadcasting Numpy Arrays"
   ]
  },
  {
   "cell_type": "code",
   "execution_count": 45,
   "id": "601ee687-a8ae-4509-af9c-4f1a0d898bc4",
   "metadata": {},
   "outputs": [
    {
     "name": "stdout",
     "output_type": "stream",
     "text": [
      "(3,)\n"
     ]
    }
   ],
   "source": [
    "a1 = np.array([5,6,7])\n",
    "print(a1.shape)"
   ]
  },
  {
   "cell_type": "code",
   "execution_count": 46,
   "id": "21708011-d702-4ae8-821a-6027f4a60afa",
   "metadata": {},
   "outputs": [
    {
     "name": "stdout",
     "output_type": "stream",
     "text": [
      "[[1]\n",
      " [2]\n",
      " [3]]\n",
      "[[ 6  7  8]\n",
      " [ 7  8  9]\n",
      " [ 8  9 10]]\n"
     ]
    }
   ],
   "source": [
    "a2 = np.array([[1],[2],[3]])\n",
    "print(a2)\n",
    "print(a1+a2)"
   ]
  },
  {
   "cell_type": "code",
   "execution_count": 47,
   "id": "de448986-76fd-4562-9212-33b07b79b3f7",
   "metadata": {},
   "outputs": [
    {
     "name": "stdout",
     "output_type": "stream",
     "text": [
      "(3, 3)\n"
     ]
    }
   ],
   "source": [
    "print((a1+a2).shape)"
   ]
  },
  {
   "cell_type": "code",
   "execution_count": 48,
   "id": "cd9ce082-3a86-4688-9e82-e4b7a317db7c",
   "metadata": {},
   "outputs": [
    {
     "name": "stdout",
     "output_type": "stream",
     "text": [
      "(3, 1)\n"
     ]
    }
   ],
   "source": [
    "print(a2.shape)"
   ]
  },
  {
   "cell_type": "code",
   "execution_count": 49,
   "id": "826cda2b-e587-4172-9257-392df66aeb42",
   "metadata": {},
   "outputs": [
    {
     "name": "stdout",
     "output_type": "stream",
     "text": [
      "[[ 8  9 10]\n",
      " [ 9 10 11]\n",
      " [10 11 12]]\n"
     ]
    }
   ],
   "source": [
    "print(a1+a2+2)"
   ]
  },
  {
   "cell_type": "code",
   "execution_count": 50,
   "id": "3209e80e-3dd0-4562-b6a8-4f7141c9d8c4",
   "metadata": {},
   "outputs": [
    {
     "name": "stdout",
     "output_type": "stream",
     "text": [
      "(2, 1)\n",
      "(2, 3)\n"
     ]
    }
   ],
   "source": [
    "l1 = np.array([[1],[3]])\n",
    "l2 = np.array([[1,2,3],[3,4,5]])\n",
    "print(l1.shape)\n",
    "print(l2.shape)"
   ]
  },
  {
   "cell_type": "code",
   "execution_count": 51,
   "id": "de01c770-d70c-4eb4-9499-6c5f57155f31",
   "metadata": {},
   "outputs": [
    {
     "name": "stdout",
     "output_type": "stream",
     "text": [
      "[[2 3 4]\n",
      " [6 7 8]]\n"
     ]
    }
   ],
   "source": [
    "print(l1+l2)"
   ]
  },
  {
   "cell_type": "code",
   "execution_count": 52,
   "id": "eb58c6ac-4a7b-4f4e-ab9f-1b899e67daf4",
   "metadata": {},
   "outputs": [
    {
     "name": "stdout",
     "output_type": "stream",
     "text": [
      "(2, 3)\n"
     ]
    }
   ],
   "source": [
    "print((l1+l2).shape)"
   ]
  },
  {
   "cell_type": "code",
   "execution_count": 53,
   "id": "ae2556d1-0443-4c70-9ae4-73e17600302c",
   "metadata": {},
   "outputs": [
    {
     "name": "stdout",
     "output_type": "stream",
     "text": [
      "(2,)\n",
      "(3,)\n"
     ]
    }
   ],
   "source": [
    "t1 = np.array([23,34])\n",
    "t2 = np.array([1,2,3])\n",
    "print(t1.shape)\n",
    "print(t2.shape)"
   ]
  },
  {
   "cell_type": "code",
   "execution_count": 55,
   "id": "bb21afb0-0a99-41bd-8431-292b6983d085",
   "metadata": {},
   "outputs": [
    {
     "name": "stdout",
     "output_type": "stream",
     "text": [
      "[25 36]\n"
     ]
    }
   ],
   "source": [
    "print(t1+2)"
   ]
  },
  {
   "cell_type": "code",
   "execution_count": 56,
   "id": "a85d3556-5ade-4b27-beca-d4bc1220f549",
   "metadata": {},
   "outputs": [
    {
     "name": "stdout",
     "output_type": "stream",
     "text": [
      "(2, 3)\n"
     ]
    }
   ],
   "source": [
    "a = np.array([[4,5,1],[2,1,3]])\n",
    "b = np.array([12,23,34])\n",
    "print(a.shape)"
   ]
  },
  {
   "cell_type": "code",
   "execution_count": 57,
   "id": "b73194b1-b687-4d31-9bd0-f5807866b401",
   "metadata": {},
   "outputs": [
    {
     "name": "stdout",
     "output_type": "stream",
     "text": [
      "(3,)\n"
     ]
    }
   ],
   "source": [
    "print(b.shape)"
   ]
  },
  {
   "cell_type": "code",
   "execution_count": 58,
   "id": "49918a75-6dda-423c-93e0-8dca9a1381fb",
   "metadata": {},
   "outputs": [
    {
     "name": "stdout",
     "output_type": "stream",
     "text": [
      "[[16 28 35]\n",
      " [14 24 37]]\n"
     ]
    }
   ],
   "source": [
    "print(a+b)"
   ]
  },
  {
   "cell_type": "code",
   "execution_count": 59,
   "id": "89297855-9865-468a-82bf-79b1190e9864",
   "metadata": {},
   "outputs": [
    {
     "name": "stdout",
     "output_type": "stream",
     "text": [
      "(2,)\n"
     ]
    }
   ],
   "source": [
    "c=np.array([12,23])\n",
    "print(c.shape)"
   ]
  },
  {
   "cell_type": "code",
   "execution_count": 61,
   "id": "2159cb34-946b-4e49-9777-2e09245aeb5b",
   "metadata": {},
   "outputs": [],
   "source": [
    "# print(a+c)  this will throw an error"
   ]
  },
  {
   "cell_type": "code",
   "execution_count": null,
   "id": "d278ee1b-692f-4a66-9350-1a1a9a5be89c",
   "metadata": {},
   "outputs": [],
   "source": []
  }
 ],
 "metadata": {
  "kernelspec": {
   "display_name": "Python 3 (ipykernel)",
   "language": "python",
   "name": "python3"
  },
  "language_info": {
   "codemirror_mode": {
    "name": "ipython",
    "version": 3
   },
   "file_extension": ".py",
   "mimetype": "text/x-python",
   "name": "python",
   "nbconvert_exporter": "python",
   "pygments_lexer": "ipython3",
   "version": "3.11.5"
  }
 },
 "nbformat": 4,
 "nbformat_minor": 5
}
