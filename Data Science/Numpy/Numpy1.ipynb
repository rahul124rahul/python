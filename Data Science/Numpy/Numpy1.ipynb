{
 "cells": [
  {
   "cell_type": "code",
   "execution_count": 1,
   "id": "1d5bf18d-8417-4e9f-b943-791551b0baf4",
   "metadata": {},
   "outputs": [],
   "source": [
    "import numpy as np"
   ]
  },
  {
   "cell_type": "code",
   "execution_count": 2,
   "id": "2a49ee8a-df87-4793-9d18-3b7a117f5da2",
   "metadata": {},
   "outputs": [],
   "source": [
    "array1 = np.array([1,2,3,4,5])"
   ]
  },
  {
   "cell_type": "code",
   "execution_count": 3,
   "id": "9506b10e-2589-4a17-b585-05285ce34493",
   "metadata": {},
   "outputs": [
    {
     "data": {
      "text/plain": [
       "array([1, 2, 3, 4, 5])"
      ]
     },
     "execution_count": 3,
     "metadata": {},
     "output_type": "execute_result"
    }
   ],
   "source": [
    "array1"
   ]
  },
  {
   "cell_type": "code",
   "execution_count": 4,
   "id": "679c4248-a320-4ed5-a45c-7dd297fe3d2c",
   "metadata": {},
   "outputs": [
    {
     "name": "stdout",
     "output_type": "stream",
     "text": [
      "[1 2 3 4 5]\n"
     ]
    }
   ],
   "source": [
    "print(array1)"
   ]
  },
  {
   "cell_type": "code",
   "execution_count": 5,
   "id": "fd566c42-70f4-439b-8611-9baefcc10cb2",
   "metadata": {},
   "outputs": [],
   "source": [
    "l1 = [1,2,3,4,5,6]"
   ]
  },
  {
   "cell_type": "code",
   "execution_count": 6,
   "id": "968c207a-2c87-4144-8d94-b3360a795c5b",
   "metadata": {},
   "outputs": [
    {
     "data": {
      "text/plain": [
       "[1, 2, 3, 4, 5, 6]"
      ]
     },
     "execution_count": 6,
     "metadata": {},
     "output_type": "execute_result"
    }
   ],
   "source": [
    "l1"
   ]
  },
  {
   "cell_type": "code",
   "execution_count": 7,
   "id": "31b9852d-4af1-4d56-864c-608b2acf24ca",
   "metadata": {},
   "outputs": [
    {
     "name": "stdout",
     "output_type": "stream",
     "text": [
      "[1, 2, 3, 4, 5, 6]\n"
     ]
    }
   ],
   "source": [
    "print(l1)"
   ]
  },
  {
   "cell_type": "code",
   "execution_count": 8,
   "id": "1b9752b9-0957-4752-b924-167920f5cc53",
   "metadata": {},
   "outputs": [
    {
     "data": {
      "text/plain": [
       "array([1, 2, 3, 4, 5])"
      ]
     },
     "execution_count": 8,
     "metadata": {},
     "output_type": "execute_result"
    }
   ],
   "source": [
    "array1"
   ]
  },
  {
   "cell_type": "code",
   "execution_count": 9,
   "id": "a1c28712-6d3a-4ede-bb01-e497cf052e76",
   "metadata": {},
   "outputs": [
    {
     "data": {
      "text/plain": [
       "list"
      ]
     },
     "execution_count": 9,
     "metadata": {},
     "output_type": "execute_result"
    }
   ],
   "source": [
    "type(l1)"
   ]
  },
  {
   "cell_type": "code",
   "execution_count": 10,
   "id": "928b15a3-328f-45ba-94a4-01c18abd326e",
   "metadata": {},
   "outputs": [
    {
     "data": {
      "text/plain": [
       "numpy.ndarray"
      ]
     },
     "execution_count": 10,
     "metadata": {},
     "output_type": "execute_result"
    }
   ],
   "source": [
    "type(array1)"
   ]
  },
  {
   "cell_type": "code",
   "execution_count": 11,
   "id": "87b9d0b1-1947-443d-bbe2-80d24ac50ade",
   "metadata": {},
   "outputs": [
    {
     "name": "stdout",
     "output_type": "stream",
     "text": [
      "<class 'list'>\n"
     ]
    }
   ],
   "source": [
    "print(type(l1))"
   ]
  },
  {
   "cell_type": "code",
   "execution_count": 12,
   "id": "800692d7-ab7a-4637-b6c5-79ad3bc9cf95",
   "metadata": {},
   "outputs": [
    {
     "name": "stdout",
     "output_type": "stream",
     "text": [
      "<class 'numpy.ndarray'>\n"
     ]
    }
   ],
   "source": [
    "print(type(array1))"
   ]
  },
  {
   "cell_type": "code",
   "execution_count": 13,
   "id": "a80cf484-25fd-4054-9a0d-da5fd4f5f27d",
   "metadata": {},
   "outputs": [
    {
     "name": "stdout",
     "output_type": "stream",
     "text": [
      "1.02 µs ± 557 ns per loop (mean ± std. dev. of 7 runs, 1,000,000 loops each)\n"
     ]
    }
   ],
   "source": [
    "%timeit [j**4 for j in range(1,11)]"
   ]
  },
  {
   "cell_type": "code",
   "execution_count": 14,
   "id": "d1664f76-1216-4080-a2fa-7865bfcc7bdb",
   "metadata": {},
   "outputs": [
    {
     "name": "stdout",
     "output_type": "stream",
     "text": [
      "5.21 µs ± 194 ns per loop (mean ± std. dev. of 7 runs, 100,000 loops each)\n"
     ]
    }
   ],
   "source": [
    "%timeit np.arange(1,11)**4"
   ]
  },
  {
   "cell_type": "code",
   "execution_count": 15,
   "id": "59b09f5d-106d-4003-b939-f4cbfc2b7677",
   "metadata": {},
   "outputs": [],
   "source": [
    "a = np.array([23,34,21,14])"
   ]
  },
  {
   "cell_type": "code",
   "execution_count": 16,
   "id": "6d846239-61ed-4d2e-a508-7add715a88c0",
   "metadata": {},
   "outputs": [
    {
     "data": {
      "text/plain": [
       "array([23, 34, 21, 14])"
      ]
     },
     "execution_count": 16,
     "metadata": {},
     "output_type": "execute_result"
    }
   ],
   "source": [
    "a"
   ]
  },
  {
   "cell_type": "code",
   "execution_count": 17,
   "id": "5bed7acb-acc3-4f83-82a1-8b5dd50752ea",
   "metadata": {},
   "outputs": [
    {
     "name": "stdout",
     "output_type": "stream",
     "text": [
      "[23 34 21 14]\n"
     ]
    }
   ],
   "source": [
    "print(a)"
   ]
  },
  {
   "cell_type": "code",
   "execution_count": null,
   "id": "f4bfe0f6-2ee0-495a-abbf-802b80370fc1",
   "metadata": {},
   "outputs": [],
   "source": []
  },
  {
   "cell_type": "markdown",
   "id": "0d66241e-bf2b-4755-9254-694b94efb890",
   "metadata": {},
   "source": [
    "# Array"
   ]
  },
  {
   "cell_type": "code",
   "execution_count": 18,
   "id": "52baf182-c774-4b35-90a2-fbc1eaa605ca",
   "metadata": {},
   "outputs": [
    {
     "name": "stdout",
     "output_type": "stream",
     "text": [
      "[ 23  35  56  67 878  76]\n"
     ]
    }
   ],
   "source": [
    "l2 = [23,35,56,67,878,76]\n",
    "a1 = np.array(l2)\n",
    "print(a1)"
   ]
  },
  {
   "cell_type": "code",
   "execution_count": 19,
   "id": "4822bb85-de2c-4441-a8af-8f67b677d041",
   "metadata": {},
   "outputs": [
    {
     "data": {
      "text/plain": [
       "array([ 23,  35,  56,  67, 878,  76])"
      ]
     },
     "execution_count": 19,
     "metadata": {},
     "output_type": "execute_result"
    }
   ],
   "source": [
    "a1"
   ]
  },
  {
   "cell_type": "code",
   "execution_count": 20,
   "id": "4b263fe4-c56d-4a0c-b209-972716c7fe96",
   "metadata": {},
   "outputs": [
    {
     "data": {
      "text/plain": [
       "[1, 2, 3, 4, 5, 6]"
      ]
     },
     "execution_count": 20,
     "metadata": {},
     "output_type": "execute_result"
    }
   ],
   "source": [
    "l1"
   ]
  },
  {
   "cell_type": "code",
   "execution_count": 21,
   "id": "d6adcb96-91bf-4103-9697-11f81b982707",
   "metadata": {},
   "outputs": [
    {
     "data": {
      "text/plain": [
       "[23, 35, 56, 67, 878, 76]"
      ]
     },
     "execution_count": 21,
     "metadata": {},
     "output_type": "execute_result"
    }
   ],
   "source": [
    "l2"
   ]
  },
  {
   "cell_type": "code",
   "execution_count": 22,
   "id": "f99fce3d-cde4-4ba0-9388-6f2b24c89fcf",
   "metadata": {},
   "outputs": [
    {
     "name": "stdout",
     "output_type": "stream",
     "text": [
      "<class 'numpy.ndarray'>\n"
     ]
    }
   ],
   "source": [
    "print(type(a1))"
   ]
  },
  {
   "cell_type": "code",
   "execution_count": 23,
   "id": "ca460d36-649d-4d7f-931d-5211ded83c2a",
   "metadata": {},
   "outputs": [
    {
     "name": "stdin",
     "output_type": "stream",
     "text": [
      "Enter :  12\n",
      "Enter :  21\n",
      "Enter :  23\n",
      "Enter :  34\n"
     ]
    },
    {
     "name": "stdout",
     "output_type": "stream",
     "text": [
      "['12' '21' '23' '34']\n"
     ]
    }
   ],
   "source": [
    "ll = []\n",
    "for i in range(1,5):\n",
    "    c = input(\"Enter : \")\n",
    "    ll.append(c)\n",
    "\n",
    "print(np.array(ll))"
   ]
  },
  {
   "cell_type": "code",
   "execution_count": 24,
   "id": "57c5429a-c989-48e2-94b0-e7d13a7bbeaa",
   "metadata": {},
   "outputs": [
    {
     "data": {
      "text/plain": [
       "['12', '21', '23', '34']"
      ]
     },
     "execution_count": 24,
     "metadata": {},
     "output_type": "execute_result"
    }
   ],
   "source": [
    "ll"
   ]
  },
  {
   "cell_type": "code",
   "execution_count": 25,
   "id": "a45c1f8a-50d3-4103-87cf-1e561576988e",
   "metadata": {},
   "outputs": [
    {
     "name": "stdin",
     "output_type": "stream",
     "text": [
      "Enter Integers :  12\n",
      "Enter Integers :  22\n",
      "Enter Integers :  23\n",
      "Enter Integers :  234\n",
      "Enter Integers :  43\n",
      "Enter Integers :  23\n",
      "Enter Integers :  12\n",
      "Enter Integers :  23\n",
      "Enter Integers :  321\n",
      "Enter Integers :  32\n"
     ]
    },
    {
     "name": "stdout",
     "output_type": "stream",
     "text": [
      "[ 12  22  23 234  43  23  12  23 321  32]\n"
     ]
    }
   ],
   "source": [
    "ll1 = []\n",
    "for i in range(1,11):\n",
    "    p = int(input(\"Enter Integers : \"))\n",
    "    ll1.append(p)\n",
    "print(np.array(ll1))"
   ]
  },
  {
   "cell_type": "code",
   "execution_count": 26,
   "id": "88c4a70e-bbae-4a83-a150-f404d7acd36c",
   "metadata": {},
   "outputs": [
    {
     "data": {
      "text/plain": [
       "[12, 22, 23, 234, 43, 23, 12, 23, 321, 32]"
      ]
     },
     "execution_count": 26,
     "metadata": {},
     "output_type": "execute_result"
    }
   ],
   "source": [
    "ll1"
   ]
  },
  {
   "cell_type": "code",
   "execution_count": 27,
   "id": "40d42fa8-ceaa-4ba5-b0f8-ed2eab38da85",
   "metadata": {},
   "outputs": [],
   "source": [
    "o = np.array(ll1)"
   ]
  },
  {
   "cell_type": "code",
   "execution_count": 28,
   "id": "120c92dc-7a32-4c19-a294-7893640ccd78",
   "metadata": {},
   "outputs": [
    {
     "data": {
      "text/plain": [
       "array([ 12,  22,  23, 234,  43,  23,  12,  23, 321,  32])"
      ]
     },
     "execution_count": 28,
     "metadata": {},
     "output_type": "execute_result"
    }
   ],
   "source": [
    "o"
   ]
  },
  {
   "cell_type": "code",
   "execution_count": 29,
   "id": "55749579-22ea-4fe4-9485-8d403b10e374",
   "metadata": {},
   "outputs": [
    {
     "data": {
      "text/plain": [
       "1"
      ]
     },
     "execution_count": 29,
     "metadata": {},
     "output_type": "execute_result"
    }
   ],
   "source": [
    "o.ndim"
   ]
  },
  {
   "cell_type": "code",
   "execution_count": 30,
   "id": "60bd7920-6843-4499-99cc-956b593dcb14",
   "metadata": {},
   "outputs": [
    {
     "name": "stdout",
     "output_type": "stream",
     "text": [
      "1\n"
     ]
    }
   ],
   "source": [
    "print(o.ndim)"
   ]
  },
  {
   "cell_type": "code",
   "execution_count": 31,
   "id": "d3634c22-50f9-486a-9159-769dcacc0a95",
   "metadata": {},
   "outputs": [],
   "source": [
    "ar2 = np.array([[1,3,4,5,6],[6,8,7,6,3]])"
   ]
  },
  {
   "cell_type": "code",
   "execution_count": 32,
   "id": "35778071-345e-4df7-b94f-b76a68d09e02",
   "metadata": {},
   "outputs": [
    {
     "data": {
      "text/plain": [
       "array([[1, 3, 4, 5, 6],\n",
       "       [6, 8, 7, 6, 3]])"
      ]
     },
     "execution_count": 32,
     "metadata": {},
     "output_type": "execute_result"
    }
   ],
   "source": [
    "ar2"
   ]
  },
  {
   "cell_type": "code",
   "execution_count": 33,
   "id": "6f79032e-7e18-4372-bc84-4a84aa5f8939",
   "metadata": {},
   "outputs": [
    {
     "name": "stdout",
     "output_type": "stream",
     "text": [
      "[[1 3 4 5 6]\n",
      " [6 8 7 6 3]]\n"
     ]
    }
   ],
   "source": [
    "print(ar2)"
   ]
  },
  {
   "cell_type": "code",
   "execution_count": 34,
   "id": "4f654958-09c2-490c-b01f-afe4c9027b72",
   "metadata": {},
   "outputs": [
    {
     "name": "stdout",
     "output_type": "stream",
     "text": [
      "2\n"
     ]
    }
   ],
   "source": [
    "print(ar2.ndim)"
   ]
  },
  {
   "cell_type": "code",
   "execution_count": 35,
   "id": "59d7a295-f784-4966-bdb2-62861325daa4",
   "metadata": {},
   "outputs": [
    {
     "data": {
      "text/plain": [
       "2"
      ]
     },
     "execution_count": 35,
     "metadata": {},
     "output_type": "execute_result"
    }
   ],
   "source": [
    "ar2.ndim"
   ]
  },
  {
   "cell_type": "code",
   "execution_count": 36,
   "id": "da2e59a0-21dc-41f0-9991-90c8c68a75fa",
   "metadata": {},
   "outputs": [],
   "source": [
    "ar3 = np.array([[[123,23,34],[234,564,87],[23,434,56]],[[123,432,34],[12,23,3],[21,23,34]]])"
   ]
  },
  {
   "cell_type": "code",
   "execution_count": 37,
   "id": "8d6dcc98-a84b-4203-887a-6306c207e6b6",
   "metadata": {},
   "outputs": [
    {
     "data": {
      "text/plain": [
       "array([[[123,  23,  34],\n",
       "        [234, 564,  87],\n",
       "        [ 23, 434,  56]],\n",
       "\n",
       "       [[123, 432,  34],\n",
       "        [ 12,  23,   3],\n",
       "        [ 21,  23,  34]]])"
      ]
     },
     "execution_count": 37,
     "metadata": {},
     "output_type": "execute_result"
    }
   ],
   "source": [
    "ar3"
   ]
  },
  {
   "cell_type": "code",
   "execution_count": 38,
   "id": "a147dc6d-51a8-4ecb-9cec-c6cc140f9d0f",
   "metadata": {},
   "outputs": [
    {
     "data": {
      "text/plain": [
       "3"
      ]
     },
     "execution_count": 38,
     "metadata": {},
     "output_type": "execute_result"
    }
   ],
   "source": [
    "ar3.ndim"
   ]
  },
  {
   "cell_type": "code",
   "execution_count": 39,
   "id": "1e0f5384-e9ed-451e-9f4c-d38e34d8904c",
   "metadata": {},
   "outputs": [
    {
     "name": "stdout",
     "output_type": "stream",
     "text": [
      "3\n"
     ]
    }
   ],
   "source": [
    "print(ar3.ndim)"
   ]
  },
  {
   "cell_type": "code",
   "execution_count": 40,
   "id": "8a184053-370e-463c-bd04-5815878fcb6e",
   "metadata": {},
   "outputs": [
    {
     "name": "stdout",
     "output_type": "stream",
     "text": [
      "[[[[[[[[[[1 2 3 4 5]]]]]]]]]]\n",
      "10\n"
     ]
    }
   ],
   "source": [
    "arn = np.array([1,2,3,4,5],ndmin=10)\n",
    "print(arn)\n",
    "print(arn.ndim)"
   ]
  },
  {
   "cell_type": "markdown",
   "id": "c7e38fba-d531-414b-a003-6b66c1b4814b",
   "metadata": {},
   "source": [
    "# Zero valued Array"
   ]
  },
  {
   "cell_type": "markdown",
   "id": "370e0b67-ca06-4625-8a11-39e76e7148e3",
   "metadata": {},
   "source": [
    "# *zeros"
   ]
  },
  {
   "cell_type": "code",
   "execution_count": 41,
   "id": "384310d5-6642-4964-8c19-28c77f51ec63",
   "metadata": {},
   "outputs": [],
   "source": [
    "zar1 = np.zeros(6)"
   ]
  },
  {
   "cell_type": "code",
   "execution_count": 42,
   "id": "c77a9eda-c5c8-4c26-a932-1a231159ef60",
   "metadata": {},
   "outputs": [
    {
     "data": {
      "text/plain": [
       "array([0., 0., 0., 0., 0., 0.])"
      ]
     },
     "execution_count": 42,
     "metadata": {},
     "output_type": "execute_result"
    }
   ],
   "source": [
    "zar1"
   ]
  },
  {
   "cell_type": "code",
   "execution_count": 43,
   "id": "13fb3003-dbaa-4c65-b6a5-50e54737679f",
   "metadata": {},
   "outputs": [
    {
     "name": "stdout",
     "output_type": "stream",
     "text": [
      "[0. 0. 0. 0. 0. 0.]\n"
     ]
    }
   ],
   "source": [
    "print(zar1)"
   ]
  },
  {
   "cell_type": "code",
   "execution_count": 44,
   "id": "6e4596a1-799d-46ed-b52a-de0443a7ebe9",
   "metadata": {},
   "outputs": [],
   "source": [
    "zar2 = np.zeros((2,3))"
   ]
  },
  {
   "cell_type": "code",
   "execution_count": 45,
   "id": "600fb3d6-8084-4bf3-a0de-7b59d0d0c98d",
   "metadata": {},
   "outputs": [
    {
     "data": {
      "text/plain": [
       "array([[0., 0., 0.],\n",
       "       [0., 0., 0.]])"
      ]
     },
     "execution_count": 45,
     "metadata": {},
     "output_type": "execute_result"
    }
   ],
   "source": [
    "zar2"
   ]
  },
  {
   "cell_type": "code",
   "execution_count": 46,
   "id": "96cbcbc1-ebb1-4e63-be84-f305ef7d059f",
   "metadata": {},
   "outputs": [],
   "source": [
    "zar3 = np.zeros((4,3,2))"
   ]
  },
  {
   "cell_type": "code",
   "execution_count": 47,
   "id": "0aacd88e-a041-4afa-8057-98dde979adee",
   "metadata": {},
   "outputs": [
    {
     "data": {
      "text/plain": [
       "array([[[0., 0.],\n",
       "        [0., 0.],\n",
       "        [0., 0.]],\n",
       "\n",
       "       [[0., 0.],\n",
       "        [0., 0.],\n",
       "        [0., 0.]],\n",
       "\n",
       "       [[0., 0.],\n",
       "        [0., 0.],\n",
       "        [0., 0.]],\n",
       "\n",
       "       [[0., 0.],\n",
       "        [0., 0.],\n",
       "        [0., 0.]]])"
      ]
     },
     "execution_count": 47,
     "metadata": {},
     "output_type": "execute_result"
    }
   ],
   "source": [
    "zar3"
   ]
  },
  {
   "cell_type": "code",
   "execution_count": 48,
   "id": "4cf5a1cb-67c3-438a-99ba-65279242a4c7",
   "metadata": {},
   "outputs": [],
   "source": [
    "zar4 = np.zeros((4,5,3,2))"
   ]
  },
  {
   "cell_type": "code",
   "execution_count": 49,
   "id": "7bb6b636-567a-43cd-95e7-e9a8098d8180",
   "metadata": {},
   "outputs": [
    {
     "data": {
      "text/plain": [
       "array([[[[0., 0.],\n",
       "         [0., 0.],\n",
       "         [0., 0.]],\n",
       "\n",
       "        [[0., 0.],\n",
       "         [0., 0.],\n",
       "         [0., 0.]],\n",
       "\n",
       "        [[0., 0.],\n",
       "         [0., 0.],\n",
       "         [0., 0.]],\n",
       "\n",
       "        [[0., 0.],\n",
       "         [0., 0.],\n",
       "         [0., 0.]],\n",
       "\n",
       "        [[0., 0.],\n",
       "         [0., 0.],\n",
       "         [0., 0.]]],\n",
       "\n",
       "\n",
       "       [[[0., 0.],\n",
       "         [0., 0.],\n",
       "         [0., 0.]],\n",
       "\n",
       "        [[0., 0.],\n",
       "         [0., 0.],\n",
       "         [0., 0.]],\n",
       "\n",
       "        [[0., 0.],\n",
       "         [0., 0.],\n",
       "         [0., 0.]],\n",
       "\n",
       "        [[0., 0.],\n",
       "         [0., 0.],\n",
       "         [0., 0.]],\n",
       "\n",
       "        [[0., 0.],\n",
       "         [0., 0.],\n",
       "         [0., 0.]]],\n",
       "\n",
       "\n",
       "       [[[0., 0.],\n",
       "         [0., 0.],\n",
       "         [0., 0.]],\n",
       "\n",
       "        [[0., 0.],\n",
       "         [0., 0.],\n",
       "         [0., 0.]],\n",
       "\n",
       "        [[0., 0.],\n",
       "         [0., 0.],\n",
       "         [0., 0.]],\n",
       "\n",
       "        [[0., 0.],\n",
       "         [0., 0.],\n",
       "         [0., 0.]],\n",
       "\n",
       "        [[0., 0.],\n",
       "         [0., 0.],\n",
       "         [0., 0.]]],\n",
       "\n",
       "\n",
       "       [[[0., 0.],\n",
       "         [0., 0.],\n",
       "         [0., 0.]],\n",
       "\n",
       "        [[0., 0.],\n",
       "         [0., 0.],\n",
       "         [0., 0.]],\n",
       "\n",
       "        [[0., 0.],\n",
       "         [0., 0.],\n",
       "         [0., 0.]],\n",
       "\n",
       "        [[0., 0.],\n",
       "         [0., 0.],\n",
       "         [0., 0.]],\n",
       "\n",
       "        [[0., 0.],\n",
       "         [0., 0.],\n",
       "         [0., 0.]]]])"
      ]
     },
     "execution_count": 49,
     "metadata": {},
     "output_type": "execute_result"
    }
   ],
   "source": [
    "zar4"
   ]
  },
  {
   "cell_type": "markdown",
   "id": "3aa6bb9c-3c9e-41c6-b60e-ee20e0eada71",
   "metadata": {},
   "source": [
    "# *ones"
   ]
  },
  {
   "cell_type": "code",
   "execution_count": 50,
   "id": "9610bc64-9e6a-48d8-9940-6cb9c425e9ae",
   "metadata": {},
   "outputs": [],
   "source": [
    "a11 = np.ones(3)"
   ]
  },
  {
   "cell_type": "code",
   "execution_count": 51,
   "id": "195f525a-f36a-4d2b-bc03-5348db219c24",
   "metadata": {},
   "outputs": [
    {
     "data": {
      "text/plain": [
       "array([1., 1., 1.])"
      ]
     },
     "execution_count": 51,
     "metadata": {},
     "output_type": "execute_result"
    }
   ],
   "source": [
    "a11"
   ]
  },
  {
   "cell_type": "code",
   "execution_count": 52,
   "id": "962538fb-fe20-4346-aa18-832edeff5527",
   "metadata": {},
   "outputs": [
    {
     "name": "stdout",
     "output_type": "stream",
     "text": [
      "[1. 1. 1.]\n"
     ]
    }
   ],
   "source": [
    "print(a11)"
   ]
  },
  {
   "cell_type": "code",
   "execution_count": 53,
   "id": "8796d666-e5f0-46b6-9042-723ef14c0b16",
   "metadata": {},
   "outputs": [],
   "source": [
    "a12 = np.ones((3,4))"
   ]
  },
  {
   "cell_type": "code",
   "execution_count": 54,
   "id": "d6a44a5f-89d4-4627-9cd9-252de8e3c9b3",
   "metadata": {},
   "outputs": [
    {
     "data": {
      "text/plain": [
       "array([[1., 1., 1., 1.],\n",
       "       [1., 1., 1., 1.],\n",
       "       [1., 1., 1., 1.]])"
      ]
     },
     "execution_count": 54,
     "metadata": {},
     "output_type": "execute_result"
    }
   ],
   "source": [
    "a12"
   ]
  },
  {
   "cell_type": "code",
   "execution_count": 55,
   "id": "5195f9d4-d3b1-41a1-b2a3-90b3fc6649f5",
   "metadata": {},
   "outputs": [
    {
     "name": "stdout",
     "output_type": "stream",
     "text": [
      "[[1. 1. 1. 1.]\n",
      " [1. 1. 1. 1.]\n",
      " [1. 1. 1. 1.]]\n"
     ]
    }
   ],
   "source": [
    "print(a12)"
   ]
  },
  {
   "cell_type": "code",
   "execution_count": 56,
   "id": "d93a5015-7752-46a2-818f-e33ae004529e",
   "metadata": {},
   "outputs": [],
   "source": [
    "a13 = np.ones((3,2,4))"
   ]
  },
  {
   "cell_type": "code",
   "execution_count": 57,
   "id": "2427de7a-cdd6-431b-823c-d07785b82f4d",
   "metadata": {},
   "outputs": [
    {
     "data": {
      "text/plain": [
       "array([[[1., 1., 1., 1.],\n",
       "        [1., 1., 1., 1.]],\n",
       "\n",
       "       [[1., 1., 1., 1.],\n",
       "        [1., 1., 1., 1.]],\n",
       "\n",
       "       [[1., 1., 1., 1.],\n",
       "        [1., 1., 1., 1.]]])"
      ]
     },
     "execution_count": 57,
     "metadata": {},
     "output_type": "execute_result"
    }
   ],
   "source": [
    "a13"
   ]
  },
  {
   "cell_type": "code",
   "execution_count": 58,
   "id": "2077b609-cbc0-4c5b-b47a-a800e8851c13",
   "metadata": {},
   "outputs": [
    {
     "name": "stdout",
     "output_type": "stream",
     "text": [
      "[[[1. 1. 1. 1.]\n",
      "  [1. 1. 1. 1.]]\n",
      "\n",
      " [[1. 1. 1. 1.]\n",
      "  [1. 1. 1. 1.]]\n",
      "\n",
      " [[1. 1. 1. 1.]\n",
      "  [1. 1. 1. 1.]]]\n"
     ]
    }
   ],
   "source": [
    "print(a13)"
   ]
  },
  {
   "cell_type": "markdown",
   "id": "7149a769-0382-4ea8-8519-48dfa45a9db3",
   "metadata": {},
   "source": [
    "# *empty"
   ]
  },
  {
   "cell_type": "code",
   "execution_count": 59,
   "id": "f7331323-b4f7-45ee-98a2-0c6785ad3a41",
   "metadata": {},
   "outputs": [],
   "source": [
    "arr1 = np.empty(12)"
   ]
  },
  {
   "cell_type": "code",
   "execution_count": 60,
   "id": "17350d51-2642-4ddf-8e40-4bcf0a964d5c",
   "metadata": {},
   "outputs": [
    {
     "data": {
      "text/plain": [
       "array([1., 1., 1., 1., 1., 1., 1., 1., 1., 1., 1., 1.])"
      ]
     },
     "execution_count": 60,
     "metadata": {},
     "output_type": "execute_result"
    }
   ],
   "source": [
    "arr1"
   ]
  },
  {
   "cell_type": "code",
   "execution_count": 61,
   "id": "22adb3a8-2664-40a7-8c0c-887673fa2c90",
   "metadata": {},
   "outputs": [
    {
     "name": "stdout",
     "output_type": "stream",
     "text": [
      "[1. 1. 1. 1. 1. 1. 1. 1. 1. 1. 1. 1.]\n"
     ]
    }
   ],
   "source": [
    "print(arr1)"
   ]
  },
  {
   "cell_type": "code",
   "execution_count": 62,
   "id": "63f8556b-f5a9-4ea8-93cf-56bb4c4a81e2",
   "metadata": {},
   "outputs": [],
   "source": [
    "arr2 = np.empty((4,3,2))"
   ]
  },
  {
   "cell_type": "code",
   "execution_count": 63,
   "id": "b4431826-b3fe-401b-950b-6981499c9538",
   "metadata": {},
   "outputs": [
    {
     "data": {
      "text/plain": [
       "array([[[1., 1.],\n",
       "        [1., 1.],\n",
       "        [1., 1.]],\n",
       "\n",
       "       [[1., 1.],\n",
       "        [1., 1.],\n",
       "        [1., 1.]],\n",
       "\n",
       "       [[1., 1.],\n",
       "        [1., 1.],\n",
       "        [1., 1.]],\n",
       "\n",
       "       [[1., 1.],\n",
       "        [1., 1.],\n",
       "        [1., 1.]]])"
      ]
     },
     "execution_count": 63,
     "metadata": {},
     "output_type": "execute_result"
    }
   ],
   "source": [
    "arr2"
   ]
  },
  {
   "cell_type": "code",
   "execution_count": 64,
   "id": "bd78e9bd-0a81-49e5-86fa-3b9de603b6f0",
   "metadata": {},
   "outputs": [
    {
     "name": "stdout",
     "output_type": "stream",
     "text": [
      "[[[1. 1.]\n",
      "  [1. 1.]\n",
      "  [1. 1.]]\n",
      "\n",
      " [[1. 1.]\n",
      "  [1. 1.]\n",
      "  [1. 1.]]\n",
      "\n",
      " [[1. 1.]\n",
      "  [1. 1.]\n",
      "  [1. 1.]]\n",
      "\n",
      " [[1. 1.]\n",
      "  [1. 1.]\n",
      "  [1. 1.]]]\n"
     ]
    }
   ],
   "source": [
    "print(arr2)"
   ]
  },
  {
   "cell_type": "markdown",
   "id": "f4ec0a90-6b26-4833-8658-80a5eba714c4",
   "metadata": {},
   "source": [
    "# *arange"
   ]
  },
  {
   "cell_type": "code",
   "execution_count": 65,
   "id": "5687c636-9dea-470e-b881-250053f8d9f0",
   "metadata": {},
   "outputs": [],
   "source": [
    "arrr3 = np.arange(7)"
   ]
  },
  {
   "cell_type": "code",
   "execution_count": 66,
   "id": "437ab653-4891-4683-b4c5-2f4793fab385",
   "metadata": {},
   "outputs": [
    {
     "data": {
      "text/plain": [
       "array([0, 1, 2, 3, 4, 5, 6])"
      ]
     },
     "execution_count": 66,
     "metadata": {},
     "output_type": "execute_result"
    }
   ],
   "source": [
    "arrr3"
   ]
  },
  {
   "cell_type": "code",
   "execution_count": 67,
   "id": "4d9dbc9b-f365-48d9-a3cf-235aff9529b5",
   "metadata": {},
   "outputs": [
    {
     "name": "stdout",
     "output_type": "stream",
     "text": [
      "[0 1 2 3 4 5 6]\n"
     ]
    }
   ],
   "source": [
    "print(arrr3)"
   ]
  },
  {
   "cell_type": "code",
   "execution_count": 68,
   "id": "fdb88a00-af0a-4f57-aef8-04e684189d79",
   "metadata": {},
   "outputs": [],
   "source": [
    "arr3 = np.arange((5))"
   ]
  },
  {
   "cell_type": "code",
   "execution_count": 69,
   "id": "5af44c6b-d657-48db-8b09-2543c497d2ba",
   "metadata": {},
   "outputs": [
    {
     "data": {
      "text/plain": [
       "array([0, 1, 2, 3, 4])"
      ]
     },
     "execution_count": 69,
     "metadata": {},
     "output_type": "execute_result"
    }
   ],
   "source": [
    "arr3"
   ]
  },
  {
   "cell_type": "code",
   "execution_count": 70,
   "id": "887af60b-288f-43b0-8f76-b6c36ae1f251",
   "metadata": {},
   "outputs": [
    {
     "name": "stdout",
     "output_type": "stream",
     "text": [
      "[0 1 2 3 4]\n"
     ]
    }
   ],
   "source": [
    "print(arr3)"
   ]
  },
  {
   "cell_type": "markdown",
   "id": "3c90918f-de6f-4908-9fa6-6ced42a680ff",
   "metadata": {},
   "source": [
    "# *diagonal"
   ]
  },
  {
   "cell_type": "code",
   "execution_count": 71,
   "id": "c70cea53-c41e-49f3-bf30-b8bafb3b36fb",
   "metadata": {},
   "outputs": [],
   "source": [
    "arr4 = np.eye(4)"
   ]
  },
  {
   "cell_type": "code",
   "execution_count": 72,
   "id": "6cf6bc8b-acea-40ce-a506-6a66d0f43588",
   "metadata": {},
   "outputs": [
    {
     "data": {
      "text/plain": [
       "array([[1., 0., 0., 0.],\n",
       "       [0., 1., 0., 0.],\n",
       "       [0., 0., 1., 0.],\n",
       "       [0., 0., 0., 1.]])"
      ]
     },
     "execution_count": 72,
     "metadata": {},
     "output_type": "execute_result"
    }
   ],
   "source": [
    "arr4"
   ]
  },
  {
   "cell_type": "code",
   "execution_count": 73,
   "id": "7255fa03-9939-41dc-9004-97cef9602770",
   "metadata": {},
   "outputs": [
    {
     "name": "stdout",
     "output_type": "stream",
     "text": [
      "[[1. 0. 0. 0.]\n",
      " [0. 1. 0. 0.]\n",
      " [0. 0. 1. 0.]\n",
      " [0. 0. 0. 1.]]\n"
     ]
    }
   ],
   "source": [
    "print(arr4)"
   ]
  },
  {
   "cell_type": "code",
   "execution_count": 74,
   "id": "54caae4c-b41f-4249-9bea-068c9ac10ca2",
   "metadata": {},
   "outputs": [],
   "source": [
    "arr5 = np.eye(3,5)"
   ]
  },
  {
   "cell_type": "code",
   "execution_count": 75,
   "id": "d2006650-58cb-4cd2-afc6-456932ef9255",
   "metadata": {},
   "outputs": [
    {
     "data": {
      "text/plain": [
       "array([[1., 0., 0., 0., 0.],\n",
       "       [0., 1., 0., 0., 0.],\n",
       "       [0., 0., 1., 0., 0.]])"
      ]
     },
     "execution_count": 75,
     "metadata": {},
     "output_type": "execute_result"
    }
   ],
   "source": [
    "arr5"
   ]
  },
  {
   "cell_type": "code",
   "execution_count": 76,
   "id": "5a284139-9fd5-44ed-b8f2-13e09cea9911",
   "metadata": {},
   "outputs": [
    {
     "name": "stdout",
     "output_type": "stream",
     "text": [
      "[[1. 0. 0. 0. 0.]\n",
      " [0. 1. 0. 0. 0.]\n",
      " [0. 0. 1. 0. 0.]]\n"
     ]
    }
   ],
   "source": [
    "print(arr5)"
   ]
  },
  {
   "cell_type": "markdown",
   "id": "bbd6579f-bd91-46a2-bced-2a1d4da2bd4d",
   "metadata": {},
   "source": [
    " # *linspace"
   ]
  },
  {
   "cell_type": "code",
   "execution_count": 77,
   "id": "5bd147b9-9cd5-4609-8b61-8e3caaedbb2b",
   "metadata": {},
   "outputs": [],
   "source": [
    "arr6 = np.linspace(1,10,5)"
   ]
  },
  {
   "cell_type": "code",
   "execution_count": 78,
   "id": "dbbef7fe-0279-4e99-8637-90496c0f73b8",
   "metadata": {},
   "outputs": [
    {
     "data": {
      "text/plain": [
       "array([ 1.  ,  3.25,  5.5 ,  7.75, 10.  ])"
      ]
     },
     "execution_count": 78,
     "metadata": {},
     "output_type": "execute_result"
    }
   ],
   "source": [
    "arr6"
   ]
  },
  {
   "cell_type": "code",
   "execution_count": 79,
   "id": "82f3c13f-7082-44c5-89a0-40d59a7abede",
   "metadata": {},
   "outputs": [
    {
     "name": "stdout",
     "output_type": "stream",
     "text": [
      "[ 1.    3.25  5.5   7.75 10.  ]\n"
     ]
    }
   ],
   "source": [
    "print(arr6)"
   ]
  },
  {
   "cell_type": "code",
   "execution_count": null,
   "id": "610765d6-6066-4c88-ba5d-a8cd1413585a",
   "metadata": {},
   "outputs": [],
   "source": [
    "\n"
   ]
  },
  {
   "cell_type": "code",
   "execution_count": null,
   "id": "bc2260ee-aab4-48dc-a45a-4ea0b6c57bec",
   "metadata": {},
   "outputs": [],
   "source": [
    "\n"
   ]
  },
  {
   "cell_type": "markdown",
   "id": "723c0360-9c46-44a0-bd7f-b88e48912b83",
   "metadata": {},
   "source": [
    "# Random"
   ]
  },
  {
   "cell_type": "markdown",
   "id": "e789a217-4308-4c97-a50d-7eb623c43cab",
   "metadata": {},
   "source": [
    "# rand()"
   ]
  },
  {
   "cell_type": "code",
   "execution_count": 80,
   "id": "9d586bf8-b0e2-4f37-9053-7600029b5134",
   "metadata": {},
   "outputs": [],
   "source": [
    "v1 = np.random.rand(5)"
   ]
  },
  {
   "cell_type": "code",
   "execution_count": 81,
   "id": "7377c790-550f-4666-bf2c-f85cb89d2ede",
   "metadata": {},
   "outputs": [
    {
     "data": {
      "text/plain": [
       "array([0.36849611, 0.02902727, 0.73079655, 0.9271421 , 0.71340994])"
      ]
     },
     "execution_count": 81,
     "metadata": {},
     "output_type": "execute_result"
    }
   ],
   "source": [
    "v1"
   ]
  },
  {
   "cell_type": "code",
   "execution_count": 82,
   "id": "b6ac16ba-68f2-4c54-a6fd-0218242f2fa0",
   "metadata": {},
   "outputs": [
    {
     "name": "stdout",
     "output_type": "stream",
     "text": [
      "[0.36849611 0.02902727 0.73079655 0.9271421  0.71340994]\n"
     ]
    }
   ],
   "source": [
    "print(v1)"
   ]
  },
  {
   "cell_type": "code",
   "execution_count": 83,
   "id": "3755bff1-ddde-4456-ac3d-eeb7ff124d28",
   "metadata": {},
   "outputs": [],
   "source": [
    "v2 = np.random.rand(3,4)"
   ]
  },
  {
   "cell_type": "code",
   "execution_count": 84,
   "id": "5aff805a-cb8a-46b5-91c7-2332046209d4",
   "metadata": {},
   "outputs": [
    {
     "name": "stdout",
     "output_type": "stream",
     "text": [
      "[[0.61755916 0.77019767 0.99829699 0.34592131]\n",
      " [0.92177238 0.66763143 0.28279784 0.73692693]\n",
      " [0.46153021 0.99260934 0.16234517 0.61917415]]\n"
     ]
    }
   ],
   "source": [
    "print(v2)"
   ]
  },
  {
   "cell_type": "code",
   "execution_count": 85,
   "id": "f1781f40-c5af-4961-a5de-ec6a4849811b",
   "metadata": {},
   "outputs": [
    {
     "data": {
      "text/plain": [
       "array([[0.61755916, 0.77019767, 0.99829699, 0.34592131],\n",
       "       [0.92177238, 0.66763143, 0.28279784, 0.73692693],\n",
       "       [0.46153021, 0.99260934, 0.16234517, 0.61917415]])"
      ]
     },
     "execution_count": 85,
     "metadata": {},
     "output_type": "execute_result"
    }
   ],
   "source": [
    "v2"
   ]
  },
  {
   "cell_type": "code",
   "execution_count": 86,
   "id": "e03ecdc3-0e98-494f-9cb1-c08f9c3fa1b6",
   "metadata": {},
   "outputs": [],
   "source": [
    "v3 = np.random.rand(3,4,5)"
   ]
  },
  {
   "cell_type": "code",
   "execution_count": 87,
   "id": "4279d098-5cfc-47a9-a071-0fa2489de573",
   "metadata": {},
   "outputs": [
    {
     "data": {
      "text/plain": [
       "array([[[0.51810905, 0.6191585 , 0.18510691, 0.37805616, 0.8139329 ],\n",
       "        [0.64524343, 0.60017013, 0.37926719, 0.06187874, 0.84860084],\n",
       "        [0.65999593, 0.5037038 , 0.43003451, 0.23512838, 0.11216653],\n",
       "        [0.18780874, 0.1730999 , 0.70352033, 0.07569547, 0.39416144]],\n",
       "\n",
       "       [[0.76721572, 0.3440321 , 0.54930391, 0.95689795, 0.22478748],\n",
       "        [0.0589765 , 0.89173696, 0.51836495, 0.82266395, 0.14473887],\n",
       "        [0.91259812, 0.77424122, 0.05456004, 0.84419171, 0.89476826],\n",
       "        [0.4732553 , 0.42687263, 0.15122776, 0.36436522, 0.48467499]],\n",
       "\n",
       "       [[0.18891967, 0.763037  , 0.75988907, 0.36097617, 0.94914549],\n",
       "        [0.89550961, 0.30739402, 0.39211651, 0.97159909, 0.17731902],\n",
       "        [0.92573262, 0.89258244, 0.74729742, 0.99435815, 0.70046893],\n",
       "        [0.69353863, 0.49808241, 0.35808931, 0.38312674, 0.63797481]]])"
      ]
     },
     "execution_count": 87,
     "metadata": {},
     "output_type": "execute_result"
    }
   ],
   "source": [
    "v3"
   ]
  },
  {
   "cell_type": "markdown",
   "id": "131dbc26-5dc4-4274-b0ed-79702075a0ed",
   "metadata": {},
   "source": [
    "# randn()"
   ]
  },
  {
   "cell_type": "code",
   "execution_count": 88,
   "id": "21318d09-941a-4507-b4af-e8d8699ae0d9",
   "metadata": {},
   "outputs": [],
   "source": [
    "vr1 = np.random.randn(5)"
   ]
  },
  {
   "cell_type": "code",
   "execution_count": 89,
   "id": "c0a97c53-77d2-4554-8b5f-3d70f2834fd2",
   "metadata": {},
   "outputs": [
    {
     "data": {
      "text/plain": [
       "array([ 0.4662133 , -1.00579681,  1.08907578,  0.08530312,  0.96125496])"
      ]
     },
     "execution_count": 89,
     "metadata": {},
     "output_type": "execute_result"
    }
   ],
   "source": [
    "vr1"
   ]
  },
  {
   "cell_type": "code",
   "execution_count": 90,
   "id": "3906a289-8aee-47b5-bb9c-3745f3e900e3",
   "metadata": {},
   "outputs": [
    {
     "name": "stdout",
     "output_type": "stream",
     "text": [
      "[ 0.4662133  -1.00579681  1.08907578  0.08530312  0.96125496]\n"
     ]
    }
   ],
   "source": [
    "print(vr1)"
   ]
  },
  {
   "cell_type": "code",
   "execution_count": 91,
   "id": "b39e4240-109d-4bc9-9440-9c45e150a528",
   "metadata": {},
   "outputs": [],
   "source": [
    "vr2 = np.random.randn(4,5,3)"
   ]
  },
  {
   "cell_type": "code",
   "execution_count": 92,
   "id": "6a561d1e-50e1-46b1-bd04-92c389821026",
   "metadata": {},
   "outputs": [
    {
     "name": "stdout",
     "output_type": "stream",
     "text": [
      "[[[-1.53601478  0.11898505  0.70534461]\n",
      "  [ 0.16107037  0.36907881  1.14122836]\n",
      "  [ 0.31063682 -0.5168224  -1.9723331 ]\n",
      "  [ 0.68041262 -0.98030319  0.08473509]\n",
      "  [ 0.1864412  -1.47118804 -0.62259178]]\n",
      "\n",
      " [[-0.60045918  1.16041566  0.7722839 ]\n",
      "  [-1.57632856  0.71798653 -1.50009187]\n",
      "  [ 1.15205988  1.02802996 -1.55453595]\n",
      "  [-0.33737688  0.81552034  0.40232035]\n",
      "  [ 0.53806226 -3.03287488 -0.20739138]]\n",
      "\n",
      " [[ 0.2580184   0.42977957  1.57334266]\n",
      "  [ 1.00006993  1.21981403 -0.67314552]\n",
      "  [ 0.48697866 -1.19622697 -2.03786395]\n",
      "  [-0.92366823  0.36178084  0.44034151]\n",
      "  [-0.28525186 -0.24434204 -0.21660644]]\n",
      "\n",
      " [[ 1.37778081 -0.48762471 -0.62598043]\n",
      "  [-0.84388929  1.93592973 -0.01543998]\n",
      "  [ 1.96863517  1.05848633 -0.45539126]\n",
      "  [ 1.52030626 -0.61040923  0.80257655]\n",
      "  [ 2.13166376  1.0081929   0.24952956]]]\n"
     ]
    }
   ],
   "source": [
    "print(vr2)"
   ]
  },
  {
   "cell_type": "markdown",
   "id": "2b21e39a-a44f-4fe2-be54-6ac36fa5c542",
   "metadata": {},
   "source": [
    "# ranf()"
   ]
  },
  {
   "cell_type": "code",
   "execution_count": 93,
   "id": "f1f0f258-4fba-4bce-a3f1-566c278e1660",
   "metadata": {},
   "outputs": [],
   "source": [
    "vr3 = np.random.ranf(45)"
   ]
  },
  {
   "cell_type": "code",
   "execution_count": 94,
   "id": "deee64d4-0e3b-461b-82b5-edba8b1ab3ff",
   "metadata": {},
   "outputs": [
    {
     "data": {
      "text/plain": [
       "array([0.26756521, 0.27218659, 0.42963609, 0.0279034 , 0.38899472,\n",
       "       0.73946931, 0.7701902 , 0.950261  , 0.55600903, 0.46143954,\n",
       "       0.72467117, 0.91456258, 0.67698589, 0.39359723, 0.44874196,\n",
       "       0.35964575, 0.24374287, 0.47956776, 0.23206731, 0.60534567,\n",
       "       0.72073171, 0.65543951, 0.64687671, 0.21357663, 0.00288906,\n",
       "       0.48629938, 0.50730423, 0.90262995, 0.51661032, 0.98271552,\n",
       "       0.7165931 , 0.89534636, 0.54210339, 0.33841988, 0.89449165,\n",
       "       0.1508863 , 0.89567574, 0.64969208, 0.65124683, 0.57110661,\n",
       "       0.84063797, 0.02165627, 0.78840041, 0.00719325, 0.81672325])"
      ]
     },
     "execution_count": 94,
     "metadata": {},
     "output_type": "execute_result"
    }
   ],
   "source": [
    "vr3"
   ]
  },
  {
   "cell_type": "code",
   "execution_count": 95,
   "id": "52eb3b0e-7535-4bfb-9261-c9979af438fc",
   "metadata": {},
   "outputs": [
    {
     "name": "stdout",
     "output_type": "stream",
     "text": [
      "[0.26756521 0.27218659 0.42963609 0.0279034  0.38899472 0.73946931\n",
      " 0.7701902  0.950261   0.55600903 0.46143954 0.72467117 0.91456258\n",
      " 0.67698589 0.39359723 0.44874196 0.35964575 0.24374287 0.47956776\n",
      " 0.23206731 0.60534567 0.72073171 0.65543951 0.64687671 0.21357663\n",
      " 0.00288906 0.48629938 0.50730423 0.90262995 0.51661032 0.98271552\n",
      " 0.7165931  0.89534636 0.54210339 0.33841988 0.89449165 0.1508863\n",
      " 0.89567574 0.64969208 0.65124683 0.57110661 0.84063797 0.02165627\n",
      " 0.78840041 0.00719325 0.81672325]\n"
     ]
    }
   ],
   "source": [
    "print(vr3)"
   ]
  },
  {
   "cell_type": "code",
   "execution_count": 96,
   "id": "519b3872-1d28-4e6d-a484-6ee78ecb2128",
   "metadata": {},
   "outputs": [],
   "source": [
    "vr4 = np.random.rand(3,4,5)"
   ]
  },
  {
   "cell_type": "code",
   "execution_count": 97,
   "id": "be54fe01-4fe2-4103-8e86-f9a454d1f3d6",
   "metadata": {},
   "outputs": [
    {
     "name": "stdout",
     "output_type": "stream",
     "text": [
      "[[[0.24216055 0.23258356 0.79782506 0.87564259 0.25846795]\n",
      "  [0.86713571 0.37542501 0.47866321 0.97085089 0.61164443]\n",
      "  [0.00816903 0.85805008 0.09977535 0.00953528 0.8981214 ]\n",
      "  [0.69930656 0.07118339 0.39820963 0.2876505  0.97244396]]\n",
      "\n",
      " [[0.9562841  0.92270315 0.64893307 0.5153534  0.65499794]\n",
      "  [0.69063721 0.82635362 0.30155799 0.1607332  0.63116252]\n",
      "  [0.89957607 0.42831714 0.9841064  0.11654641 0.53019313]\n",
      "  [0.32657034 0.66796657 0.98926069 0.05436098 0.43973414]]\n",
      "\n",
      " [[0.22770299 0.48044949 0.81841738 0.26390771 0.4457815 ]\n",
      "  [0.74882335 0.73898471 0.0996164  0.07983176 0.306277  ]\n",
      "  [0.79795604 0.52783487 0.61981359 0.91795155 0.33758903]\n",
      "  [0.22766446 0.98161111 0.25990784 0.98802219 0.43831054]]]\n"
     ]
    }
   ],
   "source": [
    "print(vr4)"
   ]
  },
  {
   "cell_type": "markdown",
   "id": "a8202216-6a4b-4539-a239-22bbfe14a248",
   "metadata": {},
   "source": [
    "# randint()"
   ]
  },
  {
   "cell_type": "code",
   "execution_count": 98,
   "id": "366039e4-7025-4112-b8fc-2ecac2eb1a3c",
   "metadata": {},
   "outputs": [],
   "source": [
    "var1 = np.random.randint(5,35,5)"
   ]
  },
  {
   "cell_type": "code",
   "execution_count": 99,
   "id": "e8fe16e1-0f79-4023-8882-1b8a4caf859b",
   "metadata": {},
   "outputs": [
    {
     "data": {
      "text/plain": [
       "array([ 7, 24, 31,  9, 27])"
      ]
     },
     "execution_count": 99,
     "metadata": {},
     "output_type": "execute_result"
    }
   ],
   "source": [
    "var1"
   ]
  },
  {
   "cell_type": "code",
   "execution_count": 100,
   "id": "d0ff5741-eb03-4d9c-9b90-6ec7fb8eae44",
   "metadata": {},
   "outputs": [
    {
     "name": "stdout",
     "output_type": "stream",
     "text": [
      "[ 7 24 31  9 27]\n"
     ]
    }
   ],
   "source": [
    "print(var1)"
   ]
  },
  {
   "cell_type": "code",
   "execution_count": 101,
   "id": "fc3c9df6-3238-4476-ad14-859a6da06a37",
   "metadata": {},
   "outputs": [],
   "source": [
    "var2 = np.random.randint(5,55,(2,3,4))"
   ]
  },
  {
   "cell_type": "code",
   "execution_count": 102,
   "id": "7a2be63d-6455-4f2d-aa96-713b0c431581",
   "metadata": {},
   "outputs": [
    {
     "name": "stdout",
     "output_type": "stream",
     "text": [
      "[[[24 10 14 43]\n",
      "  [ 7 32 24 23]\n",
      "  [21 14 17 49]]\n",
      "\n",
      " [[54 32 22 28]\n",
      "  [54  6 29 43]\n",
      "  [23 45 38 36]]]\n"
     ]
    }
   ],
   "source": [
    "print(var2)"
   ]
  },
  {
   "cell_type": "code",
   "execution_count": null,
   "id": "10142752-34c4-4943-adcf-0da3f25b8017",
   "metadata": {},
   "outputs": [],
   "source": []
  },
  {
   "cell_type": "code",
   "execution_count": null,
   "id": "374ddef5-712e-47ba-9ed7-350811ab32f2",
   "metadata": {},
   "outputs": [],
   "source": [
    "\n"
   ]
  },
  {
   "cell_type": "markdown",
   "id": "d23ad557-34b3-411c-8b39-8f2d47208f28",
   "metadata": {},
   "source": [
    "# Data Types"
   ]
  },
  {
   "cell_type": "code",
   "execution_count": 103,
   "id": "2ea3f74e-5695-4ecd-9c0a-7a614f768f50",
   "metadata": {},
   "outputs": [],
   "source": [
    "ar1 = np.array([1,23,34,45,5,551,5])"
   ]
  },
  {
   "cell_type": "code",
   "execution_count": 104,
   "id": "09f89f02-624a-4b66-bcd4-46ada4725cfe",
   "metadata": {},
   "outputs": [
    {
     "data": {
      "text/plain": [
       "numpy.ndarray"
      ]
     },
     "execution_count": 104,
     "metadata": {},
     "output_type": "execute_result"
    }
   ],
   "source": [
    "type(ar1)"
   ]
  },
  {
   "cell_type": "code",
   "execution_count": 105,
   "id": "8e875a8e-3971-4d41-acb2-b570f985980e",
   "metadata": {},
   "outputs": [
    {
     "name": "stdout",
     "output_type": "stream",
     "text": [
      "Data Type :  int32\n"
     ]
    }
   ],
   "source": [
    "print(\"Data Type : \",ar1.dtype)"
   ]
  },
  {
   "cell_type": "code",
   "execution_count": 106,
   "id": "7ec530ee-c6a3-4cda-be5e-3d621871f1fa",
   "metadata": {},
   "outputs": [],
   "source": [
    "v1 = np.array([2.4,3.5,34,34.34])"
   ]
  },
  {
   "cell_type": "code",
   "execution_count": 107,
   "id": "e2bb2492-1b6e-49f0-b6a3-66ad025357c0",
   "metadata": {},
   "outputs": [
    {
     "data": {
      "text/plain": [
       "numpy.ndarray"
      ]
     },
     "execution_count": 107,
     "metadata": {},
     "output_type": "execute_result"
    }
   ],
   "source": [
    "type(v1)"
   ]
  },
  {
   "cell_type": "code",
   "execution_count": 108,
   "id": "65200cfa-4ff5-497d-a4fe-6717a970a6e6",
   "metadata": {},
   "outputs": [
    {
     "name": "stdout",
     "output_type": "stream",
     "text": [
      "float64\n"
     ]
    }
   ],
   "source": [
    "print(v1.dtype)"
   ]
  },
  {
   "cell_type": "code",
   "execution_count": 109,
   "id": "c28fa72b-08c4-4833-a7b6-d6c272e61d66",
   "metadata": {},
   "outputs": [],
   "source": [
    "p = np.array([\"r\",\"m\",\"v\",\"p\"])"
   ]
  },
  {
   "cell_type": "code",
   "execution_count": 110,
   "id": "0fa07a4d-8897-4f3a-bee1-ed038bce7ea7",
   "metadata": {},
   "outputs": [
    {
     "name": "stdout",
     "output_type": "stream",
     "text": [
      "['r' 'm' 'v' 'p']\n",
      "<U1\n"
     ]
    }
   ],
   "source": [
    "print(p)\n",
    "print(p.dtype)"
   ]
  },
  {
   "cell_type": "code",
   "execution_count": 111,
   "id": "4c3a9cd2-5107-4e0c-9541-7df4d9c85d31",
   "metadata": {},
   "outputs": [
    {
     "name": "stdout",
     "output_type": "stream",
     "text": [
      "['r' 'm' 'v' 'p' '1' '4' '6' '6']\n",
      "<U11\n"
     ]
    }
   ],
   "source": [
    "p = np.array([\"r\",\"m\",\"v\",\"p\",1,4,6,6])\n",
    "print(p)\n",
    "print(p.dtype)"
   ]
  },
  {
   "cell_type": "code",
   "execution_count": 112,
   "id": "cfaba905-1874-474c-9cc0-accfe5af0e00",
   "metadata": {},
   "outputs": [
    {
     "name": "stdout",
     "output_type": "stream",
     "text": [
      "[12.  2. 43. 45. 56.]\n",
      "<class 'numpy.ndarray'>\n",
      "float64\n"
     ]
    }
   ],
   "source": [
    "a = np.array([12,2,43,45,56],dtype = float)\n",
    "print(a)\n",
    "print(type(a))\n",
    "print(a.dtype)"
   ]
  },
  {
   "cell_type": "code",
   "execution_count": 113,
   "id": "6024ef1c-71ab-452a-b2d8-2fe2c82425cb",
   "metadata": {},
   "outputs": [
    {
     "name": "stdout",
     "output_type": "stream",
     "text": [
      "float32\n"
     ]
    }
   ],
   "source": [
    "b = np.array([2,23,4,5], dtype = \"f\")\n",
    "print(b.dtype)"
   ]
  },
  {
   "cell_type": "code",
   "execution_count": 114,
   "id": "0bd4d44e-c776-4deb-96ba-684570c993e6",
   "metadata": {},
   "outputs": [
    {
     "name": "stdout",
     "output_type": "stream",
     "text": [
      "<U2\n"
     ]
    }
   ],
   "source": [
    "b = np.array([2,23,4,5], dtype = \"U\")\n",
    "print(b.dtype)"
   ]
  },
  {
   "cell_type": "code",
   "execution_count": 115,
   "id": "b4e36281-73cb-4105-9d6b-c732ed68c385",
   "metadata": {},
   "outputs": [
    {
     "name": "stdout",
     "output_type": "stream",
     "text": [
      "int8\n"
     ]
    }
   ],
   "source": [
    "b = np.array([2,23,4,5], dtype = \"b\")\n",
    "print(b.dtype)"
   ]
  },
  {
   "cell_type": "code",
   "execution_count": 116,
   "id": "80d78c3e-9d65-409e-9a8a-ed7bd1e17018",
   "metadata": {},
   "outputs": [
    {
     "name": "stdout",
     "output_type": "stream",
     "text": [
      "|S1\n"
     ]
    }
   ],
   "source": [
    "b = np.array([2,23,4,5], dtype = \"c\")\n",
    "print(b.dtype)"
   ]
  },
  {
   "cell_type": "code",
   "execution_count": 117,
   "id": "d051bc44-9e6f-4a19-aeee-75dbd6622189",
   "metadata": {},
   "outputs": [
    {
     "name": "stdout",
     "output_type": "stream",
     "text": [
      "[b'2' b'2' b'4' b'5']\n"
     ]
    }
   ],
   "source": [
    "print(b)"
   ]
  },
  {
   "cell_type": "code",
   "execution_count": 118,
   "id": "c014f433-4996-4849-a1f7-3fe95f7fc044",
   "metadata": {},
   "outputs": [
    {
     "name": "stdout",
     "output_type": "stream",
     "text": [
      "[12  2 43 45 56]\n",
      "<class 'numpy.ndarray'>\n",
      "int32\n"
     ]
    }
   ],
   "source": [
    "a = np.array([12,2,43,45,56],dtype = np.int_)\n",
    "print(a)\n",
    "print(type(a))\n",
    "print(a.dtype)"
   ]
  },
  {
   "cell_type": "code",
   "execution_count": 119,
   "id": "7a7e79b8-c1f2-41d6-be3f-9c45c35f4bb2",
   "metadata": {},
   "outputs": [
    {
     "name": "stdout",
     "output_type": "stream",
     "text": [
      "[12  2 43 45 56]\n",
      "<class 'numpy.ndarray'>\n",
      "int8\n"
     ]
    }
   ],
   "source": [
    "a = np.array([12,2,43,45,56],dtype = np.int8)\n",
    "print(a)\n",
    "print(type(a))\n",
    "print(a.dtype)"
   ]
  },
  {
   "cell_type": "code",
   "execution_count": 120,
   "id": "efa910c1-130c-4bc6-bce0-463ebc21f16c",
   "metadata": {},
   "outputs": [
    {
     "name": "stdout",
     "output_type": "stream",
     "text": [
      "[ True  True  True  True  True]\n",
      "<class 'numpy.ndarray'>\n",
      "bool\n"
     ]
    }
   ],
   "source": [
    "a = np.array([12,2,43,45,56],dtype = np.bool_)\n",
    "print(a)\n",
    "print(type(a))\n",
    "print(a.dtype)"
   ]
  },
  {
   "cell_type": "code",
   "execution_count": 121,
   "id": "3ca0822e-6420-4956-95ef-9511ff8fe53a",
   "metadata": {},
   "outputs": [
    {
     "name": "stdout",
     "output_type": "stream",
     "text": [
      "['12' '2' '43' '45' '56']\n",
      "<class 'numpy.ndarray'>\n",
      "<U2\n"
     ]
    }
   ],
   "source": [
    "a = np.array([12,2,43,45,56],dtype = \"U\")\n",
    "print(a)\n",
    "print(type(a))\n",
    "print(a.dtype)"
   ]
  },
  {
   "cell_type": "code",
   "execution_count": 122,
   "id": "ba073976-60f1-4805-b871-81662e3bd0de",
   "metadata": {},
   "outputs": [
    {
     "name": "stdout",
     "output_type": "stream",
     "text": [
      "[12.  2. 43. 45. 56.]\n",
      "<class 'numpy.ndarray'>\n",
      "float32\n"
     ]
    }
   ],
   "source": [
    "a = np.array([12,2,43,45,56],dtype = \"f\")\n",
    "print(a)\n",
    "print(type(a))\n",
    "print(a.dtype)"
   ]
  },
  {
   "cell_type": "code",
   "execution_count": 127,
   "id": "8ee4c11b-56e2-4ed1-b8bc-76f7bd69a2e9",
   "metadata": {},
   "outputs": [
    {
     "name": "stdout",
     "output_type": "stream",
     "text": [
      "[1 2 3 4 5]\n",
      "int32\n",
      "[1. 2. 3. 4. 5.]\n",
      "float32\n"
     ]
    }
   ],
   "source": [
    "l = np.array([1,2,3,4,5])\n",
    "print(l)\n",
    "print(l.dtype)\n",
    "n = np.float32(l)\n",
    "print(n)\n",
    "print(n.dtype)"
   ]
  },
  {
   "cell_type": "code",
   "execution_count": 128,
   "id": "63f9778d-7914-415f-93a2-bb62c164574a",
   "metadata": {},
   "outputs": [
    {
     "name": "stdout",
     "output_type": "stream",
     "text": [
      "[ True  True  True  True  True]\n",
      "bool\n"
     ]
    }
   ],
   "source": [
    "b = np.bool_(n)\n",
    "print(b)\n",
    "print(b.dtype)"
   ]
  },
  {
   "cell_type": "code",
   "execution_count": 129,
   "id": "44335d4b-3ca2-4445-b4a4-abe21bfb65a1",
   "metadata": {},
   "outputs": [
    {
     "name": "stdout",
     "output_type": "stream",
     "text": [
      "[1. 1. 1. 1. 1.]\n",
      "float64\n"
     ]
    }
   ],
   "source": [
    "h=b.astype(float)\n",
    "print(h)\n",
    "print(h.dtype)"
   ]
  },
  {
   "cell_type": "code",
   "execution_count": null,
   "id": "ad33dc32-9c7b-478b-b89c-7147de8b8e46",
   "metadata": {},
   "outputs": [],
   "source": []
  }
 ],
 "metadata": {
  "kernelspec": {
   "display_name": "Python 3 (ipykernel)",
   "language": "python",
   "name": "python3"
  },
  "language_info": {
   "codemirror_mode": {
    "name": "ipython",
    "version": 3
   },
   "file_extension": ".py",
   "mimetype": "text/x-python",
   "name": "python",
   "nbconvert_exporter": "python",
   "pygments_lexer": "ipython3",
   "version": "3.11.5"
  }
 },
 "nbformat": 4,
 "nbformat_minor": 5
}
