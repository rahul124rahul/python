{
 "cells": [
  {
   "cell_type": "markdown",
   "id": "a3cf8f7a-534a-4ef5-b726-91bc8b482194",
   "metadata": {},
   "source": [
    "# List Operations"
   ]
  },
  {
   "cell_type": "code",
   "execution_count": 3,
   "id": "657766df-75df-4f30-a675-c297821dbd8d",
   "metadata": {},
   "outputs": [],
   "source": [
    "\"\"\"Default list is passed to the function , the reflection of the passing any other list and function calling without passing \n",
    "        anything is also shown here in following \"\"\"\n",
    "\n",
    "def DefaultList( l =[1,2] ):\n",
    "    for i in l:\n",
    "        print(i)"
   ]
  },
  {
   "cell_type": "code",
   "execution_count": 8,
   "id": "4516732d-1781-40b7-8c27-2b2e22795ceb",
   "metadata": {},
   "outputs": [
    {
     "name": "stdout",
     "output_type": "stream",
     "text": [
      "1\n",
      "2\n"
     ]
    }
   ],
   "source": [
    "# If we call the function without passing any parameter we get the default values from the function which are passed at the time \n",
    "# of the function defination\n",
    "\n",
    "DefaultList()"
   ]
  },
  {
   "cell_type": "code",
   "execution_count": 9,
   "id": "23284b68-d103-47b3-9dcc-9332c1a2ba7b",
   "metadata": {},
   "outputs": [
    {
     "name": "stdout",
     "output_type": "stream",
     "text": [
      "12\n",
      "21\n",
      "Rahul\n",
      "Sonu\n",
      "21.21\n"
     ]
    }
   ],
   "source": [
    "# We can pass the new list for the operation like following\n",
    "\n",
    "l2 = [12 ,21, \"Rahul\" ,\"Sonu\" ,21.21]\n",
    "DefaultList(l2)"
   ]
  },
  {
   "cell_type": "code",
   "execution_count": 10,
   "id": "293d8ab0-795f-4001-bdab-d8683aab759f",
   "metadata": {},
   "outputs": [
    {
     "name": "stdout",
     "output_type": "stream",
     "text": [
      "Rahul\n",
      "21\n",
      "23\n",
      "221.212\n",
      "Ooops\n"
     ]
    }
   ],
   "source": [
    "# We can pass the list in python function like following also\n",
    "\n",
    "DefaultList( [ \"Rahul\" , 21, 23 , 221.212 , \"Ooops\" ])"
   ]
  },
  {
   "cell_type": "code",
   "execution_count": 11,
   "id": "4fbdcaf1-9d6f-4343-96e1-083fa3bf8b8c",
   "metadata": {},
   "outputs": [
    {
     "name": "stdout",
     "output_type": "stream",
     "text": [
      "1\n",
      "2\n"
     ]
    }
   ],
   "source": [
    "DefaultList()"
   ]
  },
  {
   "cell_type": "code",
   "execution_count": null,
   "id": "6338bcd2-2586-45cf-9c8d-07c94f07d4a0",
   "metadata": {},
   "outputs": [],
   "source": [
    "\n",
    "\n"
   ]
  },
  {
   "cell_type": "markdown",
   "id": "11c456da-cc56-4781-a30d-9b9816c752ac",
   "metadata": {},
   "source": [
    "# Importing Modules\n",
    "\n"
   ]
  },
  {
   "cell_type": "code",
   "execution_count": 1,
   "id": "ea8db13b-186f-4187-b308-74047f84222c",
   "metadata": {},
   "outputs": [],
   "source": [
    "import sys\n",
    "sys.path.append('D:/Study/some/')"
   ]
  },
  {
   "cell_type": "code",
   "execution_count": 2,
   "id": "5af72db0-032d-488b-bbd0-6a48fe5e6077",
   "metadata": {},
   "outputs": [],
   "source": [
    "# for importing the whole module for using more than 1 functions we use following method of importing \n",
    "import rahul as r"
   ]
  },
  {
   "cell_type": "code",
   "execution_count": 3,
   "id": "5a8020d9-6185-4da7-b01c-a4c3172eafb0",
   "metadata": {},
   "outputs": [
    {
     "name": "stdout",
     "output_type": "stream",
     "text": [
      "My name is Rahul Dadge  !!!!!!!!!!!!!!!!!!!!!!!!!!!!!!!!!! \n"
     ]
    }
   ],
   "source": [
    "r.printname()"
   ]
  },
  {
   "cell_type": "code",
   "execution_count": 4,
   "id": "2922b8d2-8455-4525-aa00-2a372c577762",
   "metadata": {},
   "outputs": [
    {
     "name": "stdout",
     "output_type": "stream",
     "text": [
      "6\n"
     ]
    }
   ],
   "source": [
    "d = r.add(2,4)\n",
    "print(d)"
   ]
  },
  {
   "cell_type": "code",
   "execution_count": 5,
   "id": "ba650281-2033-4ea2-85f3-3935e333638c",
   "metadata": {},
   "outputs": [
    {
     "data": {
      "text/plain": [
       "15"
      ]
     },
     "execution_count": 5,
     "metadata": {},
     "output_type": "execute_result"
    }
   ],
   "source": [
    "r.add(1,2,3,4,5)"
   ]
  },
  {
   "cell_type": "code",
   "execution_count": 6,
   "id": "5d6ee47f-3ff9-4d18-91a5-bc3bd155f889",
   "metadata": {},
   "outputs": [
    {
     "data": {
      "text/plain": [
       "\u001b[1;31mSignature:\u001b[0m \u001b[0mr\u001b[0m\u001b[1;33m.\u001b[0m\u001b[0madd\u001b[0m\u001b[1;33m(\u001b[0m\u001b[1;33m*\u001b[0m\u001b[0marr\u001b[0m\u001b[1;33m)\u001b[0m\u001b[1;33m\u001b[0m\u001b[1;33m\u001b[0m\u001b[0m\n",
       "\u001b[1;31mDocstring:\u001b[0m <no docstring>\n",
       "\u001b[1;31mFile:\u001b[0m      d:\\study\\some\\rahul.py\n",
       "\u001b[1;31mType:\u001b[0m      function"
      ]
     },
     "metadata": {},
     "output_type": "display_data"
    }
   ],
   "source": [
    "r.add?"
   ]
  },
  {
   "cell_type": "code",
   "execution_count": 7,
   "id": "73587413-628f-4982-bad6-7e5ebd3384ba",
   "metadata": {},
   "outputs": [
    {
     "data": {
      "text/plain": [
       "\u001b[1;31mSignature:\u001b[0m \u001b[0mr\u001b[0m\u001b[1;33m.\u001b[0m\u001b[0madd\u001b[0m\u001b[1;33m(\u001b[0m\u001b[1;33m*\u001b[0m\u001b[0marr\u001b[0m\u001b[1;33m)\u001b[0m\u001b[1;33m\u001b[0m\u001b[1;33m\u001b[0m\u001b[0m\n",
       "\u001b[1;31mDocstring:\u001b[0m <no docstring>\n",
       "\u001b[1;31mSource:\u001b[0m   \n",
       "\u001b[1;32mdef\u001b[0m \u001b[0madd\u001b[0m\u001b[1;33m(\u001b[0m\u001b[1;33m*\u001b[0m \u001b[0marr\u001b[0m\u001b[1;33m)\u001b[0m\u001b[1;33m:\u001b[0m\u001b[1;33m\n",
       "\u001b[0m        \u001b[0ms\u001b[0m \u001b[1;33m=\u001b[0m \u001b[1;36m0\u001b[0m\u001b[1;33m\n",
       "\u001b[0m        \u001b[1;32mfor\u001b[0m \u001b[0mi\u001b[0m \u001b[1;32min\u001b[0m \u001b[0marr\u001b[0m\u001b[1;33m:\u001b[0m\u001b[1;33m\n",
       "\u001b[0m                \u001b[0ms\u001b[0m\u001b[1;33m+=\u001b[0m\u001b[0mi\u001b[0m\u001b[1;33m\n",
       "\u001b[0m        \u001b[1;32mreturn\u001b[0m \u001b[0ms\u001b[0m\u001b[1;33m\u001b[0m\u001b[1;33m\u001b[0m\u001b[0m\n",
       "\u001b[1;31mFile:\u001b[0m      d:\\study\\some\\rahul.py\n",
       "\u001b[1;31mType:\u001b[0m      function"
      ]
     },
     "metadata": {},
     "output_type": "display_data"
    }
   ],
   "source": [
    "r.add??"
   ]
  },
  {
   "cell_type": "code",
   "execution_count": 8,
   "id": "16ca023f-0b34-43e4-b283-fa86d6b4f994",
   "metadata": {},
   "outputs": [
    {
     "data": {
      "text/plain": [
       "33"
      ]
     },
     "execution_count": 8,
     "metadata": {},
     "output_type": "execute_result"
    }
   ],
   "source": [
    "r.add(21,12)"
   ]
  },
  {
   "cell_type": "code",
   "execution_count": null,
   "id": "7f30dc0f-ef24-4e00-b2db-612bded20b67",
   "metadata": {},
   "outputs": [],
   "source": [
    "\n",
    "\n"
   ]
  },
  {
   "cell_type": "code",
   "execution_count": 1,
   "id": "a48231e0-99ec-4226-bed6-0e78cd657c72",
   "metadata": {},
   "outputs": [],
   "source": [
    "# Other method of importing the module AND it's functions\n",
    "\n",
    "import sys\n",
    "sys.path.append('D:/Study/some/')"
   ]
  },
  {
   "cell_type": "code",
   "execution_count": 2,
   "id": "47dc8598-36fa-4c97-baa2-599573763ad7",
   "metadata": {},
   "outputs": [],
   "source": [
    "# for importing (using) single function from the any module we can use folloeing method of accessing the function\n",
    "from rahul import add as a"
   ]
  },
  {
   "cell_type": "code",
   "execution_count": 3,
   "id": "fd22d2f2-8397-4076-86b0-5b51c4fe9129",
   "metadata": {},
   "outputs": [
    {
     "data": {
      "text/plain": [
       "36"
      ]
     },
     "execution_count": 3,
     "metadata": {},
     "output_type": "execute_result"
    }
   ],
   "source": [
    "a(12,12,12)"
   ]
  },
  {
   "cell_type": "code",
   "execution_count": null,
   "id": "b271c832-72eb-484c-9e19-c7715de94212",
   "metadata": {},
   "outputs": [],
   "source": []
  },
  {
   "cell_type": "code",
   "execution_count": 1,
   "id": "7f7f07fb-30b1-4ab1-80e8-fc8c5044dfd2",
   "metadata": {},
   "outputs": [],
   "source": [
    "# Some practice of the previous concepts\n",
    "\n",
    "def printallKeysandvaluescorresponding (**args):\n",
    "    for i in args:\n",
    "        print(\"Variable Name is : \",i,\" & Variable value is : \",args[i])"
   ]
  },
  {
   "cell_type": "code",
   "execution_count": 2,
   "id": "d9454926-c3ee-4828-9381-dc48917dce2e",
   "metadata": {},
   "outputs": [
    {
     "name": "stdout",
     "output_type": "stream",
     "text": [
      "Variable Name is :  a  & Variable value is :  12\n",
      "Variable Name is :  b  & Variable value is :  211\n",
      "Variable Name is :  c  & Variable value is :  Rahul\n",
      "Variable Name is :  d  & Variable value is :  True\n",
      "Variable Name is :  e  & Variable value is :  21122.3232\n",
      "Variable Name is :  p  & Variable value is :  a\n",
      "Variable Name is :  r  & Variable value is :  False\n"
     ]
    }
   ],
   "source": [
    "printallKeysandvaluescorresponding(a=12,b=211,c=\"Rahul\",d=True , e = 21122.3232,p=\"a\",r=False)"
   ]
  },
  {
   "cell_type": "code",
   "execution_count": null,
   "id": "2decc1b3-65f2-425e-b62d-eb4698117456",
   "metadata": {},
   "outputs": [],
   "source": []
  }
 ],
 "metadata": {
  "kernelspec": {
   "display_name": "Python 3 (ipykernel)",
   "language": "python",
   "name": "python3"
  },
  "language_info": {
   "codemirror_mode": {
    "name": "ipython",
    "version": 3
   },
   "file_extension": ".py",
   "mimetype": "text/x-python",
   "name": "python",
   "nbconvert_exporter": "python",
   "pygments_lexer": "ipython3",
   "version": "3.11.5"
  }
 },
 "nbformat": 4,
 "nbformat_minor": 5
}
