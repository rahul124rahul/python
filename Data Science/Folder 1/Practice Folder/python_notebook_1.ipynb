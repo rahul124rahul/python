{
 "cells": [
  {
   "cell_type": "markdown",
   "id": "691faeda-ac57-4a81-9563-c755959ee0ff",
   "metadata": {},
   "source": [
    "This is python Tutorial"
   ]
  },
  {
   "cell_type": "markdown",
   "id": "c0f8af06-b26c-482f-98a0-7a4c7d42113a",
   "metadata": {},
   "source": [
    "This is our first program in python"
   ]
  },
  {
   "cell_type": "code",
   "execution_count": 1,
   "id": "87fa4d09-b89d-4e62-8473-5a673a7b8db9",
   "metadata": {
    "scrolled": true
   },
   "outputs": [
    {
     "name": "stdout",
     "output_type": "stream",
     "text": [
      "Hello World!!!!!\n"
     ]
    }
   ],
   "source": [
    "print(\"Hello World!!!!!\")"
   ]
  },
  {
   "cell_type": "markdown",
   "id": "60186eb2-46df-409e-b2d7-3a6eed138cc6",
   "metadata": {},
   "source": [
    "$a = b + c$"
   ]
  },
  {
   "cell_type": "markdown",
   "id": "4292a982-3029-44db-b9ad-a1fed802fc32",
   "metadata": {},
   "source": [
    "# Variables"
   ]
  },
  {
   "cell_type": "code",
   "execution_count": 2,
   "id": "46d63820-7207-41ab-b7ca-6a5ce2bf4f67",
   "metadata": {},
   "outputs": [],
   "source": [
    "x = 3"
   ]
  },
  {
   "cell_type": "code",
   "execution_count": 3,
   "id": "87b3b3e6-646b-4086-b68f-8ab68d07d680",
   "metadata": {},
   "outputs": [
    {
     "name": "stdout",
     "output_type": "stream",
     "text": [
      "Variable   Type    Data/Info\n",
      "----------------------------\n",
      "x          int     3\n"
     ]
    }
   ],
   "source": [
    "%whos"
   ]
  },
  {
   "cell_type": "code",
   "execution_count": 4,
   "id": "afda042e-430c-4938-b804-da06d422a051",
   "metadata": {},
   "outputs": [
    {
     "name": "stdout",
     "output_type": "stream",
     "text": [
      "<class 'int'>\n"
     ]
    }
   ],
   "source": [
    "print(type(x))"
   ]
  },
  {
   "cell_type": "code",
   "execution_count": 5,
   "id": "9873964a-b10e-4045-9936-b599d114d066",
   "metadata": {},
   "outputs": [],
   "source": [
    "x = 4.32"
   ]
  },
  {
   "cell_type": "code",
   "execution_count": 6,
   "id": "b2d46ea6-4b23-454d-9add-941e4123a70a",
   "metadata": {},
   "outputs": [
    {
     "name": "stdout",
     "output_type": "stream",
     "text": [
      "4.32 <class 'float'>\n"
     ]
    }
   ],
   "source": [
    "print(x,type(x))"
   ]
  },
  {
   "cell_type": "code",
   "execution_count": 7,
   "id": "833d8f75-2724-4634-917d-cba74bdab199",
   "metadata": {},
   "outputs": [
    {
     "name": "stdout",
     "output_type": "stream",
     "text": [
      "Variable   Type     Data/Info\n",
      "-----------------------------\n",
      "x          float    4.32\n"
     ]
    }
   ],
   "source": [
    "%whos"
   ]
  },
  {
   "cell_type": "code",
   "execution_count": 8,
   "id": "66973cec-3728-4e63-a422-06fb4f227813",
   "metadata": {},
   "outputs": [],
   "source": [
    "abcd = \"Rahul\""
   ]
  },
  {
   "cell_type": "code",
   "execution_count": 9,
   "id": "c2c80acd-cb1a-4699-8db4-7c0049a75f9c",
   "metadata": {},
   "outputs": [
    {
     "name": "stdout",
     "output_type": "stream",
     "text": [
      "Variable   Type     Data/Info\n",
      "-----------------------------\n",
      "abcd       str      Rahul\n",
      "x          float    4.32\n"
     ]
    }
   ],
   "source": [
    "%whos"
   ]
  },
  {
   "cell_type": "code",
   "execution_count": 10,
   "id": "f685ef0d-431c-45bc-b639-1eaa9b859859",
   "metadata": {},
   "outputs": [],
   "source": [
    "a,b,c,d = 12,12.12,0,\"Poonam\""
   ]
  },
  {
   "cell_type": "code",
   "execution_count": 11,
   "id": "ccf016f5-1974-44ba-9918-7ad7c0ce5c2f",
   "metadata": {},
   "outputs": [
    {
     "name": "stdout",
     "output_type": "stream",
     "text": [
      "Variable   Type     Data/Info\n",
      "-----------------------------\n",
      "a          int      12\n",
      "abcd       str      Rahul\n",
      "b          float    12.12\n",
      "c          int      0\n",
      "d          str      Poonam\n",
      "x          float    4.32\n"
     ]
    }
   ],
   "source": [
    "%whos"
   ]
  },
  {
   "cell_type": "code",
   "execution_count": 12,
   "id": "52aa7520-ea4a-4f17-94bb-e90de3ec719a",
   "metadata": {},
   "outputs": [
    {
     "name": "stdout",
     "output_type": "stream",
     "text": [
      "Variable   Type     Data/Info\n",
      "-----------------------------\n",
      "a          int      12\n",
      "b          float    12.12\n",
      "c          int      0\n",
      "d          str      Poonam\n",
      "x          float    4.32\n"
     ]
    }
   ],
   "source": [
    "del abcd\n",
    "%whos"
   ]
  },
  {
   "cell_type": "code",
   "execution_count": 13,
   "id": "a257bb17-e947-47d6-bfeb-7916938415ab",
   "metadata": {},
   "outputs": [
    {
     "ename": "NameError",
     "evalue": "name 'abcd' is not defined",
     "output_type": "error",
     "traceback": [
      "\u001b[1;31m---------------------------------------------------------------------------\u001b[0m",
      "\u001b[1;31mNameError\u001b[0m                                 Traceback (most recent call last)",
      "Cell \u001b[1;32mIn[13], line 1\u001b[0m\n\u001b[1;32m----> 1\u001b[0m \u001b[38;5;28mprint\u001b[39m(\u001b[43mabcd\u001b[49m)\n",
      "\u001b[1;31mNameError\u001b[0m: name 'abcd' is not defined"
     ]
    }
   ],
   "source": [
    "print(abcd)"
   ]
  },
  {
   "cell_type": "code",
   "execution_count": null,
   "id": "2c8013ec-7f0a-4ede-9d09-b4062fb4e4cf",
   "metadata": {},
   "outputs": [],
   "source": [
    "p = 2+3j"
   ]
  },
  {
   "cell_type": "code",
   "execution_count": null,
   "id": "47ad7a5c-a5ca-4996-be07-1a54c4400c14",
   "metadata": {},
   "outputs": [],
   "source": [
    "%whos"
   ]
  },
  {
   "cell_type": "code",
   "execution_count": null,
   "id": "b78ee4bd-8c00-4e47-a825-d7c2a047d001",
   "metadata": {},
   "outputs": [],
   "source": [
    "print(type(p))"
   ]
  },
  {
   "cell_type": "code",
   "execution_count": null,
   "id": "a5121a6a-2acd-4b32-b053-64d241db1c34",
   "metadata": {},
   "outputs": [],
   "source": [
    "print(a+x)"
   ]
  },
  {
   "cell_type": "code",
   "execution_count": null,
   "id": "b9c4d349-435c-44e6-8d7d-5d8128c07b3a",
   "metadata": {},
   "outputs": [],
   "source": [
    "print(a-x)"
   ]
  },
  {
   "cell_type": "code",
   "execution_count": null,
   "id": "3d34b06a-7fd3-4440-896f-cb5f841f87e0",
   "metadata": {},
   "outputs": [],
   "source": [
    "print(a*x)"
   ]
  },
  {
   "cell_type": "code",
   "execution_count": null,
   "id": "128c1435-595f-4e4b-a74e-f3667eb66cee",
   "metadata": {},
   "outputs": [],
   "source": [
    "print(a/x)"
   ]
  },
  {
   "cell_type": "code",
   "execution_count": null,
   "id": "5ca995f3-8d18-44a4-bdad-3c992e57b682",
   "metadata": {},
   "outputs": [],
   "source": [
    "print(a//x)"
   ]
  },
  {
   "cell_type": "code",
   "execution_count": null,
   "id": "cecca4cd-faf5-4e89-bed6-fd7eb25c160c",
   "metadata": {},
   "outputs": [],
   "source": [
    "print(a%x)"
   ]
  },
  {
   "cell_type": "code",
   "execution_count": null,
   "id": "8c461d0c-c361-4985-95a8-4cf91ed51fa2",
   "metadata": {},
   "outputs": [],
   "source": [
    "b=5"
   ]
  },
  {
   "cell_type": "code",
   "execution_count": null,
   "id": "e8c44f98-e7e1-4db9-a79a-2b7a42371a54",
   "metadata": {},
   "outputs": [],
   "source": [
    "%whos"
   ]
  },
  {
   "cell_type": "code",
   "execution_count": null,
   "id": "7224b04e-7095-45c5-ba12-099aec9185e3",
   "metadata": {},
   "outputs": [],
   "source": [
    "c=a+b"
   ]
  },
  {
   "cell_type": "code",
   "execution_count": null,
   "id": "7ee4fb68-af98-4bf8-8036-c77e9b2b0d93",
   "metadata": {},
   "outputs": [],
   "source": [
    "print(c,type(c))"
   ]
  },
  {
   "cell_type": "code",
   "execution_count": null,
   "id": "5135fce8-f052-4ef1-9b3f-8d97cdb9a478",
   "metadata": {},
   "outputs": [],
   "source": [
    "s=a//b\n",
    "print(s,type(s))"
   ]
  },
  {
   "cell_type": "code",
   "execution_count": null,
   "id": "a4a81110-9f5e-423c-b0f5-1cba810fef7b",
   "metadata": {},
   "outputs": [],
   "source": [
    "print(a/b , type(a/b))"
   ]
  },
  {
   "cell_type": "code",
   "execution_count": null,
   "id": "1d75cc08-6dc0-4dee-8220-ed447c888dfc",
   "metadata": {},
   "outputs": [],
   "source": [
    "print(a%b , type(a%b))"
   ]
  },
  {
   "cell_type": "code",
   "execution_count": null,
   "id": "deb74f78-42ea-47b9-926d-4e3bed3a852e",
   "metadata": {},
   "outputs": [],
   "source": [
    "del a,b,c,d,p,x"
   ]
  },
  {
   "cell_type": "code",
   "execution_count": null,
   "id": "b0bf2054-95e1-42b8-9747-aa87ca790f82",
   "metadata": {},
   "outputs": [],
   "source": [
    "%whos"
   ]
  },
  {
   "cell_type": "code",
   "execution_count": null,
   "id": "bd5b3b53-3d54-4aae-81f4-76238c6b7ee7",
   "metadata": {},
   "outputs": [],
   "source": [
    "a=\"Rahul \"\n",
    "b=\"Loves \"\n",
    "c=\"Poonam \""
   ]
  },
  {
   "cell_type": "code",
   "execution_count": null,
   "id": "8fa0fae7-d0cc-4eb3-976e-242c3af0f6ba",
   "metadata": {},
   "outputs": [],
   "source": [
    "d=a+b+c"
   ]
  },
  {
   "cell_type": "code",
   "execution_count": null,
   "id": "5dbfc74a-4722-4d86-be33-61be749ad5c5",
   "metadata": {},
   "outputs": [],
   "source": [
    "print(d , type(d))"
   ]
  },
  {
   "cell_type": "code",
   "execution_count": null,
   "id": "7f28f80b-a0ac-4f4e-a0da-066b2ec1f07f",
   "metadata": {},
   "outputs": [],
   "source": [
    "_"
   ]
  },
  {
   "cell_type": "code",
   "execution_count": null,
   "id": "9c7c7ce0-8c3b-4789-9e08-405a9c279d9e",
   "metadata": {},
   "outputs": [],
   "source": [
    "print(2+3)"
   ]
  },
  {
   "cell_type": "code",
   "execution_count": null,
   "id": "9e7d26cc-3ac1-4a75-8a7e-f8f66df505cf",
   "metadata": {},
   "outputs": [],
   "source": [
    "_"
   ]
  },
  {
   "cell_type": "code",
   "execution_count": null,
   "id": "388875cc-c6ab-44a1-8472-e1045e99f9cc",
   "metadata": {},
   "outputs": [],
   "source": [
    "10/3"
   ]
  },
  {
   "cell_type": "code",
   "execution_count": null,
   "id": "7cf7d559-7362-4640-a903-d9e2d3b8d46d",
   "metadata": {},
   "outputs": [],
   "source": [
    "_"
   ]
  },
  {
   "cell_type": "code",
   "execution_count": null,
   "id": "0f2917a7-a098-4c90-8690-ae89333230be",
   "metadata": {},
   "outputs": [],
   "source": [
    "_+10"
   ]
  },
  {
   "cell_type": "code",
   "execution_count": null,
   "id": "eb75ce8d-f0b4-487a-814f-c34431668e63",
   "metadata": {},
   "outputs": [],
   "source": [
    "print(10/3)"
   ]
  },
  {
   "cell_type": "code",
   "execution_count": null,
   "id": "eccca420-4d48-4175-9851-31147fcb5671",
   "metadata": {},
   "outputs": [],
   "source": [
    "_"
   ]
  },
  {
   "cell_type": "code",
   "execution_count": null,
   "id": "df99c9f2-cc92-4306-86d6-e961ef9f88e0",
   "metadata": {},
   "outputs": [],
   "source": [
    "13+21"
   ]
  },
  {
   "cell_type": "code",
   "execution_count": null,
   "id": "132de070-56a0-422e-ba6b-36dc5bee315b",
   "metadata": {},
   "outputs": [],
   "source": [
    "_"
   ]
  },
  {
   "cell_type": "code",
   "execution_count": null,
   "id": "d58e26e9-ba73-4bd3-8df4-0ecb6df6c439",
   "metadata": {},
   "outputs": [],
   "source": [
    "2p = 32"
   ]
  },
  {
   "cell_type": "code",
   "execution_count": null,
   "id": "3bd9f38f-df8a-49bd-8982-181bdeaaa772",
   "metadata": {},
   "outputs": [],
   "source": [
    "@t =0"
   ]
  },
  {
   "cell_type": "code",
   "execution_count": null,
   "id": "fca8ef6e-43fa-469b-8980-493fc477778f",
   "metadata": {},
   "outputs": [],
   "source": [
    "_43 =32"
   ]
  },
  {
   "cell_type": "code",
   "execution_count": null,
   "id": "926f5f2b-7777-4ffd-8abf-b59541e31e4f",
   "metadata": {},
   "outputs": [],
   "source": [
    "print(_43)"
   ]
  },
  {
   "cell_type": "markdown",
   "id": "05de6273-1aef-41f7-8965-6e978fbfce6e",
   "metadata": {},
   "source": [
    "In this way we can start name of variable in python by _(underscore) "
   ]
  },
  {
   "cell_type": "markdown",
   "id": "1ef2f34e-a4c8-496f-9865-bec908be7658",
   "metadata": {},
   "source": [
    "But we can't start with the number or any alphabet "
   ]
  },
  {
   "cell_type": "code",
   "execution_count": null,
   "id": "53991f9c-ecf7-455c-8e5b-7a19d7302333",
   "metadata": {},
   "outputs": [],
   "source": [
    "r@ = \"@\""
   ]
  },
  {
   "cell_type": "code",
   "execution_count": null,
   "id": "dc026328-d195-4334-ad5b-11b5a4e5912b",
   "metadata": {},
   "outputs": [],
   "source": [
    "r = \"@\""
   ]
  },
  {
   "cell_type": "markdown",
   "id": "4bb2a8a2-d365-4474-8639-f8c23006d2b7",
   "metadata": {},
   "source": [
    "We can't use any character insted of any alphanumeric characters not any spacial characters"
   ]
  },
  {
   "cell_type": "code",
   "execution_count": null,
   "id": "6274b5c5-fb8e-4cf6-b443-24e09e5e224f",
   "metadata": {},
   "outputs": [],
   "source": [
    "3 == 4"
   ]
  },
  {
   "cell_type": "code",
   "execution_count": null,
   "id": "f2ffa702-cccb-472d-a5cf-6b06de36d009",
   "metadata": {},
   "outputs": [],
   "source": [
    "4>3"
   ]
  },
  {
   "cell_type": "code",
   "execution_count": null,
   "id": "a897fbe1-ea37-4a0d-8d12-eacf05d2d62a",
   "metadata": {},
   "outputs": [],
   "source": [
    "5<3"
   ]
  },
  {
   "cell_type": "code",
   "execution_count": null,
   "id": "048b45a7-833d-419c-8165-6100515abbd9",
   "metadata": {},
   "outputs": [],
   "source": [
    "print(3>2)"
   ]
  },
  {
   "cell_type": "code",
   "execution_count": null,
   "id": "00ed4022-3fdb-4a50-b67c-64fe5a5c7cc7",
   "metadata": {},
   "outputs": [],
   "source": [
    "\"o\" > \"O\""
   ]
  },
  {
   "cell_type": "code",
   "execution_count": null,
   "id": "4da58ef9-299e-4a4a-956d-d2ad0a1b8bba",
   "metadata": {},
   "outputs": [],
   "source": [
    "9>=0"
   ]
  },
  {
   "cell_type": "code",
   "execution_count": null,
   "id": "e7abb4fe-cdfa-4773-aeb6-c593da2f0fde",
   "metadata": {},
   "outputs": [],
   "source": [
    "print(9>0)"
   ]
  },
  {
   "cell_type": "code",
   "execution_count": null,
   "id": "cb868e6b-f75d-4134-9edd-ba2bca85d135",
   "metadata": {},
   "outputs": [],
   "source": [
    "9<=0"
   ]
  },
  {
   "cell_type": "code",
   "execution_count": null,
   "id": "431a9046-dd4c-45ee-a0aa-c745bf6557b4",
   "metadata": {},
   "outputs": [],
   "source": [
    "2>=2"
   ]
  },
  {
   "cell_type": "code",
   "execution_count": null,
   "id": "89dadb37-8d6d-4dc7-b3ab-d3abc4851f91",
   "metadata": {},
   "outputs": [],
   "source": [
    "4!=2"
   ]
  },
  {
   "cell_type": "code",
   "execution_count": null,
   "id": "bbe326b8-bb3d-4879-a69b-970efab043ca",
   "metadata": {},
   "outputs": [],
   "source": [
    "1!=1"
   ]
  },
  {
   "cell_type": "code",
   "execution_count": null,
   "id": "ff901968-c89c-4998-929a-c191bb1ce19f",
   "metadata": {},
   "outputs": [],
   "source": [
    "1 and 1"
   ]
  },
  {
   "cell_type": "code",
   "execution_count": null,
   "id": "5317bcc6-5ac7-405c-a702-c23d5170f659",
   "metadata": {},
   "outputs": [],
   "source": [
    "1 and -2"
   ]
  },
  {
   "cell_type": "code",
   "execution_count": null,
   "id": "dd22e196-d94a-40ed-a922-1c94259bfe5f",
   "metadata": {},
   "outputs": [],
   "source": [
    "print(21 and 12)"
   ]
  },
  {
   "cell_type": "code",
   "execution_count": null,
   "id": "a8e16547-5fd3-459b-9bbf-9e72f4cfd78f",
   "metadata": {},
   "outputs": [],
   "source": [
    "a = True\n",
    "b = True\n",
    "c = False"
   ]
  },
  {
   "cell_type": "code",
   "execution_count": null,
   "id": "d317f158-da58-45c3-8686-7943e15195a5",
   "metadata": {},
   "outputs": [],
   "source": [
    "a and b"
   ]
  },
  {
   "cell_type": "code",
   "execution_count": null,
   "id": "73b6cd48-db32-45e6-8a6f-a0350cc2839a",
   "metadata": {},
   "outputs": [],
   "source": [
    "b & c"
   ]
  },
  {
   "cell_type": "code",
   "execution_count": null,
   "id": "e0a5c0e6-7963-4825-bbe3-388d75a1cd40",
   "metadata": {},
   "outputs": [],
   "source": [
    "a & c"
   ]
  },
  {
   "cell_type": "code",
   "execution_count": null,
   "id": "96deecad-220c-4d50-b442-9f30842a5fa5",
   "metadata": {},
   "outputs": [],
   "source": [
    "a | b"
   ]
  },
  {
   "cell_type": "code",
   "execution_count": null,
   "id": "7614c16c-2c92-4374-bfb3-ab5c7a4d3520",
   "metadata": {},
   "outputs": [],
   "source": [
    "a|c"
   ]
  },
  {
   "cell_type": "code",
   "execution_count": null,
   "id": "251357dc-66a0-47e8-87eb-a55f1bb6ff60",
   "metadata": {},
   "outputs": [],
   "source": [
    "b|c"
   ]
  },
  {
   "cell_type": "code",
   "execution_count": null,
   "id": "fd411879-3903-4c0b-9346-f673ef568ebd",
   "metadata": {},
   "outputs": [],
   "source": [
    "!a"
   ]
  },
  {
   "cell_type": "code",
   "execution_count": null,
   "id": "fe80242b-1913-4122-8f3e-c635c874f511",
   "metadata": {},
   "outputs": [],
   "source": [
    "not a"
   ]
  },
  {
   "cell_type": "code",
   "execution_count": null,
   "id": "6527ffc1-4a53-4da4-a7c2-16f25519ccff",
   "metadata": {},
   "outputs": [],
   "source": [
    "not c"
   ]
  },
  {
   "cell_type": "code",
   "execution_count": null,
   "id": "130f8a58-1901-4fc3-b9a2-37f27e6d9398",
   "metadata": {},
   "outputs": [],
   "source": [
    "! a"
   ]
  },
  {
   "cell_type": "code",
   "execution_count": null,
   "id": "08ac0682-fdfb-48da-bc82-1fab05fa3002",
   "metadata": {},
   "outputs": [],
   "source": [
    "type(a)"
   ]
  },
  {
   "cell_type": "code",
   "execution_count": null,
   "id": "b5a11363-5172-4b6f-bce3-b1dbdc2c9cf4",
   "metadata": {},
   "outputs": [],
   "source": [
    "a"
   ]
  },
  {
   "cell_type": "code",
   "execution_count": null,
   "id": "c96e0e8b-ece5-4216-a5e0-7237fd3e5ae9",
   "metadata": {},
   "outputs": [],
   "source": [
    "a\n",
    "b,c"
   ]
  },
  {
   "cell_type": "code",
   "execution_count": null,
   "id": "7c6da84e-a8d1-4e3f-92b6-f6cf04bdd7ce",
   "metadata": {},
   "outputs": [],
   "source": [
    "a\n",
    "b\n",
    "c"
   ]
  },
  {
   "cell_type": "code",
   "execution_count": null,
   "id": "4036dc35-f204-4bc5-8c91-aac5606e3f9a",
   "metadata": {},
   "outputs": [],
   "source": [
    "not ( (a and b) | (c|d))"
   ]
  },
  {
   "cell_type": "markdown",
   "id": "33d6c4ab-5862-472c-bef2-3212c9c6a0d3",
   "metadata": {},
   "source": [
    "not((a&b)|(a|b))"
   ]
  },
  {
   "cell_type": "code",
   "execution_count": null,
   "id": "cff71c7d-78dc-4e07-9066-b2f523d5eee4",
   "metadata": {},
   "outputs": [],
   "source": [
    "a"
   ]
  },
  {
   "cell_type": "code",
   "execution_count": null,
   "id": "5a814621-5e3f-4d6a-8ff7-5e4e5c28205d",
   "metadata": {},
   "outputs": [],
   "source": [
    "b"
   ]
  },
  {
   "cell_type": "code",
   "execution_count": null,
   "id": "7f74fafc-1e79-4828-b5f4-944c7646ce08",
   "metadata": {},
   "outputs": [],
   "source": [
    "c"
   ]
  },
  {
   "cell_type": "markdown",
   "id": "b85fea07-4103-4fc2-bba2-d2b0e8500bfc",
   "metadata": {},
   "source": [
    "# Variable comparisons "
   ]
  },
  {
   "cell_type": "code",
   "execution_count": null,
   "id": "045766da-8b88-4ceb-8dcf-e48316acac73",
   "metadata": {},
   "outputs": [],
   "source": [
    "12>21"
   ]
  },
  {
   "cell_type": "code",
   "execution_count": null,
   "id": "799c40ff-af46-4ebb-8e41-2fc2084d9501",
   "metadata": {},
   "outputs": [],
   "source": [
    "21<21"
   ]
  },
  {
   "cell_type": "code",
   "execution_count": null,
   "id": "b505a62a-ac2d-4155-b83e-e540648c613a",
   "metadata": {},
   "outputs": [],
   "source": [
    "12==212\n"
   ]
  },
  {
   "cell_type": "code",
   "execution_count": null,
   "id": "9a6ec180-8058-4196-bdcb-c6707af4696f",
   "metadata": {},
   "outputs": [],
   "source": [
    "12!=21"
   ]
  },
  {
   "cell_type": "code",
   "execution_count": null,
   "id": "1152920b-083b-49a2-8473-3aa3e4df2963",
   "metadata": {},
   "outputs": [],
   "source": [
    "23>=23"
   ]
  },
  {
   "cell_type": "code",
   "execution_count": null,
   "id": "64769b6b-f05e-4c4f-8fb9-6826a9510ff8",
   "metadata": {},
   "outputs": [],
   "source": [
    "23<43"
   ]
  },
  {
   "cell_type": "code",
   "execution_count": null,
   "id": "2bcc43a8-949d-4872-8cdd-6d5ab9c9fcd2",
   "metadata": {},
   "outputs": [],
   "source": [
    "43<>232"
   ]
  },
  {
   "cell_type": "code",
   "execution_count": null,
   "id": "5c359d51-944f-4530-b0c3-96cf0824a854",
   "metadata": {},
   "outputs": [],
   "source": [
    "323<=232"
   ]
  },
  {
   "cell_type": "code",
   "execution_count": null,
   "id": "4d9effcb-4e68-4959-96d1-80d557e56421",
   "metadata": {},
   "outputs": [],
   "source": [
    "d = 3==4"
   ]
  },
  {
   "cell_type": "code",
   "execution_count": null,
   "id": "62154774-6940-4b15-8b33-3e3ee7172760",
   "metadata": {},
   "outputs": [],
   "source": [
    "print(d,type(d))"
   ]
  },
  {
   "cell_type": "code",
   "execution_count": null,
   "id": "660731a9-cc16-4443-b477-e19649eb10e3",
   "metadata": {},
   "outputs": [],
   "source": [
    "3==3.001"
   ]
  },
  {
   "cell_type": "code",
   "execution_count": null,
   "id": "6e19b8db-e3dd-4be5-a95d-cc7baa0af1b1",
   "metadata": {},
   "outputs": [],
   "source": [
    "3.000000=3"
   ]
  },
  {
   "cell_type": "code",
   "execution_count": null,
   "id": "18227041-6304-4b3e-ab60-46471f8f196e",
   "metadata": {},
   "outputs": [],
   "source": [
    "3.0000==3"
   ]
  },
  {
   "cell_type": "code",
   "execution_count": null,
   "id": "73c26462-cc65-4c16-bed1-cca64fbc5148",
   "metadata": {},
   "outputs": [],
   "source": [
    "3.000000000000000000000000000==3"
   ]
  },
  {
   "cell_type": "code",
   "execution_count": null,
   "id": "91eb61cc-989b-4332-9d32-ebba2d86b6f0",
   "metadata": {},
   "outputs": [],
   "source": [
    "False or True and True"
   ]
  },
  {
   "cell_type": "code",
   "execution_count": null,
   "id": "24a02675-4a17-4aa1-b3a6-b60ada92377a",
   "metadata": {},
   "outputs": [],
   "source": [
    "True and False or True"
   ]
  },
  {
   "cell_type": "code",
   "execution_count": null,
   "id": "795899aa-65d7-411a-8811-1415532c82d5",
   "metadata": {},
   "outputs": [],
   "source": [
    "True and False or False"
   ]
  },
  {
   "cell_type": "code",
   "execution_count": null,
   "id": "24dfcdbc-fe07-4ff8-b235-7c27b778ff83",
   "metadata": {},
   "outputs": [],
   "source": [
    "print(round(5.6231))"
   ]
  },
  {
   "cell_type": "code",
   "execution_count": null,
   "id": "57b9706b-7fff-4091-a8d4-9471006dd676",
   "metadata": {},
   "outputs": [],
   "source": [
    "print(round(5.5842,3))"
   ]
  },
  {
   "cell_type": "code",
   "execution_count": null,
   "id": "eb44a5c9-6ee1-4fea-92b1-ce32494b0847",
   "metadata": {},
   "outputs": [],
   "source": [
    "print(round(4.55842,3))"
   ]
  },
  {
   "cell_type": "code",
   "execution_count": null,
   "id": "9b2a7002-1e63-46eb-9b3f-73f3861ad87f",
   "metadata": {},
   "outputs": [],
   "source": [
    "round(23.55)"
   ]
  },
  {
   "cell_type": "code",
   "execution_count": null,
   "id": "e049c660-f51d-4595-b301-94c82f9427a4",
   "metadata": {},
   "outputs": [],
   "source": [
    "roun(8.3456754434,4)"
   ]
  },
  {
   "cell_type": "code",
   "execution_count": null,
   "id": "a69a2a49-b9d8-48e8-9d45-f8579f0765a1",
   "metadata": {},
   "outputs": [],
   "source": [
    "round(3.45455633,4)"
   ]
  },
  {
   "cell_type": "code",
   "execution_count": null,
   "id": "a2fde71a-2e0d-453e-b780-d2f78c700477",
   "metadata": {},
   "outputs": [],
   "source": [
    "divmod(27,5)"
   ]
  },
  {
   "cell_type": "code",
   "execution_count": null,
   "id": "5ead677a-931d-46fc-861c-cb7753c53a00",
   "metadata": {},
   "outputs": [],
   "source": [
    "print(divmod(34,9))"
   ]
  },
  {
   "cell_type": "code",
   "execution_count": null,
   "id": "723644f7-0801-460e-a219-78143a66e5a5",
   "metadata": {},
   "outputs": [],
   "source": [
    "type(divmod(10,3))"
   ]
  },
  {
   "cell_type": "code",
   "execution_count": null,
   "id": "f6daaf4c-8c7a-492f-8877-c343e2df455e",
   "metadata": {},
   "outputs": [],
   "source": [
    "p = divmod(10,3)"
   ]
  },
  {
   "cell_type": "code",
   "execution_count": null,
   "id": "3880740b-590c-40a6-9d9f-3d3e5b339dc0",
   "metadata": {},
   "outputs": [],
   "source": [
    "print(p)"
   ]
  },
  {
   "cell_type": "code",
   "execution_count": null,
   "id": "8a256f4c-0b3e-4abc-8652-0370378a0369",
   "metadata": {},
   "outputs": [],
   "source": [
    "p[0]"
   ]
  },
  {
   "cell_type": "code",
   "execution_count": null,
   "id": "adbe2bc3-95a6-4e5e-b8f5-ba22cf2f78c9",
   "metadata": {},
   "outputs": [],
   "source": [
    "p[1]"
   ]
  },
  {
   "cell_type": "code",
   "execution_count": null,
   "id": "74e6416d-75df-48d5-9e56-0b6501c63f21",
   "metadata": {},
   "outputs": [],
   "source": [
    "print(instance(1,int))"
   ]
  },
  {
   "cell_type": "code",
   "execution_count": null,
   "id": "25f5901f-fd48-46b4-8854-85488141c653",
   "metadata": {},
   "outputs": [],
   "source": [
    "print(isinstance(1,int))"
   ]
  },
  {
   "cell_type": "code",
   "execution_count": null,
   "id": "59f1fff9-aaae-4a13-a10d-58b542c8e5a5",
   "metadata": {},
   "outputs": [],
   "source": [
    "isinstance(221.000 , int)"
   ]
  },
  {
   "cell_type": "code",
   "execution_count": null,
   "id": "a692223c-b28c-4c1b-ad01-7229de2c6e7c",
   "metadata": {},
   "outputs": [],
   "source": [
    "isinstance(3.0 , int)"
   ]
  },
  {
   "cell_type": "code",
   "execution_count": null,
   "id": "ce465725-7f6a-4142-9539-3e1dd31185dd",
   "metadata": {},
   "outputs": [],
   "source": [
    "isinstance(3.0,float)"
   ]
  },
  {
   "cell_type": "code",
   "execution_count": null,
   "id": "c39bcba3-d604-4c75-bf38-dfa1aa215995",
   "metadata": {},
   "outputs": [],
   "source": [
    "isinstance(12 , (int,float))"
   ]
  },
  {
   "cell_type": "code",
   "execution_count": null,
   "id": "96418bc2-eecc-4917-b7c4-754e87248778",
   "metadata": {},
   "outputs": [],
   "source": [
    "isinstance(1.0 , (int, float))"
   ]
  },
  {
   "cell_type": "code",
   "execution_count": null,
   "id": "968991c4-fa48-4cad-ad9a-279023c39c6e",
   "metadata": {},
   "outputs": [],
   "source": [
    "isinstance(12.12 , (int , float))"
   ]
  },
  {
   "cell_type": "code",
   "execution_count": null,
   "id": "57008ce4-4df6-47f0-afc7-42364e35074f",
   "metadata": {},
   "outputs": [],
   "source": [
    "isinstance(12+12j , (int,float,complex))"
   ]
  },
  {
   "cell_type": "code",
   "execution_count": null,
   "id": "8bc42b88-2443-492e-940f-6530bedfbfbc",
   "metadata": {},
   "outputs": [],
   "source": [
    "pow(2,4)"
   ]
  },
  {
   "cell_type": "code",
   "execution_count": null,
   "id": "b1e6e795-c4e1-45ae-9918-360c6dc667dc",
   "metadata": {},
   "outputs": [],
   "source": [
    "2**4"
   ]
  },
  {
   "cell_type": "code",
   "execution_count": null,
   "id": "7653825f-89c0-4070-be0f-845d7c372756",
   "metadata": {},
   "outputs": [],
   "source": [
    "pow(2,4,2)"
   ]
  },
  {
   "cell_type": "code",
   "execution_count": null,
   "id": "52c07a90-3913-4da9-94c3-f9308dad975b",
   "metadata": {},
   "outputs": [],
   "source": [
    "pow(2,4,7)"
   ]
  },
  {
   "cell_type": "code",
   "execution_count": null,
   "id": "a930d636-c219-43ec-bd8c-7a438e8dff15",
   "metadata": {},
   "outputs": [],
   "source": [
    "pow(2,4,1)"
   ]
  },
  {
   "cell_type": "code",
   "execution_count": null,
   "id": "62129698-9134-4d2d-90fa-4819974f26b5",
   "metadata": {},
   "outputs": [],
   "source": [
    "pow(2,4,0)"
   ]
  },
  {
   "cell_type": "code",
   "execution_count": null,
   "id": "74aa9d9c-c735-4b27-b5f2-c3de38300730",
   "metadata": {},
   "outputs": [],
   "source": [
    "pow(2,4,16)"
   ]
  },
  {
   "cell_type": "code",
   "execution_count": null,
   "id": "74907d35-00e5-44f8-a025-cb6c145b2d7d",
   "metadata": {},
   "outputs": [],
   "source": [
    "pow(2,4,28)"
   ]
  },
  {
   "cell_type": "code",
   "execution_count": null,
   "id": "89c3656e-b2de-4bf1-a4f0-3204f5769744",
   "metadata": {},
   "outputs": [],
   "source": [
    "x = input(\"Enter something : )"
   ]
  },
  {
   "cell_type": "code",
   "execution_count": null,
   "id": "86122d0f-72f6-44d1-ab42-85fd4f53f20e",
   "metadata": {},
   "outputs": [],
   "source": [
    "x = input(\"Enter something : \")"
   ]
  },
  {
   "cell_type": "code",
   "execution_count": null,
   "id": "7d88da35-c5f8-45ab-97a5-36aae2e4f752",
   "metadata": {},
   "outputs": [],
   "source": [
    "type(x)"
   ]
  },
  {
   "cell_type": "code",
   "execution_count": null,
   "id": "6e099659-bcf0-43d0-82ac-20897ead2c5b",
   "metadata": {},
   "outputs": [],
   "source": [
    "print(type(x))"
   ]
  },
  {
   "cell_type": "code",
   "execution_count": null,
   "id": "83768c9b-17fa-43eb-900d-11d7d05351dd",
   "metadata": {},
   "outputs": [],
   "source": [
    "x=int(x)"
   ]
  },
  {
   "cell_type": "code",
   "execution_count": null,
   "id": "f0da02bf-04dd-4189-b599-0020f9afb035",
   "metadata": {},
   "outputs": [],
   "source": [
    "print(x,type(x))"
   ]
  },
  {
   "cell_type": "code",
   "execution_count": null,
   "id": "0a6edddc-e1f9-430d-a0d4-338944f11ff8",
   "metadata": {},
   "outputs": [],
   "source": [
    "a = float(input(\"Enter any number : \"))"
   ]
  },
  {
   "cell_type": "code",
   "execution_count": null,
   "id": "69a3c51a-2a28-4bbe-b131-3313c6b4feb8",
   "metadata": {},
   "outputs": [],
   "source": [
    "a"
   ]
  },
  {
   "cell_type": "code",
   "execution_count": null,
   "id": "a9acb714-4869-45e0-9e0a-73da80a9fc49",
   "metadata": {},
   "outputs": [],
   "source": [
    "type(a)"
   ]
  },
  {
   "cell_type": "markdown",
   "id": "5f160a63-f377-4f7d-a081-0459f5aabc8a",
   "metadata": {},
   "source": [
    "#How to use function , or if we don't knoww how to use any function the we can use following method"
   ]
  },
  {
   "cell_type": "code",
   "execution_count": null,
   "id": "2171477d-1e95-4b55-919e-c87e06a2d0c4",
   "metadata": {},
   "outputs": [],
   "source": [
    "pow?"
   ]
  },
  {
   "cell_type": "code",
   "execution_count": null,
   "id": "5689441b-2a12-4842-8d1d-bd7b148c7ce2",
   "metadata": {},
   "outputs": [],
   "source": [
    "help(pow)"
   ]
  },
  {
   "cell_type": "code",
   "execution_count": null,
   "id": "5115e32b-d07f-4a2c-9583-7ddb407c75c1",
   "metadata": {},
   "outputs": [],
   "source": [
    "a = int(input(\"Enter a : \"))\n",
    "b = int(input(\"Enter b : \"))\n",
    "if a>b :\n",
    "    print(a,\">\",b)\n",
    "elif a<b:\n",
    "    print(a,\"<\",b)\n",
    "else:\n",
    "    print(a,\"=\",b)"
   ]
  },
  {
   "cell_type": "code",
   "execution_count": null,
   "id": "8094f52f-4781-4154-bd81-7c83a2100bff",
   "metadata": {},
   "outputs": [],
   "source": [
    "p=int(input(\"Enter p : \" ))\n",
    "q=int(input(\"Enter q : \" ))\n",
    "print(p,\">\",q) if p>q else print(p,\"<\",q) if p<q else print(p,\"=\",q)"
   ]
  },
  {
   "cell_type": "markdown",
   "id": "5790fe25-7206-47f0-bf2f-09c0e3da88ac",
   "metadata": {},
   "source": [
    "marks = int(input(\"Enter your marks out of 100 : \"))\n",
    "if marks>95:\n",
    "    print(\"A+\")\n",
    "elif marks<95 & marks>90:\n",
    "    print(\"A\")\n",
    "elif marks<90 and marks>80:\n",
    "    print(\"B\")\n",
    "else:\n",
    "    print(\"Below Average\")"
   ]
  },
  {
   "cell_type": "code",
   "execution_count": null,
   "id": "99a133dd-b208-49a9-a26a-0cc50bf9892e",
   "metadata": {},
   "outputs": [],
   "source": [
    "%whos"
   ]
  },
  {
   "cell_type": "code",
   "execution_count": null,
   "id": "4bc65afc-e9a6-4b38-8581-2bd1386d5bba",
   "metadata": {},
   "outputs": [],
   "source": [
    "a=12\n",
    "if a>21:\n",
    "    print(\"a is greater\")\n",
    "elif not a>21:\n",
    "    print(\"sorry\")\n",
    "print(\"Hello\")"
   ]
  },
  {
   "cell_type": "code",
   "execution_count": null,
   "id": "68c7216b-9b0f-449f-a81b-fb4c4424d20d",
   "metadata": {},
   "outputs": [],
   "source": [
    "# this is nested if else blocks \n",
    "a=int(input(\"Enter a number : \"))\n",
    "if a>10:\n",
    "    print(\"no is >10\")\n",
    "    if a>20:\n",
    "        print(\"also >20\")\n",
    "    else:\n",
    "        print(\"but not > than 20\")\n",
    "print(\"sorry out of range\")"
   ]
  },
  {
   "cell_type": "code",
   "execution_count": null,
   "id": "3cdef131-5c78-4b3b-ac63-d4a683bd3cdc",
   "metadata": {},
   "outputs": [],
   "source": [
    "# This is a comment \n",
    "\"\"\" This is also a comment ie multiline comment\"\"\""
   ]
  },
  {
   "cell_type": "code",
   "execution_count": null,
   "id": "f23ba99e-7f3b-418e-b6c1-e3504c779095",
   "metadata": {},
   "outputs": [],
   "source": [
    "'''hey this is also a comment'''"
   ]
  },
  {
   "cell_type": "code",
   "execution_count": null,
   "id": "ae3f1513-9bf1-42d4-baf2-dac152fe82ad",
   "metadata": {},
   "outputs": [],
   "source": [
    "f = -1222.8342\n",
    "d= int(f)\n",
    "f"
   ]
  },
  {
   "cell_type": "code",
   "execution_count": null,
   "id": "194f3057-4ecd-40c5-9288-0558d2a067cf",
   "metadata": {},
   "outputs": [],
   "source": [
    "d"
   ]
  },
  {
   "cell_type": "code",
   "execution_count": null,
   "id": "b477fb31-9452-4dc8-939e-ac67c19ed11a",
   "metadata": {},
   "outputs": [],
   "source": [
    "print(d)"
   ]
  },
  {
   "cell_type": "code",
   "execution_count": null,
   "id": "02f8b97f-4459-4176-a6f5-a0c4ec15258d",
   "metadata": {},
   "outputs": [],
   "source": [
    "p=round(f)\n",
    "type(p)\n",
    "p"
   ]
  },
  {
   "cell_type": "code",
   "execution_count": null,
   "id": "2894ce04-d622-4204-a1c1-e7ec6b4569f5",
   "metadata": {},
   "outputs": [],
   "source": [
    "type(p)"
   ]
  },
  {
   "cell_type": "code",
   "execution_count": null,
   "id": "5fb06509-4a53-4aa9-9a14-a4430edcd69e",
   "metadata": {},
   "outputs": [],
   "source": [
    "type(f)"
   ]
  },
  {
   "cell_type": "code",
   "execution_count": null,
   "id": "aa0a9ccf-8ddb-406e-b0ed-4b75f6555599",
   "metadata": {},
   "outputs": [],
   "source": [
    "x = float(input(\"Ente any real no : \"))\n",
    "y=round(x)\n",
    "z=int(x)\n",
    "print(\"Integral part of the above is : \")\n",
    "print(y , z)"
   ]
  },
  {
   "cell_type": "code",
   "execution_count": null,
   "id": "53556591-828f-4085-adc6-306b29de6f41",
   "metadata": {},
   "outputs": [],
   "source": [
    "n = int(input(\"Enter a no : \"))\n",
    "i = 1\n",
    "while i<=n:\n",
    "    print(i)\n",
    "    i+=1\n",
    "print(\"Done\")"
   ]
  },
  {
   "cell_type": "code",
   "execution_count": null,
   "id": "52dad7b4-7399-46f0-801c-9cbc48ca6bb8",
   "metadata": {},
   "outputs": [],
   "source": [
    "n = int(input(\"Enter a no : \" ))\n",
    "for i in range(1,n+1):\n",
    "    print(i)\n",
    "print(\"Bye!!!\")"
   ]
  },
  {
   "cell_type": "code",
   "execution_count": null,
   "id": "f8fbe6ce-3d03-42a7-b851-3e37f7e820ff",
   "metadata": {},
   "outputs": [],
   "source": [
    "n = int(input(\"ENter a no : \" ))\n",
    "print(\"Here we are printing only even numbers\")\n",
    "for i in range(1,n+1):\n",
    "    if i % 2 ==0:\n",
    "        print(i)\n",
    "    else:           # Here is no need of writing the else block because we have not written anything init \n",
    "        pass\n",
    "print(\"done with even numbers\")\n",
    "        "
   ]
  },
  {
   "cell_type": "code",
   "execution_count": null,
   "id": "eca39939-bc21-4785-b063-d0f24188b1bf",
   "metadata": {},
   "outputs": [],
   "source": [
    "# use of break and continue \n",
    "i = 1\n",
    "while True:\n",
    "    if i%12==0:\n",
    "        print(\"got the condition\",i)\n",
    "        break\n",
    "    else:\n",
    "        print(\"Not above continue\",i)\n",
    "        i+=1\n",
    "        continue\n",
    "    print(\"I will not executed in any condition\")\n",
    "print(\"\\nFinally out of the loop\")"
   ]
  },
  {
   "cell_type": "markdown",
   "id": "c6267521-6fad-44dc-84ac-1e49a283391d",
   "metadata": {},
   "source": [
    "# Loop Practice"
   ]
  },
  {
   "cell_type": "code",
   "execution_count": 14,
   "id": "dbb94fc5-a52d-4317-ac6d-72020505f6e2",
   "metadata": {},
   "outputs": [
    {
     "name": "stdout",
     "output_type": "stream",
     "text": [
      "Not above continue 1\n",
      "Not above continue 2\n",
      "Not above continue 3\n",
      "Not above continue 4\n",
      "Not above continue 5\n",
      "Not above continue 6\n",
      "Not above continue 7\n",
      "Not above continue 8\n",
      "Not above continue 9\n",
      "Not above continue 10\n",
      "Not above continue 11\n",
      "got the condition 12\n",
      "\n",
      "Finally out of the loop\n"
     ]
    }
   ],
   "source": [
    "# use of break and continue \n",
    "i = 1\n",
    "while True:\n",
    "    if i%12==0:\n",
    "        print(\"got the condition\",i)\n",
    "        break\n",
    "    else:\n",
    "        print(\"Not above continue\",i)\n",
    "        i+=1\n",
    "        continue\n",
    "    print(\"I will not executed in any condition\")\n",
    "print(\"\\nFinally out of the loop\")"
   ]
  },
  {
   "cell_type": "code",
   "execution_count": 15,
   "id": "c3c8e404-fd40-446a-a159-52a47c28cf4a",
   "metadata": {},
   "outputs": [
    {
     "name": "stdout",
     "output_type": "stream",
     "text": [
      "skjdnsfdsj\n"
     ]
    }
   ],
   "source": [
    "print(\"skjdnsfdsj\")"
   ]
  },
  {
   "cell_type": "code",
   "execution_count": 16,
   "id": "3c7f276d-9497-4b41-8612-be96213d6e9a",
   "metadata": {},
   "outputs": [
    {
     "name": "stdout",
     "output_type": "stream",
     "text": [
      "1\n",
      "2\n",
      "3\n",
      "4\n",
      "5\n",
      "6\n",
      "7\n",
      "8\n",
      "9\n",
      "10\n",
      "[1, 4, 9, 16, 25, 36, 49, 64, 81, 100]\n"
     ]
    }
   ],
   "source": [
    "l = []\n",
    "for i in range(1,11):\n",
    "    print(i)\n",
    "    l.append(i**2)\n",
    "print(l)"
   ]
  },
  {
   "cell_type": "code",
   "execution_count": 17,
   "id": "63447ca0-e977-427a-a103-63d43b4c8780",
   "metadata": {},
   "outputs": [
    {
     "name": "stdout",
     "output_type": "stream",
     "text": [
      "1\n",
      "3\n",
      "5\n",
      "7\n",
      "9\n",
      "[1, 9, 25, 49, 81]\n"
     ]
    }
   ],
   "source": [
    "l = []\n",
    "for i in range(1,11,2):\n",
    "    print(i)\n",
    "    l.append(i**2)\n",
    "print(l)"
   ]
  },
  {
   "cell_type": "code",
   "execution_count": 23,
   "id": "17fe11f5-ca5c-4dd5-873f-f2a338f30a65",
   "metadata": {},
   "outputs": [
    {
     "name": "stdout",
     "output_type": "stream",
     "text": [
      "0\n",
      "1\n",
      "2\n",
      "3\n",
      "4\n",
      "5\n",
      "6\n",
      "7\n",
      "8\n",
      "9\n",
      "I'm inside the else block of the for loop\n",
      "[0, 1, 4, 9, 16, 25, 36, 49, 64, 81]\n"
     ]
    }
   ],
   "source": [
    "l = []\n",
    "for i in range(10):\n",
    "    print(i)\n",
    "    l.append(i**2)\n",
    "else:\n",
    "    print(\"I'm inside the else block of the for loop\")\n",
    "    print(l)"
   ]
  },
  {
   "cell_type": "code",
   "execution_count": 32,
   "id": "ab64b82f-6eca-41c4-b436-ec75eaaed278",
   "metadata": {},
   "outputs": [
    {
     "name": "stdout",
     "output_type": "stream",
     "text": [
      "Rahul\n",
      "Poonam\n",
      "21\n",
      "23.34\n",
      "Successfully out of the for loop & now inside the else of the for loop\n",
      "lst type <class 'list'>\n",
      "lst1 type <class 'list'>\n",
      "ls type <class 'set'>\n",
      "d type <class 'dict'>\n"
     ]
    }
   ],
   "source": [
    "ls = {\"Rahul\" , \"Poonam\" , 21,21,21 ,23.34}\n",
    "lst = [\"Rahul\" , \"Poonam\" , 21 ,23.34]\n",
    "d = {}\n",
    "lst1 = []\n",
    "for i in ls:\n",
    "    print(i)\n",
    "else:\n",
    "    print(\"Successfully out of the for loop & now inside the else of the for loop\")\n",
    "print(\"lst type\" , type(lst))\n",
    "print(\"lst1 type\" , type(lst1))\n",
    "print(\"ls type\",type(ls))\n",
    "print(\"d type\",type(d))"
   ]
  },
  {
   "cell_type": "code",
   "execution_count": 1,
   "id": "7783e6ee-f9fe-4829-bf56-1d6487eb50a8",
   "metadata": {},
   "outputs": [
    {
     "name": "stdout",
     "output_type": "stream",
     "text": [
      "<class 'set'>\n"
     ]
    }
   ],
   "source": [
    "st = set()\n",
    "print(type(st))"
   ]
  },
  {
   "cell_type": "code",
   "execution_count": null,
   "id": "2998e502-4f29-41ae-b08d-636bab63cab3",
   "metadata": {},
   "outputs": [],
   "source": []
  }
 ],
 "metadata": {
  "kernelspec": {
   "display_name": "Python 3 (ipykernel)",
   "language": "python",
   "name": "python3"
  },
  "language_info": {
   "codemirror_mode": {
    "name": "ipython",
    "version": 3
   },
   "file_extension": ".py",
   "mimetype": "text/x-python",
   "name": "python",
   "nbconvert_exporter": "python",
   "pygments_lexer": "ipython3",
   "version": "3.11.4"
  }
 },
 "nbformat": 4,
 "nbformat_minor": 5
}
