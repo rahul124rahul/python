{
 "cells": [
  {
   "cell_type": "raw",
   "id": "a58dc16c-f9a4-48de-a473-1d21141c361b",
   "metadata": {},
   "source": [
    "# In following  case the else block of the for block will not be executed\n",
    "# If we have used break statement in the loop of breaking the loop then the else block of the for loop is not executed\n",
    "\n",
    "l = [12,21,22,11,323]\n",
    "for i in l:\n",
    "    if i!=11:\n",
    "        print(i)\n",
    "    else:\n",
    "        break\n",
    "    \n",
    "else:\n",
    "    print(\"Finally out of the loop\")"
   ]
  },
  {
   "cell_type": "code",
   "execution_count": 5,
   "id": "fb272129-a25e-4411-b27c-6a47d5f36896",
   "metadata": {},
   "outputs": [],
   "source": [
    "d = {123 : \"Rahul\" , 121 : \"Poonam\" , 342 :\"Adarsh\" , 212 : \"Shivam\" }"
   ]
  },
  {
   "cell_type": "code",
   "execution_count": 9,
   "id": "b8868e53-6552-49aa-a7d8-9446d27bfd43",
   "metadata": {},
   "outputs": [
    {
     "name": "stdout",
     "output_type": "stream",
     "text": [
      "123 Rahul\n",
      "121 Poonam\n",
      "342 Adarsh\n",
      "212 Shivam\n"
     ]
    }
   ],
   "source": [
    "for i in d:\n",
    "    print(i,d[i])"
   ]
  },
  {
   "cell_type": "code",
   "execution_count": 11,
   "id": "32107891-bc32-4a7c-981e-fb5c61daeceb",
   "metadata": {},
   "outputs": [
    {
     "name": "stdout",
     "output_type": "stream",
     "text": [
      "{123: 'Rahul', 121: 'Poonam', 342: 'Adarsh', 212: 'Shivam'}\n"
     ]
    }
   ],
   "source": [
    "print(d)"
   ]
  },
  {
   "cell_type": "markdown",
   "id": "d4583554-de6c-41c5-a39d-6c8060c567e2",
   "metadata": {},
   "source": [
    "#Practicing problems"
   ]
  },
  {
   "cell_type": "code",
   "execution_count": 5,
   "id": "120fb6c1-8057-41e0-9142-5b8f034ab4e6",
   "metadata": {},
   "outputs": [
    {
     "name": "stdout",
     "output_type": "stream",
     "text": [
      "[-5, 2, 4, 1, 7, 9, 3, 2]\n",
      "[-5, 1, 4, 2, 7, 9, 3, 2]\n",
      "[-5, 1, 2, 4, 7, 9, 3, 2]\n",
      "[-5, 1, 2, 2, 7, 9, 3, 4]\n",
      "[-5, 1, 2, 2, 3, 9, 7, 4]\n",
      "[-5, 1, 2, 2, 3, 4, 7, 9]\n",
      "[-5, 1, 2, 2, 3, 4, 7, 9]\n"
     ]
    }
   ],
   "source": [
    "\"\"\"   Given a list of numbers i.e. [1,2,4,-5,7,9,3,2] , make another list that contains all the items in sorted orfer from min to max. \n",
    "    i.e. your answer result will be another list like [-5,1,2,2,3,4,7,9]\n",
    "\"\"\"\n",
    "l = [1,2,4,-5,7,9,3,2]\n",
    "\n",
    "# p=l.sort()\n",
    "# print(\"With direct l.sort() method we get : \",l)\n",
    "\n",
    "for i in range(0,len(l)-1):\n",
    "    a=l[i]\n",
    "    b=i\n",
    "    for j in range(i+1,len(l)):\n",
    "        if a>l[j]:\n",
    "            a=l[j]\n",
    "            b=j\n",
    "    t = l[i]\n",
    "    l[i] = l[b]\n",
    "    l[b] = t\n",
    "    print(l)"
   ]
  },
  {
   "cell_type": "code",
   "execution_count": 6,
   "id": "0989e6a8-68a3-408b-9047-e929dddfdf94",
   "metadata": {},
   "outputs": [],
   "source": [
    "p = [1,2,4,-5,2,-2,-1,3,2]"
   ]
  },
  {
   "cell_type": "markdown",
   "id": "d5b31b28-1f35-4c3e-aa64-f7740b794f8c",
   "metadata": {},
   "source": [
    "#Functions"
   ]
  },
  {
   "cell_type": "markdown",
   "id": "c6cf8e3b-4652-4470-adf0-8a9f4bc1e0a4",
   "metadata": {},
   "source": [
    "# Function"
   ]
  },
  {
   "cell_type": "code",
   "execution_count": 2,
   "id": "638cd61e-6c44-41f8-b6c7-5946a92c3cc3",
   "metadata": {},
   "outputs": [],
   "source": [
    "def success():\n",
    "    print(\"Congratulations !!!!!!!!!!!!\")\n",
    "    print(\"Have a greate Achivevment\")\n",
    "    print(\"All the best for further journey\")"
   ]
  },
  {
   "cell_type": "code",
   "execution_count": 3,
   "id": "49a36786-8ec4-4468-b174-55cc96dc7bcc",
   "metadata": {},
   "outputs": [
    {
     "name": "stdout",
     "output_type": "stream",
     "text": [
      "Congratulations !!!!!!!!!!!!\n",
      "Have a greate Achivevment\n",
      "All the best for further journey\n"
     ]
    }
   ],
   "source": [
    "success()"
   ]
  },
  {
   "cell_type": "code",
   "execution_count": 4,
   "id": "d6ea2071-8d76-400b-90ee-4ea069d0456d",
   "metadata": {},
   "outputs": [
    {
     "name": "stdout",
     "output_type": "stream",
     "text": [
      "Congratulations !!!!!!!!!!!!\n",
      "Have a greate Achivevment\n",
      "All the best for further journey\n",
      "Congratulations !!!!!!!!!!!!\n",
      "Have a greate Achivevment\n",
      "All the best for further journey\n"
     ]
    }
   ],
   "source": [
    "success()\n",
    "success()"
   ]
  },
  {
   "cell_type": "markdown",
   "id": "734b29ff-e428-43db-bcc3-6668cdd5fd34",
   "metadata": {},
   "source": [
    "# Doc String"
   ]
  },
  {
   "cell_type": "code",
   "execution_count": 5,
   "id": "2869be96-ffc8-46c3-ade3-c7fa5bf2d8be",
   "metadata": {},
   "outputs": [],
   "source": [
    "def some():\n",
    "    \"\"\"This is the function which is returning/ printing the something \n",
    "    this is a Doc string of the python function 'some'\"\"\"\n",
    "    print(\"Hello, I am doing something \")"
   ]
  },
  {
   "cell_type": "code",
   "execution_count": 6,
   "id": "f4c6aaa9-5fc2-4b6f-aeaf-7997c9f1cf97",
   "metadata": {},
   "outputs": [
    {
     "name": "stdout",
     "output_type": "stream",
     "text": [
      "Hello, I am doing something \n"
     ]
    }
   ],
   "source": [
    "some()"
   ]
  },
  {
   "cell_type": "code",
   "execution_count": 7,
   "id": "dd13aced-62a2-420a-ba0a-48de85f1eddd",
   "metadata": {},
   "outputs": [
    {
     "name": "stdout",
     "output_type": "stream",
     "text": [
      "Hello, I am doing something \n"
     ]
    }
   ],
   "source": [
    "some()"
   ]
  },
  {
   "cell_type": "code",
   "execution_count": 8,
   "id": "bfb646d4-3f5f-4e4f-a308-ab756e5bd359",
   "metadata": {},
   "outputs": [
    {
     "data": {
      "text/plain": [
       "\u001b[1;31mSignature:\u001b[0m \u001b[0msome\u001b[0m\u001b[1;33m(\u001b[0m\u001b[1;33m)\u001b[0m\u001b[1;33m\u001b[0m\u001b[1;33m\u001b[0m\u001b[0m\n",
       "\u001b[1;31mDocstring:\u001b[0m\n",
       "This is the function which is returning/ printing the something \n",
       "this is a Doc string of the python function 'some'\n",
       "\u001b[1;31mFile:\u001b[0m      c:\\users\\rahul\\appdata\\local\\temp\\ipykernel_6420\\4094038646.py\n",
       "\u001b[1;31mType:\u001b[0m      function"
      ]
     },
     "metadata": {},
     "output_type": "display_data"
    }
   ],
   "source": [
    "some?"
   ]
  },
  {
   "cell_type": "code",
   "execution_count": 9,
   "id": "e394fc12-e255-4131-aef2-51cb76936778",
   "metadata": {},
   "outputs": [
    {
     "data": {
      "text/plain": [
       "\u001b[1;31mSignature:\u001b[0m \u001b[0msome\u001b[0m\u001b[1;33m(\u001b[0m\u001b[1;33m)\u001b[0m\u001b[1;33m\u001b[0m\u001b[1;33m\u001b[0m\u001b[0m\n",
       "\u001b[1;31mSource:\u001b[0m   \n",
       "\u001b[1;32mdef\u001b[0m \u001b[0msome\u001b[0m\u001b[1;33m(\u001b[0m\u001b[1;33m)\u001b[0m\u001b[1;33m:\u001b[0m\u001b[1;33m\n",
       "\u001b[0m    \u001b[1;34m\"\"\"This is the function which is returning/ printing the something \n",
       "    this is a Doc string of the python function 'some'\"\"\"\u001b[0m\u001b[1;33m\n",
       "\u001b[0m    \u001b[0mprint\u001b[0m\u001b[1;33m(\u001b[0m\u001b[1;34m\"Hello, I am doing something \"\u001b[0m\u001b[1;33m)\u001b[0m\u001b[1;33m\u001b[0m\u001b[1;33m\u001b[0m\u001b[0m\n",
       "\u001b[1;31mFile:\u001b[0m      c:\\users\\rahul\\appdata\\local\\temp\\ipykernel_6420\\4094038646.py\n",
       "\u001b[1;31mType:\u001b[0m      function"
      ]
     },
     "metadata": {},
     "output_type": "display_data"
    }
   ],
   "source": [
    " some??"
   ]
  },
  {
   "cell_type": "code",
   "execution_count": 10,
   "id": "15f0c5ac-cebf-473a-951e-5391b489d309",
   "metadata": {},
   "outputs": [
    {
     "data": {
      "text/plain": [
       "\u001b[1;31mSignature:\u001b[0m \u001b[0mlen\u001b[0m\u001b[1;33m(\u001b[0m\u001b[0mobj\u001b[0m\u001b[1;33m,\u001b[0m \u001b[1;33m/\u001b[0m\u001b[1;33m)\u001b[0m\u001b[1;33m\u001b[0m\u001b[1;33m\u001b[0m\u001b[0m\n",
       "\u001b[1;31mDocstring:\u001b[0m Return the number of items in a container.\n",
       "\u001b[1;31mType:\u001b[0m      builtin_function_or_method"
      ]
     },
     "metadata": {},
     "output_type": "display_data"
    }
   ],
   "source": [
    "len?"
   ]
  },
  {
   "cell_type": "code",
   "execution_count": 11,
   "id": "761f16f1-6838-49f9-963f-96b98e127b83",
   "metadata": {},
   "outputs": [
    {
     "name": "stdout",
     "output_type": "stream",
     "text": [
      "Object `sort` not found.\n"
     ]
    }
   ],
   "source": [
    "sort?"
   ]
  },
  {
   "cell_type": "code",
   "execution_count": 12,
   "id": "71c44211-58ea-429f-a9ae-dc5ce4ffbd52",
   "metadata": {},
   "outputs": [
    {
     "data": {
      "text/plain": [
       "\u001b[1;31mSignature:\u001b[0m \u001b[0mlen\u001b[0m\u001b[1;33m(\u001b[0m\u001b[0mobj\u001b[0m\u001b[1;33m,\u001b[0m \u001b[1;33m/\u001b[0m\u001b[1;33m)\u001b[0m\u001b[1;33m\u001b[0m\u001b[1;33m\u001b[0m\u001b[0m\n",
       "\u001b[1;31mDocstring:\u001b[0m Return the number of items in a container.\n",
       "\u001b[1;31mType:\u001b[0m      builtin_function_or_method"
      ]
     },
     "metadata": {},
     "output_type": "display_data"
    }
   ],
   "source": [
    " len??"
   ]
  },
  {
   "cell_type": "code",
   "execution_count": 13,
   "id": "673e623f-22e3-4b99-8a93-223d72c0378a",
   "metadata": {},
   "outputs": [
    {
     "name": "stdout",
     "output_type": "stream",
     "text": [
      "Help on function some in module __main__:\n",
      "\n",
      "some()\n",
      "    This is the function which is returning/ printing the something \n",
      "    this is a Doc string of the python function 'some'\n",
      "\n"
     ]
    }
   ],
   "source": [
    "help(some)"
   ]
  },
  {
   "cell_type": "code",
   "execution_count": 1,
   "id": "5d09c5ac-0820-4ff7-8c7f-fd453e640227",
   "metadata": {},
   "outputs": [
    {
     "name": "stdout",
     "output_type": "stream",
     "text": [
      "Object `sort` not found.\n"
     ]
    }
   ],
   "source": [
    "sort?"
   ]
  },
  {
   "cell_type": "code",
   "execution_count": 2,
   "id": "7ff7378b-d663-403b-9309-4c341c75ad7a",
   "metadata": {},
   "outputs": [
    {
     "name": "stdout",
     "output_type": "stream",
     "text": [
      "Object `count` not found.\n"
     ]
    }
   ],
   "source": [
    "count?"
   ]
  },
  {
   "cell_type": "code",
   "execution_count": 3,
   "id": "91fc6e65-165a-438f-bfb9-93ae6765d3a9",
   "metadata": {},
   "outputs": [
    {
     "name": "stdout",
     "output_type": "stream",
     "text": [
      "Object `del` not found.\n"
     ]
    }
   ],
   "source": [
    "del?"
   ]
  },
  {
   "cell_type": "code",
   "execution_count": 4,
   "id": "85af13cc-5e81-4283-90f7-ea2aadad5a8d",
   "metadata": {},
   "outputs": [
    {
     "name": "stdout",
     "output_type": "stream",
     "text": [
      "Object `def` not found.\n"
     ]
    }
   ],
   "source": [
    "def?"
   ]
  },
  {
   "cell_type": "code",
   "execution_count": 5,
   "id": "f38bb6f6-45d5-4299-a3da-51af7ba3b071",
   "metadata": {},
   "outputs": [
    {
     "data": {
      "text/plain": [
       "\u001b[1;31mSignature:\u001b[0m \u001b[0mlen\u001b[0m\u001b[1;33m(\u001b[0m\u001b[0mobj\u001b[0m\u001b[1;33m,\u001b[0m \u001b[1;33m/\u001b[0m\u001b[1;33m)\u001b[0m\u001b[1;33m\u001b[0m\u001b[1;33m\u001b[0m\u001b[0m\n",
       "\u001b[1;31mDocstring:\u001b[0m Return the number of items in a container.\n",
       "\u001b[1;31mType:\u001b[0m      builtin_function_or_method"
      ]
     },
     "metadata": {},
     "output_type": "display_data"
    }
   ],
   "source": [
    "len?"
   ]
  },
  {
   "cell_type": "code",
   "execution_count": 6,
   "id": "6b41d95f-1e69-4897-8625-ec6dc72d1f76",
   "metadata": {},
   "outputs": [
    {
     "data": {
      "text/plain": [
       "\u001b[1;31mSignature:\u001b[0m \u001b[0mprint\u001b[0m\u001b[1;33m(\u001b[0m\u001b[1;33m*\u001b[0m\u001b[0margs\u001b[0m\u001b[1;33m,\u001b[0m \u001b[0msep\u001b[0m\u001b[1;33m=\u001b[0m\u001b[1;34m' '\u001b[0m\u001b[1;33m,\u001b[0m \u001b[0mend\u001b[0m\u001b[1;33m=\u001b[0m\u001b[1;34m'\\n'\u001b[0m\u001b[1;33m,\u001b[0m \u001b[0mfile\u001b[0m\u001b[1;33m=\u001b[0m\u001b[1;32mNone\u001b[0m\u001b[1;33m,\u001b[0m \u001b[0mflush\u001b[0m\u001b[1;33m=\u001b[0m\u001b[1;32mFalse\u001b[0m\u001b[1;33m)\u001b[0m\u001b[1;33m\u001b[0m\u001b[1;33m\u001b[0m\u001b[0m\n",
       "\u001b[1;31mDocstring:\u001b[0m\n",
       "Prints the values to a stream, or to sys.stdout by default.\n",
       "\n",
       "sep\n",
       "  string inserted between values, default a space.\n",
       "end\n",
       "  string appended after the last value, default a newline.\n",
       "file\n",
       "  a file-like object (stream); defaults to the current sys.stdout.\n",
       "flush\n",
       "  whether to forcibly flush the stream.\n",
       "\u001b[1;31mType:\u001b[0m      builtin_function_or_method"
      ]
     },
     "metadata": {},
     "output_type": "display_data"
    }
   ],
   "source": [
    "print?"
   ]
  },
  {
   "cell_type": "code",
   "execution_count": 19,
   "id": "2c5a88d9-4cff-4777-96c9-c43fdd37cb45",
   "metadata": {},
   "outputs": [],
   "source": [
    "def PrintString(msg):\n",
    "    \"\"\"The function is used to print the string messge which is input taken by the user, By verifying the datatype if the input \n",
    "        whether it is string or not\"\"\"\n",
    "    if isinstance(msg,str):\n",
    "        print(\"String : \",msg)\n",
    "    else:\n",
    "        print(\"Your input argument is not a String\")\n",
    "        print(\"Here is what we have supplied\",msg, \"And its datatype is \" ,type(msg))"
   ]
  },
  {
   "cell_type": "code",
   "execution_count": 21,
   "id": "f0e2adf4-89bb-42bf-8748-076ecc0b15d8",
   "metadata": {},
   "outputs": [
    {
     "name": "stdout",
     "output_type": "stream",
     "text": [
      "String :  Hello\n"
     ]
    }
   ],
   "source": [
    "PrintString(\"Hello\")"
   ]
  },
  {
   "cell_type": "code",
   "execution_count": 22,
   "id": "167d60e6-37bb-4bbd-a668-f54744db726e",
   "metadata": {},
   "outputs": [
    {
     "name": "stdout",
     "output_type": "stream",
     "text": [
      "Help on function PrintString in module __main__:\n",
      "\n",
      "PrintString(msg)\n",
      "    The function is used to print the string messge which is input taken by the user, By verifying the datatype if the input \n",
      "    whether it is string or not\n",
      "\n"
     ]
    }
   ],
   "source": [
    "help(PrintString)"
   ]
  },
  {
   "cell_type": "code",
   "execution_count": 23,
   "id": "10a41207-3b27-4a12-95a3-864bc662ee7f",
   "metadata": {},
   "outputs": [
    {
     "data": {
      "text/plain": [
       "\u001b[1;31mSignature:\u001b[0m \u001b[0mPrintString\u001b[0m\u001b[1;33m(\u001b[0m\u001b[0mmsg\u001b[0m\u001b[1;33m)\u001b[0m\u001b[1;33m\u001b[0m\u001b[1;33m\u001b[0m\u001b[0m\n",
       "\u001b[1;31mDocstring:\u001b[0m\n",
       "The function is used to print the string messge which is input taken by the user, By verifying the datatype if the input \n",
       "whether it is string or not\n",
       "\u001b[1;31mFile:\u001b[0m      c:\\users\\rahul\\appdata\\local\\temp\\ipykernel_4060\\298477634.py\n",
       "\u001b[1;31mType:\u001b[0m      function"
      ]
     },
     "metadata": {},
     "output_type": "display_data"
    }
   ],
   "source": [
    "PrintString?"
   ]
  },
  {
   "cell_type": "code",
   "execution_count": 24,
   "id": "ce43dee1-38e2-4ac8-be76-636343206b12",
   "metadata": {},
   "outputs": [
    {
     "data": {
      "text/plain": [
       "\u001b[1;31mSignature:\u001b[0m \u001b[0mPrintString\u001b[0m\u001b[1;33m(\u001b[0m\u001b[0mmsg\u001b[0m\u001b[1;33m)\u001b[0m\u001b[1;33m\u001b[0m\u001b[1;33m\u001b[0m\u001b[0m\n",
       "\u001b[1;31mSource:\u001b[0m   \n",
       "\u001b[1;32mdef\u001b[0m \u001b[0mPrintString\u001b[0m\u001b[1;33m(\u001b[0m\u001b[0mmsg\u001b[0m\u001b[1;33m)\u001b[0m\u001b[1;33m:\u001b[0m\u001b[1;33m\n",
       "\u001b[0m    \u001b[1;34m\"\"\"The function is used to print the string messge which is input taken by the user, By verifying the datatype if the input \n",
       "        whether it is string or not\"\"\"\u001b[0m\u001b[1;33m\n",
       "\u001b[0m    \u001b[1;32mif\u001b[0m \u001b[0misinstance\u001b[0m\u001b[1;33m(\u001b[0m\u001b[0mmsg\u001b[0m\u001b[1;33m,\u001b[0m\u001b[0mstr\u001b[0m\u001b[1;33m)\u001b[0m\u001b[1;33m:\u001b[0m\u001b[1;33m\n",
       "\u001b[0m        \u001b[0mprint\u001b[0m\u001b[1;33m(\u001b[0m\u001b[1;34m\"String : \"\u001b[0m\u001b[1;33m,\u001b[0m\u001b[0mmsg\u001b[0m\u001b[1;33m)\u001b[0m\u001b[1;33m\n",
       "\u001b[0m    \u001b[1;32melse\u001b[0m\u001b[1;33m:\u001b[0m\u001b[1;33m\n",
       "\u001b[0m        \u001b[0mprint\u001b[0m\u001b[1;33m(\u001b[0m\u001b[1;34m\"Your input argument is not a String\"\u001b[0m\u001b[1;33m)\u001b[0m\u001b[1;33m\n",
       "\u001b[0m        \u001b[0mprint\u001b[0m\u001b[1;33m(\u001b[0m\u001b[1;34m\"Here is what we have supplied\"\u001b[0m\u001b[1;33m,\u001b[0m\u001b[0mmsg\u001b[0m\u001b[1;33m,\u001b[0m \u001b[1;34m\"And its datatype is \"\u001b[0m \u001b[1;33m,\u001b[0m\u001b[0mtype\u001b[0m\u001b[1;33m(\u001b[0m\u001b[0mmsg\u001b[0m\u001b[1;33m)\u001b[0m\u001b[1;33m)\u001b[0m\u001b[1;33m\u001b[0m\u001b[1;33m\u001b[0m\u001b[0m\n",
       "\u001b[1;31mFile:\u001b[0m      c:\\users\\rahul\\appdata\\local\\temp\\ipykernel_4060\\298477634.py\n",
       "\u001b[1;31mType:\u001b[0m      function"
      ]
     },
     "metadata": {},
     "output_type": "display_data"
    }
   ],
   "source": [
    "PrintString??"
   ]
  },
  {
   "cell_type": "code",
   "execution_count": 20,
   "id": "60fedb97-5f16-4880-90fa-d7be950f8f59",
   "metadata": {},
   "outputs": [
    {
     "name": "stdout",
     "output_type": "stream",
     "text": [
      "Your input argument is not a String\n",
      "Here is what we have supplied 2112 And its datatype is  <class 'int'>\n"
     ]
    }
   ],
   "source": [
    "PrintString(2112)"
   ]
  },
  {
   "cell_type": "code",
   "execution_count": 25,
   "id": "54026733-c317-4d2c-9acc-f86d4b5c3a3b",
   "metadata": {},
   "outputs": [
    {
     "name": "stdout",
     "output_type": "stream",
     "text": [
      "Your input argument is not a String\n",
      "Here is what we have supplied 212.221 And its datatype is  <class 'float'>\n"
     ]
    }
   ],
   "source": [
    "PrintString(212.221)"
   ]
  },
  {
   "cell_type": "code",
   "execution_count": 26,
   "id": "bce36674-97c9-4fd9-ac8c-72365d9f1e4f",
   "metadata": {},
   "outputs": [
    {
     "name": "stdout",
     "output_type": "stream",
     "text": [
      "String :  Hello Rahul, how are you What's going on?\n"
     ]
    }
   ],
   "source": [
    "p = \"Hello Rahul, how are you What's going on?\"\n",
    "PrintString(p)"
   ]
  },
  {
   "cell_type": "code",
   "execution_count": 27,
   "id": "d6860bbc-73d7-4b7a-8e07-f75d003d1ef9",
   "metadata": {},
   "outputs": [],
   "source": [
    "def mypow(a,b):\n",
    "    \"\"\"By this function we can compute power just like builtin power function i.e.,pow(a,b)\"\"\"\n",
    "    print(pow(a,b))"
   ]
  },
  {
   "cell_type": "code",
   "execution_count": 28,
   "id": "e35d10a3-042c-4a1a-a5e3-8a85ad5a6977",
   "metadata": {},
   "outputs": [
    {
     "name": "stdout",
     "output_type": "stream",
     "text": [
      "81\n"
     ]
    }
   ],
   "source": [
    "mypow(3,4)"
   ]
  },
  {
   "cell_type": "code",
   "execution_count": 29,
   "id": "1a65d22b-c8d8-4dba-ba11-09121ff9e610",
   "metadata": {},
   "outputs": [
    {
     "name": "stdout",
     "output_type": "stream",
     "text": [
      "32\n"
     ]
    }
   ],
   "source": [
    "mypow(2,5)"
   ]
  },
  {
   "cell_type": "code",
   "execution_count": 30,
   "id": "5c6df3cc-425f-422b-bab8-02ea441a5e2d",
   "metadata": {},
   "outputs": [],
   "source": [
    "def chkargs(a,b,c,d,e):\n",
    "    if isinstance(a,(int,float)) and isinstance(b,(int,float)) and isinstance(c,(int,float)):\n",
    "        print(a+b+c)\n",
    "    else:\n",
    "        print(\"ERROR : The input string is not of an expected type\")"
   ]
  },
  {
   "cell_type": "code",
   "execution_count": 31,
   "id": "44a947be-68df-4750-9eab-f1a655257142",
   "metadata": {},
   "outputs": [
    {
     "name": "stdout",
     "output_type": "stream",
     "text": [
      "9\n"
     ]
    }
   ],
   "source": [
    "chkargs(2,3,4,5,6)"
   ]
  },
  {
   "cell_type": "code",
   "execution_count": 34,
   "id": "3ddfe32e-ecbb-44cb-be87-71f2dca62753",
   "metadata": {},
   "outputs": [
    {
     "name": "stdout",
     "output_type": "stream",
     "text": [
      "276.32\n"
     ]
    }
   ],
   "source": [
    "chkargs(12.2,232,32.12,212,12)"
   ]
  },
  {
   "cell_type": "code",
   "execution_count": 36,
   "id": "78e34f76-bba5-4f5c-8aaf-ea4f543d01a8",
   "metadata": {},
   "outputs": [
    {
     "name": "stdout",
     "output_type": "stream",
     "text": [
      "ERROR : The input string is not of an expected type\n"
     ]
    }
   ],
   "source": [
    "chkargs(\"R\",\"A\",\"H\",\"U\",\"L\")"
   ]
  },
  {
   "cell_type": "code",
   "execution_count": 37,
   "id": "6cb66f74-e79b-49e6-afc1-e776d0c877db",
   "metadata": {},
   "outputs": [
    {
     "name": "stdout",
     "output_type": "stream",
     "text": [
      "36.9\n"
     ]
    }
   ],
   "source": [
    "chkargs(12.2,12.3,12.4,\"Rahul\" , \"Sonu\")"
   ]
  },
  {
   "cell_type": "code",
   "execution_count": 38,
   "id": "6f451fb3-46e3-4c60-8f30-08f1a6fde79c",
   "metadata": {},
   "outputs": [],
   "source": [
    "def something(a,b,c):\n",
    "    print(\"A = \",a)\n",
    "    print(\"B = \",b)\n",
    "    print(\"C = \",c)"
   ]
  },
  {
   "cell_type": "code",
   "execution_count": 39,
   "id": "24fb6e5f-7daa-47fc-9e6f-3946e920e2c2",
   "metadata": {},
   "outputs": [
    {
     "name": "stdout",
     "output_type": "stream",
     "text": [
      "A =  1\n",
      "B =  2\n",
      "C =  3\n"
     ]
    }
   ],
   "source": [
    "something(1,2,3)"
   ]
  },
  {
   "cell_type": "code",
   "execution_count": 41,
   "id": "e0b554df-b4ef-4418-a3c9-b34d0bdefea3",
   "metadata": {},
   "outputs": [
    {
     "name": "stdout",
     "output_type": "stream",
     "text": [
      "A =  2\n",
      "B =  1\n",
      "C =  Rahul\n"
     ]
    }
   ],
   "source": [
    "something(2,1,\"Rahul\")"
   ]
  },
  {
   "cell_type": "code",
   "execution_count": 45,
   "id": "0eeb6387-17f4-47f7-9169-e1364125aa35",
   "metadata": {},
   "outputs": [
    {
     "name": "stdout",
     "output_type": "stream",
     "text": [
      "A =  Rahul\n",
      "B =  1212\n",
      "C =  #%676557\n"
     ]
    }
   ],
   "source": [
    "# We can call our function by following way also\n",
    "# Here we must know all the variables names\n",
    "\n",
    "something(a=\"Rahul\" , c=\"#%676557\" , b=1212)\n",
    "# something(\"Rahul\" , \"#%676557\" , b=1212)         # This will not work, it will throw an error"
   ]
  },
  {
   "cell_type": "code",
   "execution_count": 58,
   "id": "71fa4ed0-e905-48df-98b4-2ef135033a97",
   "metadata": {},
   "outputs": [],
   "source": [
    "# For some function we require the value of the some variables defined in the function scope. \n",
    "# The variables declared in the function scope are not accessable outside of the function \n",
    "# If we have requite the some output from the function defined we use 'return' statement with argument or our required result.\n",
    "\n",
    "def f(a,b):\n",
    "    c = a+b\n",
    "    return c"
   ]
  },
  {
   "cell_type": "code",
   "execution_count": 59,
   "id": "93c5bb79-f4f2-4036-b63c-bebec34042b0",
   "metadata": {},
   "outputs": [
    {
     "name": "stdout",
     "output_type": "stream",
     "text": [
      "Sum of the nubers is :  35\n"
     ]
    }
   ],
   "source": [
    "d = f(12,23)\n",
    "print(\"Sum of the nubers is : \",d)"
   ]
  },
  {
   "cell_type": "code",
   "execution_count": 60,
   "id": "099e448b-3d6a-4a81-98a4-c96014689294",
   "metadata": {},
   "outputs": [
    {
     "name": "stdout",
     "output_type": "stream",
     "text": [
      "Rhaul !!!!!!!!!!!!\n"
     ]
    }
   ],
   "source": [
    "e = f(\"Rhaul \",\"!!!!!!!!!!!!\")\n",
    "print(e)"
   ]
  },
  {
   "cell_type": "code",
   "execution_count": 67,
   "id": "4d39a521-c7e0-4365-869c-66359fb7d8ae",
   "metadata": {},
   "outputs": [],
   "source": [
    "f=3"
   ]
  },
  {
   "cell_type": "code",
   "execution_count": 82,
   "id": "fa400246-4a23-4151-b27f-e376fda73901",
   "metadata": {},
   "outputs": [],
   "source": [
    "def abc():\n",
    "    print(\"f = \",f)"
   ]
  },
  {
   "cell_type": "code",
   "execution_count": 83,
   "id": "cc61fe4e-5503-400d-af0e-92bbcb8b7a42",
   "metadata": {},
   "outputs": [
    {
     "name": "stdout",
     "output_type": "stream",
     "text": [
      "f =  3\n"
     ]
    }
   ],
   "source": [
    "# By this way we can access the outside variable value inside the funcrtion \n",
    "abc()"
   ]
  },
  {
   "cell_type": "code",
   "execution_count": 95,
   "id": "f2fc935f-41ab-4899-b958-97bb503826ad",
   "metadata": {},
   "outputs": [],
   "source": [
    "def d(a):\n",
    "    # print(\"f inside the function before it's local declaration i.e., f = \",f)      # This will throw an error because we have locally declared the already declard outside variable\n",
    "    f=12\n",
    "    print(\"f inside the function is locally changed i.e., f = \",f)\n",
    "    print(\"a = \",a)"
   ]
  },
  {
   "cell_type": "code",
   "execution_count": 96,
   "id": "a6129b35-d428-44f9-9049-60e84e9d553f",
   "metadata": {},
   "outputs": [
    {
     "name": "stdout",
     "output_type": "stream",
     "text": [
      "f inside the function is locally changed i.e., f =  12\n",
      "a =  2121\n"
     ]
    }
   ],
   "source": [
    "d(2121)"
   ]
  },
  {
   "cell_type": "code",
   "execution_count": 102,
   "id": "7d4f6681-f44b-4122-9088-999f57a281b4",
   "metadata": {},
   "outputs": [
    {
     "name": "stdout",
     "output_type": "stream",
     "text": [
      "None <class 'NoneType'>\n"
     ]
    }
   ],
   "source": [
    "def nun():\n",
    "    a=3\n",
    "    b=4\n",
    "print(nun() , type(nun()))"
   ]
  },
  {
   "cell_type": "code",
   "execution_count": 107,
   "id": "62888c26-f05c-4a65-ac2a-14340165e4a8",
   "metadata": {},
   "outputs": [
    {
     "name": "stdout",
     "output_type": "stream",
     "text": [
      "\n",
      "\n",
      "\n"
     ]
    }
   ],
   "source": [
    "def fun_1():\n",
    "    print(\"Rahul\")\n",
    "    a=3\n",
    "    b=9\n",
    "    c=b-a\n",
    "    print(\"All is Not Well !!!!!!!!!!!!\")\n",
    "    return\n",
    "    print(233232)\n",
    "    p =23243\n",
    "\n",
    "print(\"\\n\\n\")\n",
    "\n",
    "def fun_2():\n",
    "    print(\"Rahul\")\n",
    "    a=3\n",
    "    b=9\n",
    "    c=b-a\n",
    "    print(\"All is Not Well !!!!!!!!!!!!\")\n",
    "    return c\n",
    "    print(233232)\n",
    "    p =23243"
   ]
  },
  {
   "cell_type": "code",
   "execution_count": 112,
   "id": "09b0216a-42b6-434f-a950-4b19cf4f5876",
   "metadata": {},
   "outputs": [
    {
     "name": "stdout",
     "output_type": "stream",
     "text": [
      "Rahul\n",
      "All is Not Well !!!!!!!!!!!!\n",
      "Rahul\n",
      "All is Not Well !!!!!!!!!!!!\n",
      "None <class 'NoneType'> \n",
      "\n",
      "Rahul\n",
      "All is Not Well !!!!!!!!!!!!\n",
      "Rahul\n",
      "All is Not Well !!!!!!!!!!!!\n",
      "6 <class 'int'>\n"
     ]
    }
   ],
   "source": [
    "print(fun_1(),type(fun_1()),\"\\n\")\n",
    "print(fun_2(),type(fun_2()))"
   ]
  },
  {
   "cell_type": "code",
   "execution_count": 113,
   "id": "5c8f07b0-b77c-4506-a1f6-13cea73bb441",
   "metadata": {},
   "outputs": [
    {
     "name": "stdout",
     "output_type": "stream",
     "text": [
      "(1, 2, 3)\n"
     ]
    }
   ],
   "source": [
    "def mult():\n",
    "    a=1\n",
    "    b=2\n",
    "    c=3\n",
    "    return a,b,c\n",
    "print(mult())"
   ]
  },
  {
   "cell_type": "code",
   "execution_count": 114,
   "id": "9f4c8dde-ed83-44fa-b3dc-0e4ddda5bb95",
   "metadata": {},
   "outputs": [
    {
     "name": "stdout",
     "output_type": "stream",
     "text": [
      "1\n",
      "2\n",
      "3\n"
     ]
    }
   ],
   "source": [
    "p,q,r = mult()\n",
    "print(p)\n",
    "print(q)\n",
    "print(r)"
   ]
  },
  {
   "cell_type": "code",
   "execution_count": 2,
   "id": "a7bb0eae-ff62-4de1-8eb1-f2f8125e0e5e",
   "metadata": {},
   "outputs": [
    {
     "name": "stdout",
     "output_type": "stream",
     "text": [
      "<class 'tuple'>\n",
      "Length of arr is :  3\n"
     ]
    },
    {
     "data": {
      "text/plain": [
       "6"
      ]
     },
     "execution_count": 2,
     "metadata": {},
     "output_type": "execute_result"
    }
   ],
   "source": [
    "# Function for handling the variable number of inputs \n",
    "\n",
    "def add(*arr):\n",
    "    print(type(arr))\n",
    "    l = len(arr)\n",
    "    print(\"Length of arr is : \",l)\n",
    "    sum = 0\n",
    "    for i in arr:\n",
    "        sum+=i\n",
    "    return sum\n",
    "add(2,1,3)"
   ]
  },
  {
   "cell_type": "code",
   "execution_count": 3,
   "id": "00d42789-52bf-4bcc-81c6-dcec95b1ed6d",
   "metadata": {},
   "outputs": [
    {
     "name": "stdout",
     "output_type": "stream",
     "text": [
      "<class 'tuple'>\n",
      "Length of arr is :  5\n",
      "248.23\n"
     ]
    }
   ],
   "source": [
    "s=add(12.23,12,212,0,12)\n",
    "print(s)"
   ]
  },
  {
   "cell_type": "code",
   "execution_count": 4,
   "id": "ccdfef36-36e1-4a0d-89cc-6809440817fe",
   "metadata": {},
   "outputs": [
    {
     "name": "stdout",
     "output_type": "stream",
     "text": [
      "<class 'tuple'>\n",
      "Length of arr is :  5\n",
      "115\n"
     ]
    }
   ],
   "source": [
    "r = add(21,22,23,24,25)\n",
    "print(r)"
   ]
  },
  {
   "cell_type": "code",
   "execution_count": 7,
   "id": "b1fa8265-c10b-4965-85f4-71c7abea99fe",
   "metadata": {},
   "outputs": [],
   "source": [
    "def ToPrintVarNameAndKeyValue(**args):\n",
    "    for i in args:\n",
    "        print(i,\" : \",args[i])"
   ]
  },
  {
   "cell_type": "code",
   "execution_count": 8,
   "id": "1bf5dda4-3604-44ad-8836-7fac69ced373",
   "metadata": {},
   "outputs": [
    {
     "name": "stdout",
     "output_type": "stream",
     "text": [
      "a  :  9\n",
      "b  :  223\n",
      "p  :  Rahul\n",
      "r  :  Sonu\n",
      "h  :  12.21\n"
     ]
    }
   ],
   "source": [
    "ToPrintVarNameAndKeyValue(a=9,b=223,p=\"Rahul\",r=\"Sonu\",h=12.21)"
   ]
  },
  {
   "cell_type": "code",
   "execution_count": 13,
   "id": "9cc942fe-631e-4eb7-aa6e-80d0e896cddf",
   "metadata": {},
   "outputs": [
    {
     "name": "stdout",
     "output_type": "stream",
     "text": [
      "d  :  21\n",
      "f  :  Poor\n",
      "gt  :  g\n",
      "rr  :  2122.32332\n"
     ]
    }
   ],
   "source": [
    "# g = [d=21 , f=\"Poor\" , gt = \"g\" ,rr=2122.32332]   # This will not work here\n",
    "# g = (d=21 , f=\"Poor\" , gt = \"g\" ,rr=2122.32332)\n",
    "\n",
    "ToPrintVarNameAndKeyValue(d=21 , f=\"Poor\" , gt = \"g\" ,rr=2122.32332)"
   ]
  },
  {
   "cell_type": "code",
   "execution_count": 14,
   "id": "ae421a3c-c9a1-44ce-877f-e49e598a82b4",
   "metadata": {},
   "outputs": [],
   "source": [
    "def defaultVAlue(sum=10):\n",
    "    print(\"Value of Sum is : \",sum)"
   ]
  },
  {
   "cell_type": "code",
   "execution_count": 15,
   "id": "468282a0-07a1-413c-82ac-1688da40d0df",
   "metadata": {},
   "outputs": [
    {
     "name": "stdout",
     "output_type": "stream",
     "text": [
      "Value of Sum is :  121\n"
     ]
    }
   ],
   "source": [
    "defaultVAlue(121)"
   ]
  },
  {
   "cell_type": "code",
   "execution_count": 16,
   "id": "abd47d77-66eb-4d5c-9ffa-a6cb932e3e26",
   "metadata": {},
   "outputs": [
    {
     "name": "stdout",
     "output_type": "stream",
     "text": [
      "Value of Sum is :  10\n"
     ]
    }
   ],
   "source": [
    "defaultVAlue()"
   ]
  },
  {
   "cell_type": "code",
   "execution_count": 18,
   "id": "f6467b25-f7fb-4e29-86f2-74c2fb1839d5",
   "metadata": {},
   "outputs": [
    {
     "name": "stdout",
     "output_type": "stream",
     "text": [
      "[12, -22222222, 23, 43]\n"
     ]
    }
   ],
   "source": [
    "#  In python the reference variable is passed to assigning , so the changes reflect in the main(original) memory\n",
    "l = [ 12 ,21 ,23,43]\n",
    "l2 = l\n",
    "l2[1] = -22222222\n",
    "print(l)"
   ]
  },
  {
   "cell_type": "code",
   "execution_count": null,
   "id": "412905da-fe8d-479b-8db8-3519c3117f32",
   "metadata": {},
   "outputs": [],
   "source": []
  }
 ],
 "metadata": {
  "kernelspec": {
   "display_name": "Python 3 (ipykernel)",
   "language": "python",
   "name": "python3"
  },
  "language_info": {
   "codemirror_mode": {
    "name": "ipython",
    "version": 3
   },
   "file_extension": ".py",
   "mimetype": "text/x-python",
   "name": "python",
   "nbconvert_exporter": "python",
   "pygments_lexer": "ipython3",
   "version": "3.11.5"
  }
 },
 "nbformat": 4,
 "nbformat_minor": 5
}
